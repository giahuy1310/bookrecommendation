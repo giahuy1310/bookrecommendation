{
  "cells": [
    {
      "cell_type": "markdown",
      "metadata": {
        "id": "GvITKeEzSb4x"
      },
      "source": [
        "# import data\n"
      ]
    },
    {
      "cell_type": "markdown",
      "metadata": {
        "id": "7hX49Mwlo-kc"
      },
      "source": [
        "#Using apache spark"
      ]
    },
    {
      "cell_type": "code",
      "execution_count": 1,
      "metadata": {
        "colab": {
          "base_uri": "https://localhost:8080/"
        },
        "collapsed": true,
        "id": "RVQkOJ6cpJe3",
        "outputId": "165441ba-9827-49ff-a2d2-5b8c70da5544"
      },
      "outputs": [
        {
          "name": "stdout",
          "output_type": "stream",
          "text": [
            "Requirement already satisfied: pyspark in /Library/Frameworks/Python.framework/Versions/3.10/lib/python3.10/site-packages (3.5.5)\n",
            "Requirement already satisfied: py4j==0.10.9.7 in /Library/Frameworks/Python.framework/Versions/3.10/lib/python3.10/site-packages (from pyspark) (0.10.9.7)\n",
            "\n",
            "\u001b[1m[\u001b[0m\u001b[34;49mnotice\u001b[0m\u001b[1;39;49m]\u001b[0m\u001b[39;49m A new release of pip available: \u001b[0m\u001b[31;49m22.3.1\u001b[0m\u001b[39;49m -> \u001b[0m\u001b[32;49m25.1.1\u001b[0m\n",
            "\u001b[1m[\u001b[0m\u001b[34;49mnotice\u001b[0m\u001b[1;39;49m]\u001b[0m\u001b[39;49m To update, run: \u001b[0m\u001b[32;49mpip3 install --upgrade pip\u001b[0m\n",
            "Note: you may need to restart the kernel to use updated packages.\n",
            "Requirement already satisfied: findspark in /Library/Frameworks/Python.framework/Versions/3.10/lib/python3.10/site-packages (2.0.1)\n",
            "\n",
            "\u001b[1m[\u001b[0m\u001b[34;49mnotice\u001b[0m\u001b[1;39;49m]\u001b[0m\u001b[39;49m A new release of pip available: \u001b[0m\u001b[31;49m22.3.1\u001b[0m\u001b[39;49m -> \u001b[0m\u001b[32;49m25.1.1\u001b[0m\n",
            "\u001b[1m[\u001b[0m\u001b[34;49mnotice\u001b[0m\u001b[1;39;49m]\u001b[0m\u001b[39;49m To update, run: \u001b[0m\u001b[32;49mpip3 install --upgrade pip\u001b[0m\n",
            "Note: you may need to restart the kernel to use updated packages.\n",
            "Requirement already satisfied: implicit in /Library/Frameworks/Python.framework/Versions/3.10/lib/python3.10/site-packages (0.7.2)\n",
            "Requirement already satisfied: threadpoolctl in /Library/Frameworks/Python.framework/Versions/3.10/lib/python3.10/site-packages (from implicit) (3.6.0)\n",
            "Requirement already satisfied: numpy>=1.17.0 in /Library/Frameworks/Python.framework/Versions/3.10/lib/python3.10/site-packages (from implicit) (2.2.5)\n",
            "Requirement already satisfied: scipy>=0.16 in /Library/Frameworks/Python.framework/Versions/3.10/lib/python3.10/site-packages (from implicit) (1.15.3)\n",
            "Requirement already satisfied: tqdm>=4.27 in /Library/Frameworks/Python.framework/Versions/3.10/lib/python3.10/site-packages (from implicit) (4.67.1)\n",
            "\n",
            "\u001b[1m[\u001b[0m\u001b[34;49mnotice\u001b[0m\u001b[1;39;49m]\u001b[0m\u001b[39;49m A new release of pip available: \u001b[0m\u001b[31;49m22.3.1\u001b[0m\u001b[39;49m -> \u001b[0m\u001b[32;49m25.1.1\u001b[0m\n",
            "\u001b[1m[\u001b[0m\u001b[34;49mnotice\u001b[0m\u001b[1;39;49m]\u001b[0m\u001b[39;49m To update, run: \u001b[0m\u001b[32;49mpip3 install --upgrade pip\u001b[0m\n",
            "Note: you may need to restart the kernel to use updated packages.\n",
            "Requirement already satisfied: pandas in /Library/Frameworks/Python.framework/Versions/3.10/lib/python3.10/site-packages (2.2.3)\n",
            "Requirement already satisfied: tzdata>=2022.7 in /Library/Frameworks/Python.framework/Versions/3.10/lib/python3.10/site-packages (from pandas) (2025.2)\n",
            "Requirement already satisfied: numpy>=1.22.4 in /Library/Frameworks/Python.framework/Versions/3.10/lib/python3.10/site-packages (from pandas) (2.2.5)\n",
            "Requirement already satisfied: python-dateutil>=2.8.2 in /Users/giahuy/Library/Python/3.10/lib/python/site-packages (from pandas) (2.9.0.post0)\n",
            "Requirement already satisfied: pytz>=2020.1 in /Library/Frameworks/Python.framework/Versions/3.10/lib/python3.10/site-packages (from pandas) (2025.2)\n",
            "Requirement already satisfied: six>=1.5 in /Users/giahuy/Library/Python/3.10/lib/python/site-packages (from python-dateutil>=2.8.2->pandas) (1.17.0)\n",
            "\n",
            "\u001b[1m[\u001b[0m\u001b[34;49mnotice\u001b[0m\u001b[1;39;49m]\u001b[0m\u001b[39;49m A new release of pip available: \u001b[0m\u001b[31;49m22.3.1\u001b[0m\u001b[39;49m -> \u001b[0m\u001b[32;49m25.1.1\u001b[0m\n",
            "\u001b[1m[\u001b[0m\u001b[34;49mnotice\u001b[0m\u001b[1;39;49m]\u001b[0m\u001b[39;49m To update, run: \u001b[0m\u001b[32;49mpip3 install --upgrade pip\u001b[0m\n",
            "Note: you may need to restart the kernel to use updated packages.\n",
            "Requirement already satisfied: numpy in /Library/Frameworks/Python.framework/Versions/3.10/lib/python3.10/site-packages (2.2.5)\n",
            "\n",
            "\u001b[1m[\u001b[0m\u001b[34;49mnotice\u001b[0m\u001b[1;39;49m]\u001b[0m\u001b[39;49m A new release of pip available: \u001b[0m\u001b[31;49m22.3.1\u001b[0m\u001b[39;49m -> \u001b[0m\u001b[32;49m25.1.1\u001b[0m\n",
            "\u001b[1m[\u001b[0m\u001b[34;49mnotice\u001b[0m\u001b[1;39;49m]\u001b[0m\u001b[39;49m To update, run: \u001b[0m\u001b[32;49mpip3 install --upgrade pip\u001b[0m\n",
            "Note: you may need to restart the kernel to use updated packages.\n",
            "\u001b[31mERROR: Could not find a version that satisfies the requirement os (from versions: none)\u001b[0m\u001b[31m\n",
            "\u001b[0m\u001b[31mERROR: No matching distribution found for os\u001b[0m\u001b[31m\n",
            "\u001b[0m\n",
            "\u001b[1m[\u001b[0m\u001b[34;49mnotice\u001b[0m\u001b[1;39;49m]\u001b[0m\u001b[39;49m A new release of pip available: \u001b[0m\u001b[31;49m22.3.1\u001b[0m\u001b[39;49m -> \u001b[0m\u001b[32;49m25.1.1\u001b[0m\n",
            "\u001b[1m[\u001b[0m\u001b[34;49mnotice\u001b[0m\u001b[1;39;49m]\u001b[0m\u001b[39;49m To update, run: \u001b[0m\u001b[32;49mpip3 install --upgrade pip\u001b[0m\n",
            "Note: you may need to restart the kernel to use updated packages.\n",
            "Requirement already satisfied: matplotlib in /Library/Frameworks/Python.framework/Versions/3.10/lib/python3.10/site-packages (3.10.3)\n",
            "Requirement already satisfied: kiwisolver>=1.3.1 in /Library/Frameworks/Python.framework/Versions/3.10/lib/python3.10/site-packages (from matplotlib) (1.4.8)\n",
            "Requirement already satisfied: contourpy>=1.0.1 in /Library/Frameworks/Python.framework/Versions/3.10/lib/python3.10/site-packages (from matplotlib) (1.3.2)\n",
            "Requirement already satisfied: pillow>=8 in /Library/Frameworks/Python.framework/Versions/3.10/lib/python3.10/site-packages (from matplotlib) (11.2.1)\n",
            "Requirement already satisfied: numpy>=1.23 in /Library/Frameworks/Python.framework/Versions/3.10/lib/python3.10/site-packages (from matplotlib) (2.2.5)\n",
            "Requirement already satisfied: packaging>=20.0 in /Users/giahuy/Library/Python/3.10/lib/python/site-packages (from matplotlib) (25.0)\n",
            "Requirement already satisfied: pyparsing>=2.3.1 in /Library/Frameworks/Python.framework/Versions/3.10/lib/python3.10/site-packages (from matplotlib) (3.2.3)\n",
            "Requirement already satisfied: python-dateutil>=2.7 in /Users/giahuy/Library/Python/3.10/lib/python/site-packages (from matplotlib) (2.9.0.post0)\n",
            "Requirement already satisfied: cycler>=0.10 in /Library/Frameworks/Python.framework/Versions/3.10/lib/python3.10/site-packages (from matplotlib) (0.12.1)\n",
            "Requirement already satisfied: fonttools>=4.22.0 in /Library/Frameworks/Python.framework/Versions/3.10/lib/python3.10/site-packages (from matplotlib) (4.58.0)\n",
            "Requirement already satisfied: six>=1.5 in /Users/giahuy/Library/Python/3.10/lib/python/site-packages (from python-dateutil>=2.7->matplotlib) (1.17.0)\n",
            "\n",
            "\u001b[1m[\u001b[0m\u001b[34;49mnotice\u001b[0m\u001b[1;39;49m]\u001b[0m\u001b[39;49m A new release of pip available: \u001b[0m\u001b[31;49m22.3.1\u001b[0m\u001b[39;49m -> \u001b[0m\u001b[32;49m25.1.1\u001b[0m\n",
            "\u001b[1m[\u001b[0m\u001b[34;49mnotice\u001b[0m\u001b[1;39;49m]\u001b[0m\u001b[39;49m To update, run: \u001b[0m\u001b[32;49mpip3 install --upgrade pip\u001b[0m\n",
            "Note: you may need to restart the kernel to use updated packages.\n",
            "Requirement already satisfied: seaborn in /Library/Frameworks/Python.framework/Versions/3.10/lib/python3.10/site-packages (0.13.2)\n",
            "Requirement already satisfied: pandas>=1.2 in /Library/Frameworks/Python.framework/Versions/3.10/lib/python3.10/site-packages (from seaborn) (2.2.3)\n",
            "Requirement already satisfied: numpy!=1.24.0,>=1.20 in /Library/Frameworks/Python.framework/Versions/3.10/lib/python3.10/site-packages (from seaborn) (2.2.5)\n",
            "Requirement already satisfied: matplotlib!=3.6.1,>=3.4 in /Library/Frameworks/Python.framework/Versions/3.10/lib/python3.10/site-packages (from seaborn) (3.10.3)\n",
            "Requirement already satisfied: cycler>=0.10 in /Library/Frameworks/Python.framework/Versions/3.10/lib/python3.10/site-packages (from matplotlib!=3.6.1,>=3.4->seaborn) (0.12.1)\n",
            "Requirement already satisfied: pyparsing>=2.3.1 in /Library/Frameworks/Python.framework/Versions/3.10/lib/python3.10/site-packages (from matplotlib!=3.6.1,>=3.4->seaborn) (3.2.3)\n",
            "Requirement already satisfied: kiwisolver>=1.3.1 in /Library/Frameworks/Python.framework/Versions/3.10/lib/python3.10/site-packages (from matplotlib!=3.6.1,>=3.4->seaborn) (1.4.8)\n",
            "Requirement already satisfied: contourpy>=1.0.1 in /Library/Frameworks/Python.framework/Versions/3.10/lib/python3.10/site-packages (from matplotlib!=3.6.1,>=3.4->seaborn) (1.3.2)\n",
            "Requirement already satisfied: pillow>=8 in /Library/Frameworks/Python.framework/Versions/3.10/lib/python3.10/site-packages (from matplotlib!=3.6.1,>=3.4->seaborn) (11.2.1)\n",
            "Requirement already satisfied: python-dateutil>=2.7 in /Users/giahuy/Library/Python/3.10/lib/python/site-packages (from matplotlib!=3.6.1,>=3.4->seaborn) (2.9.0.post0)\n",
            "Requirement already satisfied: fonttools>=4.22.0 in /Library/Frameworks/Python.framework/Versions/3.10/lib/python3.10/site-packages (from matplotlib!=3.6.1,>=3.4->seaborn) (4.58.0)\n",
            "Requirement already satisfied: packaging>=20.0 in /Users/giahuy/Library/Python/3.10/lib/python/site-packages (from matplotlib!=3.6.1,>=3.4->seaborn) (25.0)\n",
            "Requirement already satisfied: pytz>=2020.1 in /Library/Frameworks/Python.framework/Versions/3.10/lib/python3.10/site-packages (from pandas>=1.2->seaborn) (2025.2)\n",
            "Requirement already satisfied: tzdata>=2022.7 in /Library/Frameworks/Python.framework/Versions/3.10/lib/python3.10/site-packages (from pandas>=1.2->seaborn) (2025.2)\n",
            "Requirement already satisfied: six>=1.5 in /Users/giahuy/Library/Python/3.10/lib/python/site-packages (from python-dateutil>=2.7->matplotlib!=3.6.1,>=3.4->seaborn) (1.17.0)\n",
            "\n",
            "\u001b[1m[\u001b[0m\u001b[34;49mnotice\u001b[0m\u001b[1;39;49m]\u001b[0m\u001b[39;49m A new release of pip available: \u001b[0m\u001b[31;49m22.3.1\u001b[0m\u001b[39;49m -> \u001b[0m\u001b[32;49m25.1.1\u001b[0m\n",
            "\u001b[1m[\u001b[0m\u001b[34;49mnotice\u001b[0m\u001b[1;39;49m]\u001b[0m\u001b[39;49m To update, run: \u001b[0m\u001b[32;49mpip3 install --upgrade pip\u001b[0m\n",
            "Note: you may need to restart the kernel to use updated packages.\n",
            "Requirement already satisfied: jupyter in /Library/Frameworks/Python.framework/Versions/3.10/lib/python3.10/site-packages (1.1.1)\n",
            "Requirement already satisfied: jupyter-console in /Library/Frameworks/Python.framework/Versions/3.10/lib/python3.10/site-packages (from jupyter) (6.6.3)\n",
            "Requirement already satisfied: notebook in /Library/Frameworks/Python.framework/Versions/3.10/lib/python3.10/site-packages (from jupyter) (7.4.2)\n",
            "Requirement already satisfied: jupyterlab in /Library/Frameworks/Python.framework/Versions/3.10/lib/python3.10/site-packages (from jupyter) (4.4.2)\n",
            "Requirement already satisfied: ipykernel in /Users/giahuy/Library/Python/3.10/lib/python/site-packages (from jupyter) (6.29.5)\n",
            "Requirement already satisfied: ipywidgets in /Library/Frameworks/Python.framework/Versions/3.10/lib/python3.10/site-packages (from jupyter) (8.1.7)\n",
            "Requirement already satisfied: nbconvert in /Library/Frameworks/Python.framework/Versions/3.10/lib/python3.10/site-packages (from jupyter) (7.16.6)\n",
            "Requirement already satisfied: appnope in /Users/giahuy/Library/Python/3.10/lib/python/site-packages (from ipykernel->jupyter) (0.1.4)\n",
            "Requirement already satisfied: jupyter-core!=5.0.*,>=4.12 in /Users/giahuy/Library/Python/3.10/lib/python/site-packages (from ipykernel->jupyter) (5.7.2)\n",
            "Requirement already satisfied: debugpy>=1.6.5 in /Users/giahuy/Library/Python/3.10/lib/python/site-packages (from ipykernel->jupyter) (1.8.14)\n",
            "Requirement already satisfied: matplotlib-inline>=0.1 in /Users/giahuy/Library/Python/3.10/lib/python/site-packages (from ipykernel->jupyter) (0.1.7)\n",
            "Requirement already satisfied: nest-asyncio in /Users/giahuy/Library/Python/3.10/lib/python/site-packages (from ipykernel->jupyter) (1.6.0)\n",
            "Requirement already satisfied: psutil in /Users/giahuy/Library/Python/3.10/lib/python/site-packages (from ipykernel->jupyter) (7.0.0)\n",
            "Requirement already satisfied: ipython>=7.23.1 in /Users/giahuy/Library/Python/3.10/lib/python/site-packages (from ipykernel->jupyter) (8.36.0)\n",
            "Requirement already satisfied: pyzmq>=24 in /Users/giahuy/Library/Python/3.10/lib/python/site-packages (from ipykernel->jupyter) (26.4.0)\n",
            "Requirement already satisfied: packaging in /Users/giahuy/Library/Python/3.10/lib/python/site-packages (from ipykernel->jupyter) (25.0)\n",
            "Requirement already satisfied: comm>=0.1.1 in /Users/giahuy/Library/Python/3.10/lib/python/site-packages (from ipykernel->jupyter) (0.2.2)\n",
            "Requirement already satisfied: jupyter-client>=6.1.12 in /Users/giahuy/Library/Python/3.10/lib/python/site-packages (from ipykernel->jupyter) (8.6.3)\n",
            "Requirement already satisfied: traitlets>=5.4.0 in /Users/giahuy/Library/Python/3.10/lib/python/site-packages (from ipykernel->jupyter) (5.14.3)\n",
            "Requirement already satisfied: tornado>=6.1 in /Users/giahuy/Library/Python/3.10/lib/python/site-packages (from ipykernel->jupyter) (6.4.2)\n",
            "Requirement already satisfied: jupyterlab_widgets~=3.0.15 in /Library/Frameworks/Python.framework/Versions/3.10/lib/python3.10/site-packages (from ipywidgets->jupyter) (3.0.15)\n",
            "Requirement already satisfied: widgetsnbextension~=4.0.14 in /Library/Frameworks/Python.framework/Versions/3.10/lib/python3.10/site-packages (from ipywidgets->jupyter) (4.0.14)\n",
            "Requirement already satisfied: prompt-toolkit>=3.0.30 in /Users/giahuy/Library/Python/3.10/lib/python/site-packages (from jupyter-console->jupyter) (3.0.51)\n",
            "Requirement already satisfied: pygments in /Users/giahuy/Library/Python/3.10/lib/python/site-packages (from jupyter-console->jupyter) (2.19.1)\n",
            "Requirement already satisfied: setuptools>=41.1.0 in /Library/Frameworks/Python.framework/Versions/3.10/lib/python3.10/site-packages (from jupyterlab->jupyter) (65.5.0)\n",
            "Requirement already satisfied: jupyterlab-server<3,>=2.27.1 in /Library/Frameworks/Python.framework/Versions/3.10/lib/python3.10/site-packages (from jupyterlab->jupyter) (2.27.3)\n",
            "Requirement already satisfied: notebook-shim>=0.2 in /Library/Frameworks/Python.framework/Versions/3.10/lib/python3.10/site-packages (from jupyterlab->jupyter) (0.2.4)\n",
            "Requirement already satisfied: jinja2>=3.0.3 in /Library/Frameworks/Python.framework/Versions/3.10/lib/python3.10/site-packages (from jupyterlab->jupyter) (3.1.6)\n",
            "Requirement already satisfied: async-lru>=1.0.0 in /Library/Frameworks/Python.framework/Versions/3.10/lib/python3.10/site-packages (from jupyterlab->jupyter) (2.0.5)\n",
            "Requirement already satisfied: tomli>=1.2.2 in /Library/Frameworks/Python.framework/Versions/3.10/lib/python3.10/site-packages (from jupyterlab->jupyter) (2.2.1)\n",
            "Requirement already satisfied: jupyter-server<3,>=2.4.0 in /Library/Frameworks/Python.framework/Versions/3.10/lib/python3.10/site-packages (from jupyterlab->jupyter) (2.16.0)\n",
            "Requirement already satisfied: jupyter-lsp>=2.0.0 in /Library/Frameworks/Python.framework/Versions/3.10/lib/python3.10/site-packages (from jupyterlab->jupyter) (2.2.5)\n",
            "Requirement already satisfied: httpx>=0.25.0 in /Library/Frameworks/Python.framework/Versions/3.10/lib/python3.10/site-packages (from jupyterlab->jupyter) (0.28.1)\n",
            "Requirement already satisfied: defusedxml in /Library/Frameworks/Python.framework/Versions/3.10/lib/python3.10/site-packages (from nbconvert->jupyter) (0.7.1)\n",
            "Requirement already satisfied: nbformat>=5.7 in /Library/Frameworks/Python.framework/Versions/3.10/lib/python3.10/site-packages (from nbconvert->jupyter) (5.10.4)\n",
            "Requirement already satisfied: beautifulsoup4 in /Library/Frameworks/Python.framework/Versions/3.10/lib/python3.10/site-packages (from nbconvert->jupyter) (4.13.4)\n",
            "Requirement already satisfied: nbclient>=0.5.0 in /Library/Frameworks/Python.framework/Versions/3.10/lib/python3.10/site-packages (from nbconvert->jupyter) (0.10.2)\n",
            "Requirement already satisfied: pandocfilters>=1.4.1 in /Library/Frameworks/Python.framework/Versions/3.10/lib/python3.10/site-packages (from nbconvert->jupyter) (1.5.1)\n",
            "Requirement already satisfied: markupsafe>=2.0 in /Library/Frameworks/Python.framework/Versions/3.10/lib/python3.10/site-packages (from nbconvert->jupyter) (3.0.2)\n",
            "Requirement already satisfied: mistune<4,>=2.0.3 in /Library/Frameworks/Python.framework/Versions/3.10/lib/python3.10/site-packages (from nbconvert->jupyter) (3.1.3)\n",
            "Requirement already satisfied: bleach[css]!=5.0.0 in /Library/Frameworks/Python.framework/Versions/3.10/lib/python3.10/site-packages (from nbconvert->jupyter) (6.2.0)\n",
            "Requirement already satisfied: jupyterlab-pygments in /Library/Frameworks/Python.framework/Versions/3.10/lib/python3.10/site-packages (from nbconvert->jupyter) (0.3.0)\n",
            "Requirement already satisfied: typing_extensions>=4.0.0 in /Users/giahuy/Library/Python/3.10/lib/python/site-packages (from async-lru>=1.0.0->jupyterlab->jupyter) (4.13.2)\n",
            "Requirement already satisfied: webencodings in /Library/Frameworks/Python.framework/Versions/3.10/lib/python3.10/site-packages (from bleach[css]!=5.0.0->nbconvert->jupyter) (0.5.1)\n",
            "Requirement already satisfied: tinycss2<1.5,>=1.1.0 in /Library/Frameworks/Python.framework/Versions/3.10/lib/python3.10/site-packages (from bleach[css]!=5.0.0->nbconvert->jupyter) (1.4.0)\n",
            "Requirement already satisfied: httpcore==1.* in /Library/Frameworks/Python.framework/Versions/3.10/lib/python3.10/site-packages (from httpx>=0.25.0->jupyterlab->jupyter) (1.0.9)\n",
            "Requirement already satisfied: idna in /Library/Frameworks/Python.framework/Versions/3.10/lib/python3.10/site-packages (from httpx>=0.25.0->jupyterlab->jupyter) (3.10)\n",
            "Requirement already satisfied: certifi in /Library/Frameworks/Python.framework/Versions/3.10/lib/python3.10/site-packages (from httpx>=0.25.0->jupyterlab->jupyter) (2025.4.26)\n",
            "Requirement already satisfied: anyio in /Library/Frameworks/Python.framework/Versions/3.10/lib/python3.10/site-packages (from httpx>=0.25.0->jupyterlab->jupyter) (4.9.0)\n",
            "Requirement already satisfied: h11>=0.16 in /Library/Frameworks/Python.framework/Versions/3.10/lib/python3.10/site-packages (from httpcore==1.*->httpx>=0.25.0->jupyterlab->jupyter) (0.16.0)\n",
            "Requirement already satisfied: decorator in /Users/giahuy/Library/Python/3.10/lib/python/site-packages (from ipython>=7.23.1->ipykernel->jupyter) (5.2.1)\n",
            "Requirement already satisfied: stack_data in /Users/giahuy/Library/Python/3.10/lib/python/site-packages (from ipython>=7.23.1->ipykernel->jupyter) (0.6.3)\n",
            "Requirement already satisfied: exceptiongroup in /Users/giahuy/Library/Python/3.10/lib/python/site-packages (from ipython>=7.23.1->ipykernel->jupyter) (1.2.2)\n",
            "Requirement already satisfied: jedi>=0.16 in /Users/giahuy/Library/Python/3.10/lib/python/site-packages (from ipython>=7.23.1->ipykernel->jupyter) (0.19.2)\n",
            "Requirement already satisfied: pexpect>4.3 in /Users/giahuy/Library/Python/3.10/lib/python/site-packages (from ipython>=7.23.1->ipykernel->jupyter) (4.9.0)\n",
            "Requirement already satisfied: python-dateutil>=2.8.2 in /Users/giahuy/Library/Python/3.10/lib/python/site-packages (from jupyter-client>=6.1.12->ipykernel->jupyter) (2.9.0.post0)\n",
            "Requirement already satisfied: platformdirs>=2.5 in /Users/giahuy/Library/Python/3.10/lib/python/site-packages (from jupyter-core!=5.0.*,>=4.12->ipykernel->jupyter) (4.3.7)\n",
            "Requirement already satisfied: send2trash>=1.8.2 in /Library/Frameworks/Python.framework/Versions/3.10/lib/python3.10/site-packages (from jupyter-server<3,>=2.4.0->jupyterlab->jupyter) (1.8.3)\n",
            "Requirement already satisfied: terminado>=0.8.3 in /Library/Frameworks/Python.framework/Versions/3.10/lib/python3.10/site-packages (from jupyter-server<3,>=2.4.0->jupyterlab->jupyter) (0.18.1)\n",
            "Requirement already satisfied: jupyter-server-terminals>=0.4.4 in /Library/Frameworks/Python.framework/Versions/3.10/lib/python3.10/site-packages (from jupyter-server<3,>=2.4.0->jupyterlab->jupyter) (0.5.3)\n",
            "Requirement already satisfied: argon2-cffi>=21.1 in /Library/Frameworks/Python.framework/Versions/3.10/lib/python3.10/site-packages (from jupyter-server<3,>=2.4.0->jupyterlab->jupyter) (23.1.0)\n",
            "Requirement already satisfied: websocket-client>=1.7 in /Library/Frameworks/Python.framework/Versions/3.10/lib/python3.10/site-packages (from jupyter-server<3,>=2.4.0->jupyterlab->jupyter) (1.8.0)\n",
            "Requirement already satisfied: jupyter-events>=0.11.0 in /Library/Frameworks/Python.framework/Versions/3.10/lib/python3.10/site-packages (from jupyter-server<3,>=2.4.0->jupyterlab->jupyter) (0.12.0)\n",
            "Requirement already satisfied: overrides>=5.0 in /Library/Frameworks/Python.framework/Versions/3.10/lib/python3.10/site-packages (from jupyter-server<3,>=2.4.0->jupyterlab->jupyter) (7.7.0)\n",
            "Requirement already satisfied: prometheus-client>=0.9 in /Library/Frameworks/Python.framework/Versions/3.10/lib/python3.10/site-packages (from jupyter-server<3,>=2.4.0->jupyterlab->jupyter) (0.22.0)\n",
            "Requirement already satisfied: babel>=2.10 in /Library/Frameworks/Python.framework/Versions/3.10/lib/python3.10/site-packages (from jupyterlab-server<3,>=2.27.1->jupyterlab->jupyter) (2.17.0)\n",
            "Requirement already satisfied: requests>=2.31 in /Library/Frameworks/Python.framework/Versions/3.10/lib/python3.10/site-packages (from jupyterlab-server<3,>=2.27.1->jupyterlab->jupyter) (2.32.3)\n",
            "Requirement already satisfied: jsonschema>=4.18.0 in /Library/Frameworks/Python.framework/Versions/3.10/lib/python3.10/site-packages (from jupyterlab-server<3,>=2.27.1->jupyterlab->jupyter) (4.23.0)\n",
            "Requirement already satisfied: json5>=0.9.0 in /Library/Frameworks/Python.framework/Versions/3.10/lib/python3.10/site-packages (from jupyterlab-server<3,>=2.27.1->jupyterlab->jupyter) (0.12.0)\n",
            "Requirement already satisfied: fastjsonschema>=2.15 in /Library/Frameworks/Python.framework/Versions/3.10/lib/python3.10/site-packages (from nbformat>=5.7->nbconvert->jupyter) (2.21.1)\n",
            "Requirement already satisfied: wcwidth in /Users/giahuy/Library/Python/3.10/lib/python/site-packages (from prompt-toolkit>=3.0.30->jupyter-console->jupyter) (0.2.13)\n",
            "Requirement already satisfied: soupsieve>1.2 in /Library/Frameworks/Python.framework/Versions/3.10/lib/python3.10/site-packages (from beautifulsoup4->nbconvert->jupyter) (2.7)\n",
            "Requirement already satisfied: sniffio>=1.1 in /Library/Frameworks/Python.framework/Versions/3.10/lib/python3.10/site-packages (from anyio->httpx>=0.25.0->jupyterlab->jupyter) (1.3.1)\n",
            "Requirement already satisfied: argon2-cffi-bindings in /Library/Frameworks/Python.framework/Versions/3.10/lib/python3.10/site-packages (from argon2-cffi>=21.1->jupyter-server<3,>=2.4.0->jupyterlab->jupyter) (21.2.0)\n",
            "Requirement already satisfied: parso<0.9.0,>=0.8.4 in /Users/giahuy/Library/Python/3.10/lib/python/site-packages (from jedi>=0.16->ipython>=7.23.1->ipykernel->jupyter) (0.8.4)\n",
            "Requirement already satisfied: rpds-py>=0.7.1 in /Library/Frameworks/Python.framework/Versions/3.10/lib/python3.10/site-packages (from jsonschema>=4.18.0->jupyterlab-server<3,>=2.27.1->jupyterlab->jupyter) (0.25.0)\n",
            "Requirement already satisfied: jsonschema-specifications>=2023.03.6 in /Library/Frameworks/Python.framework/Versions/3.10/lib/python3.10/site-packages (from jsonschema>=4.18.0->jupyterlab-server<3,>=2.27.1->jupyterlab->jupyter) (2025.4.1)\n",
            "Requirement already satisfied: referencing>=0.28.4 in /Library/Frameworks/Python.framework/Versions/3.10/lib/python3.10/site-packages (from jsonschema>=4.18.0->jupyterlab-server<3,>=2.27.1->jupyterlab->jupyter) (0.36.2)\n",
            "Requirement already satisfied: attrs>=22.2.0 in /Library/Frameworks/Python.framework/Versions/3.10/lib/python3.10/site-packages (from jsonschema>=4.18.0->jupyterlab-server<3,>=2.27.1->jupyterlab->jupyter) (25.3.0)\n",
            "Requirement already satisfied: rfc3986-validator>=0.1.1 in /Library/Frameworks/Python.framework/Versions/3.10/lib/python3.10/site-packages (from jupyter-events>=0.11.0->jupyter-server<3,>=2.4.0->jupyterlab->jupyter) (0.1.1)\n",
            "Requirement already satisfied: pyyaml>=5.3 in /Library/Frameworks/Python.framework/Versions/3.10/lib/python3.10/site-packages (from jupyter-events>=0.11.0->jupyter-server<3,>=2.4.0->jupyterlab->jupyter) (6.0.2)\n",
            "Requirement already satisfied: python-json-logger>=2.0.4 in /Library/Frameworks/Python.framework/Versions/3.10/lib/python3.10/site-packages (from jupyter-events>=0.11.0->jupyter-server<3,>=2.4.0->jupyterlab->jupyter) (3.3.0)\n",
            "Requirement already satisfied: rfc3339-validator in /Library/Frameworks/Python.framework/Versions/3.10/lib/python3.10/site-packages (from jupyter-events>=0.11.0->jupyter-server<3,>=2.4.0->jupyterlab->jupyter) (0.1.4)\n",
            "Requirement already satisfied: ptyprocess>=0.5 in /Users/giahuy/Library/Python/3.10/lib/python/site-packages (from pexpect>4.3->ipython>=7.23.1->ipykernel->jupyter) (0.7.0)\n",
            "Requirement already satisfied: six>=1.5 in /Users/giahuy/Library/Python/3.10/lib/python/site-packages (from python-dateutil>=2.8.2->jupyter-client>=6.1.12->ipykernel->jupyter) (1.17.0)\n",
            "Requirement already satisfied: charset-normalizer<4,>=2 in /Library/Frameworks/Python.framework/Versions/3.10/lib/python3.10/site-packages (from requests>=2.31->jupyterlab-server<3,>=2.27.1->jupyterlab->jupyter) (3.4.2)\n",
            "Requirement already satisfied: urllib3<3,>=1.21.1 in /Library/Frameworks/Python.framework/Versions/3.10/lib/python3.10/site-packages (from requests>=2.31->jupyterlab-server<3,>=2.27.1->jupyterlab->jupyter) (2.4.0)\n",
            "Requirement already satisfied: pure-eval in /Users/giahuy/Library/Python/3.10/lib/python/site-packages (from stack_data->ipython>=7.23.1->ipykernel->jupyter) (0.2.3)\n",
            "Requirement already satisfied: executing>=1.2.0 in /Users/giahuy/Library/Python/3.10/lib/python/site-packages (from stack_data->ipython>=7.23.1->ipykernel->jupyter) (2.2.0)\n",
            "Requirement already satisfied: asttokens>=2.1.0 in /Users/giahuy/Library/Python/3.10/lib/python/site-packages (from stack_data->ipython>=7.23.1->ipykernel->jupyter) (3.0.0)\n",
            "Requirement already satisfied: fqdn in /Library/Frameworks/Python.framework/Versions/3.10/lib/python3.10/site-packages (from jsonschema>=4.18.0->jupyterlab-server<3,>=2.27.1->jupyterlab->jupyter) (1.5.1)\n",
            "Requirement already satisfied: isoduration in /Library/Frameworks/Python.framework/Versions/3.10/lib/python3.10/site-packages (from jsonschema>=4.18.0->jupyterlab-server<3,>=2.27.1->jupyterlab->jupyter) (20.11.0)\n",
            "Requirement already satisfied: webcolors>=24.6.0 in /Library/Frameworks/Python.framework/Versions/3.10/lib/python3.10/site-packages (from jsonschema>=4.18.0->jupyterlab-server<3,>=2.27.1->jupyterlab->jupyter) (24.11.1)\n",
            "Requirement already satisfied: jsonpointer>1.13 in /Library/Frameworks/Python.framework/Versions/3.10/lib/python3.10/site-packages (from jsonschema>=4.18.0->jupyterlab-server<3,>=2.27.1->jupyterlab->jupyter) (3.0.0)\n",
            "Requirement already satisfied: uri-template in /Library/Frameworks/Python.framework/Versions/3.10/lib/python3.10/site-packages (from jsonschema>=4.18.0->jupyterlab-server<3,>=2.27.1->jupyterlab->jupyter) (1.3.0)\n",
            "Requirement already satisfied: cffi>=1.0.1 in /Library/Frameworks/Python.framework/Versions/3.10/lib/python3.10/site-packages (from argon2-cffi-bindings->argon2-cffi>=21.1->jupyter-server<3,>=2.4.0->jupyterlab->jupyter) (1.17.1)\n",
            "Requirement already satisfied: pycparser in /Library/Frameworks/Python.framework/Versions/3.10/lib/python3.10/site-packages (from cffi>=1.0.1->argon2-cffi-bindings->argon2-cffi>=21.1->jupyter-server<3,>=2.4.0->jupyterlab->jupyter) (2.22)\n",
            "Requirement already satisfied: arrow>=0.15.0 in /Library/Frameworks/Python.framework/Versions/3.10/lib/python3.10/site-packages (from isoduration->jsonschema>=4.18.0->jupyterlab-server<3,>=2.27.1->jupyterlab->jupyter) (1.3.0)\n",
            "Requirement already satisfied: types-python-dateutil>=2.8.10 in /Library/Frameworks/Python.framework/Versions/3.10/lib/python3.10/site-packages (from arrow>=0.15.0->isoduration->jsonschema>=4.18.0->jupyterlab-server<3,>=2.27.1->jupyterlab->jupyter) (2.9.0.20250516)\n",
            "\n",
            "\u001b[1m[\u001b[0m\u001b[34;49mnotice\u001b[0m\u001b[1;39;49m]\u001b[0m\u001b[39;49m A new release of pip available: \u001b[0m\u001b[31;49m22.3.1\u001b[0m\u001b[39;49m -> \u001b[0m\u001b[32;49m25.1.1\u001b[0m\n",
            "\u001b[1m[\u001b[0m\u001b[34;49mnotice\u001b[0m\u001b[1;39;49m]\u001b[0m\u001b[39;49m To update, run: \u001b[0m\u001b[32;49mpip3 install --upgrade pip\u001b[0m\n",
            "Note: you may need to restart the kernel to use updated packages.\n",
            "Requirement already satisfied: wget in /Library/Frameworks/Python.framework/Versions/3.10/lib/python3.10/site-packages (3.2)\n",
            "\n",
            "\u001b[1m[\u001b[0m\u001b[34;49mnotice\u001b[0m\u001b[1;39;49m]\u001b[0m\u001b[39;49m A new release of pip available: \u001b[0m\u001b[31;49m22.3.1\u001b[0m\u001b[39;49m -> \u001b[0m\u001b[32;49m25.1.1\u001b[0m\n",
            "\u001b[1m[\u001b[0m\u001b[34;49mnotice\u001b[0m\u001b[1;39;49m]\u001b[0m\u001b[39;49m To update, run: \u001b[0m\u001b[32;49mpip3 install --upgrade pip\u001b[0m\n",
            "Note: you may need to restart the kernel to use updated packages.\n",
            "Requirement already satisfied: unzip in /Library/Frameworks/Python.framework/Versions/3.10/lib/python3.10/site-packages (1.0.0)\n",
            "\n",
            "\u001b[1m[\u001b[0m\u001b[34;49mnotice\u001b[0m\u001b[1;39;49m]\u001b[0m\u001b[39;49m A new release of pip available: \u001b[0m\u001b[31;49m22.3.1\u001b[0m\u001b[39;49m -> \u001b[0m\u001b[32;49m25.1.1\u001b[0m\n",
            "\u001b[1m[\u001b[0m\u001b[34;49mnotice\u001b[0m\u001b[1;39;49m]\u001b[0m\u001b[39;49m To update, run: \u001b[0m\u001b[32;49mpip3 install --upgrade pip\u001b[0m\n",
            "Note: you may need to restart the kernel to use updated packages.\n"
          ]
        }
      ],
      "source": [
        "# Download Spark\n",
        "%pip install pyspark\n",
        "%pip install findspark\n",
        "\n",
        "#Install implicit\n",
        "%pip install implicit\n",
        "%pip install pandas\n",
        "%pip install numpy\n",
        "%pip install os\n",
        "%pip install matplotlib\n",
        "%pip install seaborn\n",
        "%pip install jupyter\n",
        "%pip install wget\n",
        "%pip install unzip"
      ]
    },
    {
      "cell_type": "code",
      "execution_count": 2,
      "metadata": {
        "id": "4okrjU1VpazO"
      },
      "outputs": [],
      "source": [
        "import pandas as pd\n"
      ]
    },
    {
      "cell_type": "code",
      "execution_count": null,
      "metadata": {
        "collapsed": true,
        "id": "vXOC73WHpa7G"
      },
      "outputs": [
        {
          "name": "stderr",
          "output_type": "stream",
          "text": [
            "25/05/19 23:43:50 WARN Utils: Your hostname, GIAs-MacBook-Pro-2.local resolves to a loopback address: 127.0.0.1; using 192.168.1.118 instead (on interface en0)\n",
            "25/05/19 23:43:50 WARN Utils: Set SPARK_LOCAL_IP if you need to bind to another address\n",
            "Setting default log level to \"WARN\".\n",
            "To adjust logging level use sc.setLogLevel(newLevel). For SparkR, use setLogLevel(newLevel).\n",
            "25/05/19 23:43:50 WARN NativeCodeLoader: Unable to load native-hadoop library for your platform... using builtin-java classes where applicable\n"
          ]
        },
        {
          "name": "stderr",
          "output_type": "stream",
          "text": [
            "----------------------------------------\n",
            "Exception occurred during processing of request from ('127.0.0.1', 61434)\n",
            "Traceback (most recent call last):\n",
            "  File \"/Library/Frameworks/Python.framework/Versions/3.10/lib/python3.10/socketserver.py\", line 316, in _handle_request_noblock\n",
            "    self.process_request(request, client_address)\n",
            "  File \"/Library/Frameworks/Python.framework/Versions/3.10/lib/python3.10/socketserver.py\", line 347, in process_request\n",
            "    self.finish_request(request, client_address)\n",
            "  File \"/Library/Frameworks/Python.framework/Versions/3.10/lib/python3.10/socketserver.py\", line 360, in finish_request\n",
            "    self.RequestHandlerClass(request, client_address, self)\n",
            "  File \"/Library/Frameworks/Python.framework/Versions/3.10/lib/python3.10/socketserver.py\", line 747, in __init__\n",
            "    self.handle()\n",
            "  File \"/Library/Frameworks/Python.framework/Versions/3.10/lib/python3.10/site-packages/pyspark/accumulators.py\", line 295, in handle\n",
            "    poll(accum_updates)\n",
            "  File \"/Library/Frameworks/Python.framework/Versions/3.10/lib/python3.10/site-packages/pyspark/accumulators.py\", line 267, in poll\n",
            "    if self.rfile in r and func():\n",
            "  File \"/Library/Frameworks/Python.framework/Versions/3.10/lib/python3.10/site-packages/pyspark/accumulators.py\", line 271, in accum_updates\n",
            "    num_updates = read_int(self.rfile)\n",
            "  File \"/Library/Frameworks/Python.framework/Versions/3.10/lib/python3.10/site-packages/pyspark/serializers.py\", line 596, in read_int\n",
            "    raise EOFError\n",
            "EOFError\n",
            "----------------------------------------\n"
          ]
        }
      ],
      "source": [
        "import os\n",
        "# Initialize findspark and create SparkSession\n",
        "import findspark\n",
        "findspark.init()\n",
        "from pyspark.sql import SparkSession\n",
        "spark = SparkSession.builder \\\n",
        "    .appName(\"BookRecommendation\") \\\n",
        "    .config(\"spark.driver.memory\", \"4g\") \\\n",
        "    .config(\"spark.executor.memory\", \"4g\") \\\n",
        "    .config(\"spark.memory.offHeap.enabled\", \"true\") \\\n",
        "    .config(\"spark.memory.offHeap.size\", \"1g\") \\\n",
        "    .config(\"spark.driver.host\", \"localhost\") \\\n",
        "    .config(\"spark.driver.bindAddress\", \"localhost\") \\\n",
        "    .config(\"spark.sql.shuffle.partitions\", \"200\") \\\n",
        "    .config(\"spark.default.parallelism\", \"200\") \\\n",
        "    .config(\"spark.network.timeout\", \"600s\") \\\n",
        "    .config(\"spark.executor.heartbeatInterval\", \"60s\") \\\n",
        "    .getOrCreate()\n",
        "\n"
      ]
    },
    {
      "cell_type": "code",
      "execution_count": 4,
      "metadata": {
        "id": "HHN2nBGayqHd"
      },
      "outputs": [],
      "source": [
        "from pyspark.sql.functions import count, col, when, mean, rand  # Import all at once"
      ]
    },
    {
      "cell_type": "code",
      "execution_count": 5,
      "metadata": {
        "colab": {
          "base_uri": "https://localhost:8080/"
        },
        "collapsed": true,
        "id": "BRcHAN5Fd0NI",
        "outputId": "4037c23f-73d8-476a-e833-04f233a221be"
      },
      "outputs": [
        {
          "name": "stdout",
          "output_type": "stream",
          "text": [
            "Data files already exist\n"
          ]
        }
      ],
      "source": [
        "#Check if we have the data\n",
        "# Check if data files exist\n",
        "if os.path.exists('Users.csv') and os.path.exists('Books.csv') and os.path.exists('Ratings.csv'):\n",
        "    print(\"Data files already exist\")\n",
        "    exit\n",
        "else:\n",
        "    # Import data from GitHub using wget\n",
        "    !wget -O data.zip 'https://github.com/giahuy1310/bookrecommendation/raw/main/BookDataset.zip'\n",
        "    !unzip data.zip\n",
        "    # Load data into Spark DataFrame\n",
        "users = spark.read.csv('Users.csv', header=True, inferSchema=True)\n",
        "books = spark.read.csv('Books.csv', header = True, inferSchema=True)\n",
        "ratings = spark.read.csv('Ratings.csv', header=True, inferSchema=True)\n"
      ]
    },
    {
      "cell_type": "code",
      "execution_count": 6,
      "metadata": {
        "colab": {
          "base_uri": "https://localhost:8080/"
        },
        "id": "wflfS0K4pbN1",
        "outputId": "68022036-0013-4b80-d023-2975530e28eb"
      },
      "outputs": [
        {
          "name": "stdout",
          "output_type": "stream",
          "text": [
            "root\n",
            " |-- ISBN: string (nullable = true)\n",
            " |-- Book-Title: string (nullable = true)\n",
            " |-- Book-Author: string (nullable = true)\n",
            " |-- Year-Of-Publication: string (nullable = true)\n",
            " |-- Publisher: string (nullable = true)\n",
            " |-- Image-URL-S: string (nullable = true)\n",
            " |-- Image-URL-M: string (nullable = true)\n",
            " |-- Image-URL-L: string (nullable = true)\n",
            "\n",
            "root\n",
            " |-- User-ID: integer (nullable = true)\n",
            " |-- ISBN: string (nullable = true)\n",
            " |-- Book-Rating: integer (nullable = true)\n",
            "\n",
            "root\n",
            " |-- User-ID: integer (nullable = true)\n",
            " |-- Location: string (nullable = true)\n",
            " |-- Age: string (nullable = true)\n",
            "\n"
          ]
        }
      ],
      "source": [
        "# Show schemas\n",
        "books.printSchema()\n",
        "ratings.printSchema()\n",
        "users.printSchema()"
      ]
    },
    {
      "cell_type": "code",
      "execution_count": 7,
      "metadata": {},
      "outputs": [
        {
          "name": "stdout",
          "output_type": "stream",
          "text": [
            "root\n",
            " |-- User-ID: integer (nullable = true)\n",
            " |-- Location: string (nullable = true)\n",
            " |-- Age: integer (nullable = true)\n",
            "\n"
          ]
        }
      ],
      "source": [
        "# prompt:  change the type of the Age from string to float\n",
        "\n",
        "from pyspark.sql.types import IntegerType\n",
        "\n",
        "users = users.withColumn(\"Age\", users[\"Age\"].cast(IntegerType()))\n",
        "users.printSchema()"
      ]
    },
    {
      "cell_type": "markdown",
      "metadata": {},
      "source": [
        "## Xử lý users\n",
        "Bỏ những người rate hoặc tương tác ít hơn 5 cuốn"
      ]
    },
    {
      "cell_type": "markdown",
      "metadata": {},
      "source": [
        "Xử lý tuổi null value"
      ]
    },
    {
      "cell_type": "code",
      "execution_count": 8,
      "metadata": {},
      "outputs": [
        {
          "name": "stdout",
          "output_type": "stream",
          "text": [
            "+-------+--------------------+----+\n",
            "|User-ID|            Location| Age|\n",
            "+-------+--------------------+----+\n",
            "|      1|  nyc, new york, usa|NULL|\n",
            "|      2|stockton, califor...|  18|\n",
            "|      3|moscow, yukon ter...|NULL|\n",
            "|      4|porto, v.n.gaia, ...|  17|\n",
            "|      5|farnborough, hant...|NULL|\n",
            "|      6|santa monica, cal...|  61|\n",
            "|      7| washington, dc, usa|NULL|\n",
            "|      8|timmins, ontario,...|NULL|\n",
            "|      9|germantown, tenne...|NULL|\n",
            "|     10|albacete, wiscons...|  26|\n",
            "|     11|melbourne, victor...|  14|\n",
            "|     12|fort bragg, calif...|NULL|\n",
            "|     13|barcelona, barcel...|  26|\n",
            "|     14|mediapolis, iowa,...|NULL|\n",
            "|     15|calgary, alberta,...|NULL|\n",
            "|     16|albuquerque, new ...|NULL|\n",
            "|     17|chesapeake, virgi...|NULL|\n",
            "|     18|rio de janeiro, r...|  25|\n",
            "|     19|           weston, ,|  14|\n",
            "|     20|langhorne, pennsy...|  19|\n",
            "+-------+--------------------+----+\n",
            "only showing top 20 rows\n",
            "\n",
            "root\n",
            " |-- User-ID: integer (nullable = true)\n",
            " |-- Location: string (nullable = true)\n",
            " |-- Age: integer (nullable = true)\n",
            "\n"
          ]
        }
      ],
      "source": [
        "from pyspark.sql.functions import first, collect_list\n",
        "process_user_age = users\n",
        "process_user_age = process_user_age.withColumn(\"Age\", process_user_age[\"Age\"].cast(IntegerType()))\n",
        "process_user_age.show()\n",
        "process_user_age.printSchema()\n",
        "\n"
      ]
    },
    {
      "cell_type": "code",
      "execution_count": 9,
      "metadata": {},
      "outputs": [
        {
          "name": "stderr",
          "output_type": "stream",
          "text": [
            "25/05/19 23:43:55 WARN SparkSession: Using an existing Spark session; only runtime SQL configurations will take effect.\n",
            "25/05/19 23:43:56 WARN DAGScheduler: Broadcasting large task binary with size 2.2 MiB\n",
            "25/05/19 23:43:56 WARN DAGScheduler: Broadcasting large task binary with size 2.2 MiB\n",
            "25/05/19 23:43:56 WARN DAGScheduler: Broadcasting large task binary with size 2.2 MiB\n",
            "25/05/19 23:44:01 WARN DAGScheduler: Broadcasting large task binary with size 2.6 MiB\n",
            "25/05/19 23:44:06 WARN DAGScheduler: Broadcasting large task binary with size 3.1 MiB\n",
            "25/05/19 23:44:11 WARN DAGScheduler: Broadcasting large task binary with size 3.6 MiB\n",
            "25/05/19 23:44:16 WARN DAGScheduler: Broadcasting large task binary with size 4.0 MiB\n",
            "25/05/19 23:44:27 WARN DAGScheduler: Broadcasting large task binary with size 4.2 MiB\n"
          ]
        },
        {
          "name": "stdout",
          "output_type": "stream",
          "text": [
            "+-------+--------------------+---+\n",
            "|User-ID|            Location|Age|\n",
            "+-------+--------------------+---+\n",
            "|      1|  nyc, new york, usa| 32|\n",
            "|      2|stockton, califor...| 18|\n",
            "|      3|moscow, yukon ter...| 56|\n",
            "|      4|porto, v.n.gaia, ...| 17|\n",
            "|      5|farnborough, hant...|210|\n",
            "|      6|santa monica, cal...| 61|\n",
            "|      7| washington, dc, usa| 32|\n",
            "|      8|timmins, ontario,...| 29|\n",
            "|      9|germantown, tenne...| 40|\n",
            "|     10|albacete, wiscons...| 26|\n",
            "|     11|melbourne, victor...| 14|\n",
            "|     12|fort bragg, calif...| 47|\n",
            "|     13|barcelona, barcel...| 26|\n",
            "|     14|mediapolis, iowa,...| 15|\n",
            "|     15|calgary, alberta,...| 36|\n",
            "|     16|albuquerque, new ...| 33|\n",
            "|     17|chesapeake, virgi...| 39|\n",
            "|     18|rio de janeiro, r...| 25|\n",
            "|     19|           weston, ,| 14|\n",
            "|     20|langhorne, pennsy...| 19|\n",
            "+-------+--------------------+---+\n",
            "only showing top 20 rows\n",
            "\n"
          ]
        }
      ],
      "source": [
        "from pyspark.ml.feature import StringIndexer, VectorAssembler\n",
        "from pyspark.ml.regression import DecisionTreeRegressor\n",
        "from pyspark.ml import Pipeline\n",
        "from pyspark.sql.functions import col, when\n",
        "from pyspark.sql import SparkSession\n",
        "\n",
        "# Assuming you have a SparkSession already initialized, if not:\n",
        "spark = SparkSession.builder.appName(\"AgeImputation\").getOrCreate()\n",
        "\n",
        "# Your DataFrame is already loaded:\n",
        "users_with_null_age = process_user_age\n",
        "\n",
        "# 1. Identify categorical and numerical features (excluding 'User-ID' and 'Age')\n",
        "categorical_cols = [col_name for col_name, dtype in users_with_null_age.dtypes if dtype == 'string' and col_name != 'User-ID']\n",
        "numerical_cols = [col_name for col_name, dtype in users_with_null_age.dtypes if dtype in ['int', 'double', 'float'] and col_name != 'Age' and col_name != 'User-ID']\n",
        "\n",
        "# 2. Index categorical features\n",
        "indexers = [StringIndexer(inputCol=col, outputCol=col + '_index', handleInvalid='keep')\n",
        "            for col in categorical_cols]\n",
        "\n",
        "# 3. Assemble features into a single vector\n",
        "assembler_inputs = [c + '_index' for c in categorical_cols] + numerical_cols\n",
        "assembler = VectorAssembler(inputCols=assembler_inputs, outputCol='features', handleInvalid='keep')\n",
        "\n",
        "# 4. Split the data into training and prediction sets\n",
        "train_data = users_with_null_age.filter(col('Age').isNotNull())\n",
        "predict_data = users_with_null_age.filter(col('Age').isNull()).drop('Age') # Drop the null 'Age' column for prediction\n",
        "\n",
        "# 5. Define and train the Decision Tree Regressor\n",
        "# Increase maxBins to accommodate the large number of categorical values\n",
        "dt = DecisionTreeRegressor(featuresCol='features', labelCol='Age', maxBins=40969)  # Set maxBins to a value greater than the max number of categories\n",
        "pipeline = Pipeline(stages=indexers + [assembler, dt])\n",
        "model = pipeline.fit(train_data)\n",
        "\n",
        "# 6. Make predictions for the null 'Age' values\n",
        "predictions = model.transform(predict_data)\n",
        "\n",
        "# 7. Select the predicted 'Age'\n",
        "predicted_ages = predictions.select('User-ID', col('prediction').alias('Predicted_Age'))\n",
        "\n",
        "# 8. Join the predicted ages back to the original DataFrame\n",
        "users_filled_age = users_with_null_age.join(predicted_ages, 'User-ID', 'left')\n",
        "\n",
        "# 9. Replace the null 'Age' values with the predicted ages\n",
        "users_filled_age = users_filled_age.withColumn('Age', when(col('Age').isNull(), col('Predicted_Age')).otherwise(col('Age')))\n",
        "# Convert Age to integer type\n",
        "users_filled_age = users_filled_age.withColumn('Age', col('Age').cast('integer'))\n",
        "\n",
        "# 10. Drop the 'Predicted_Age' column\n",
        "users_filled_age = users_filled_age.drop('Predicted_Age')\n",
        "\n",
        "# Show the DataFrame with filled 'Age' values\n",
        "users_filled_age.show()\n",
        "\n",
        "# If you need to use this processed DataFrame later, you can assign it back to a variable:\n",
        "users = users_filled_age\n"
      ]
    },
    {
      "cell_type": "code",
      "execution_count": 10,
      "metadata": {},
      "outputs": [
        {
          "name": "stderr",
          "output_type": "stream",
          "text": [
            "25/05/19 23:44:28 WARN DAGScheduler: Broadcasting large task binary with size 4.2 MiB\n",
            "25/05/19 23:44:29 WARN DAGScheduler: Broadcasting large task binary with size 4.4 MiB\n"
          ]
        },
        {
          "name": "stdout",
          "output_type": "stream",
          "text": [
            "+-------+--------------------+---+----------+-----------+\n",
            "|User-ID|            Location|Age|      ISBN|Book-Rating|\n",
            "+-------+--------------------+---+----------+-----------+\n",
            "|     53|tacoma, washingto...| 39|0060914068|          3|\n",
            "|     53|tacoma, washingto...| 39|0156047624|         10|\n",
            "|     53|tacoma, washingto...| 39|0245542957|          6|\n",
            "|     53|tacoma, washingto...| 39|0380715899|          9|\n",
            "|     53|tacoma, washingto...| 39|0553280333|          0|\n",
            "+-------+--------------------+---+----------+-----------+\n",
            "only showing top 5 rows\n",
            "\n",
            "number of rows: 1149780\n",
            "number of columns: 5\n",
            "number of users: 105283\n",
            "Processed data sample:\n"
          ]
        },
        {
          "name": "stderr",
          "output_type": "stream",
          "text": [
            "25/05/19 23:44:31 WARN DAGScheduler: Broadcasting large task binary with size 4.2 MiB\n",
            "25/05/19 23:44:32 WARN DAGScheduler: Broadcasting large task binary with size 4.5 MiB\n"
          ]
        },
        {
          "name": "stdout",
          "output_type": "stream",
          "text": [
            "+-------+--------------------+---+----------+-----------+\n",
            "|User-ID|            Location|Age|      ISBN|Book-Rating|\n",
            "+-------+--------------------+---+----------+-----------+\n",
            "|    243|arden hills, minn...| 45|0060915544|         10|\n",
            "|    243|arden hills, minn...| 45|0060977493|          7|\n",
            "|    243|arden hills, minn...| 45|0140272100|          6|\n",
            "|    243|arden hills, minn...| 45|0156006529|          0|\n",
            "|    243|arden hills, minn...| 45|0312169787|          0|\n",
            "+-------+--------------------+---+----------+-----------+\n",
            "only showing top 5 rows\n",
            "\n",
            "\n",
            "Shape of processed data:\n",
            "Number of rows: 965713\n",
            "Number of columns: 5\n",
            "number of users: 13097\n"
          ]
        }
      ],
      "source": [
        "# Join users and ratings\n",
        "user_ratings = users.join(ratings, \"User-ID\")\n",
        "user_ratings.show(5)\n",
        "print(f\"number of rows: {user_ratings.count()}\")\n",
        "print(f\"number of columns: {len(user_ratings.columns)}\")\n",
        "print(f\"number of users: {user_ratings.select('User-ID').distinct().count()}\")\n",
        "# Count ratings per user\n",
        "user_rating_counts = user_ratings.groupBy(\"User-ID\").count()\n",
        "\n",
        "# Filter users with at least 10 ratings\n",
        "active_users = user_rating_counts.filter(col(\"count\") >= 10)\n",
        "\n",
        "# Join back with original data to get full user information\n",
        "filtered_user_ratings = user_ratings.join(\n",
        "    active_users.select(\"User-ID\"), \n",
        "    \"User-ID\"\n",
        ")\n",
        "\n",
        "# Show the processed data\n",
        "print(\"Processed data sample:\")\n",
        "filtered_user_ratings.show(5)\n",
        "\n",
        "# Show the shape\n",
        "print(\"\\nShape of processed data:\")\n",
        "print(f\"Number of rows: {filtered_user_ratings.count()}\")\n",
        "print(f\"Number of columns: {len(filtered_user_ratings.columns)}\")\n",
        "print(f\"number of users: {filtered_user_ratings.select('User-ID').distinct().count()}\")\n"
      ]
    },
    {
      "cell_type": "markdown",
      "metadata": {},
      "source": [
        "## Xử lý Rating\n",
        "Mình sẽ dùng implicit rating hệ (0,1)\n",
        "Đổi Nan, rating từ (1 ->5) là thành 0 (not good)\n",
        "Đổi 0, rating từ (5->10) là thành 1 (good)"
      ]
    },
    {
      "cell_type": "code",
      "execution_count": 11,
      "metadata": {},
      "outputs": [
        {
          "name": "stdout",
          "output_type": "stream",
          "text": [
            "Processed data with implicit ratings:\n"
          ]
        },
        {
          "name": "stderr",
          "output_type": "stream",
          "text": [
            "25/05/19 23:44:33 WARN DAGScheduler: Broadcasting large task binary with size 4.2 MiB\n",
            "25/05/19 23:44:34 WARN DAGScheduler: Broadcasting large task binary with size 4.5 MiB\n"
          ]
        },
        {
          "name": "stdout",
          "output_type": "stream",
          "text": [
            "+-------+--------------------+---+----------+-----------+---------------+\n",
            "|User-ID|            Location|Age|      ISBN|Book-Rating|implicit_rating|\n",
            "+-------+--------------------+---+----------+-----------+---------------+\n",
            "|    243|arden hills, minn...| 45|0060915544|         10|              1|\n",
            "|    243|arden hills, minn...| 45|0060977493|          7|              1|\n",
            "|    243|arden hills, minn...| 45|0140272100|          6|              1|\n",
            "|    243|arden hills, minn...| 45|0156006529|          0|              1|\n",
            "|    243|arden hills, minn...| 45|0312169787|          0|              1|\n",
            "+-------+--------------------+---+----------+-----------+---------------+\n",
            "only showing top 5 rows\n",
            "\n",
            "+-------+----------+-----------+---------------+\n",
            "|User-ID|      ISBN|Book-Rating|implicit_rating|\n",
            "+-------+----------+-----------+---------------+\n",
            "|   5300|  54901467|          5|              0|\n",
            "|   5300|880431138X|          0|              1|\n",
            "|   5300|880433374X|          8|              1|\n",
            "|   5300|8804354992|          7|              1|\n",
            "|   5300|8804356812|          0|              1|\n",
            "+-------+----------+-----------+---------------+\n",
            "only showing top 5 rows\n",
            "\n",
            "\n",
            "Distribution of implicit ratings:\n",
            "+---------------+------+\n",
            "|implicit_rating| count|\n",
            "+---------------+------+\n",
            "|              1|914040|\n",
            "|              0| 51673|\n",
            "+---------------+------+\n",
            "\n"
          ]
        }
      ],
      "source": [
        "# Convert ratings to binary (0/1) based on the specified rules\n",
        "filtered_user_ratings = filtered_user_ratings.withColumn(\n",
        "    \"implicit_rating\",\n",
        "    when(col(\"Book-Rating\") >= 6, 1)     # Convert 6-10 to 1\n",
        "    .when(col(\"Book-Rating\") == 0, 1) # 0 rating\n",
        "    .when(col(\"Book-Rating\").isNull(), 0)  # Handle null values\n",
        "    .otherwise(0)                          # Convert 1-5 to 0\n",
        ")\n",
        "\n",
        "# Show the processed data with new implicit ratings\n",
        "print(\"Processed data with implicit ratings:\")\n",
        "filtered_user_ratings.show(5)\n",
        "filtered_user_ratings.select(\"User-ID\", \"ISBN\", \"Book-Rating\", \"implicit_rating\").show(5)\n",
        "\n",
        "# Show the distribution of implicit ratings\n",
        "print(\"\\nDistribution of implicit ratings:\")\n",
        "filtered_user_ratings.groupBy(\"implicit_rating\").count().show()\n"
      ]
    },
    {
      "cell_type": "markdown",
      "metadata": {
        "id": "jOqCfJnIAAlu"
      },
      "source": [
        "## Xử lí user with null age "
      ]
    },
    {
      "cell_type": "code",
      "execution_count": 12,
      "metadata": {},
      "outputs": [
        {
          "name": "stdout",
          "output_type": "stream",
          "text": [
            "Checking for null values in books DataFrame:\n",
            "ISBN                   0\n",
            "Book-Title             0\n",
            "Book-Author            1\n",
            "Year-Of-Publication    0\n",
            "Publisher              2\n",
            "Image-URL-S            0\n",
            "Image-URL-M            0\n",
            "Image-URL-L            3\n",
            "dtype: int64\n",
            "\n",
            "Verifying null values after dropping:\n",
            "ISBN                   0\n",
            "Book-Title             0\n",
            "Book-Author            0\n",
            "Year-Of-Publication    0\n",
            "Publisher              0\n",
            "Image-URL-S            0\n",
            "Image-URL-M            0\n",
            "Image-URL-L            0\n",
            "dtype: int64\n",
            "\n",
            "Shape of books DataFrame after dropping null values: 271354 rows\n"
          ]
        }
      ],
      "source": [
        "# Check for null values in books DataFrame\n",
        "books_df = books.toPandas()\n",
        "print(\"Checking for null values in books DataFrame:\")\n",
        "print(books_df.isnull().sum())  # This shows null counts for each column\n",
        "\n",
        "# Drop rows with any null values\n",
        "books_df = books_df.dropna()\n",
        "\n",
        "# Verify that all null values have been removed\n",
        "print(\"\\nVerifying null values after dropping:\")\n",
        "print(books_df.isnull().sum())  # This should show all zeros\n",
        "\n",
        "# Show the shape of the DataFrame after dropping null values\n",
        "print(f\"\\nShape of books DataFrame after dropping null values: {books_df.shape[0]} rows\")"
      ]
    },
    {
      "cell_type": "markdown",
      "metadata": {
        "id": "VD-eOLU7APxm"
      },
      "source": [
        "## xử lí tuổi bị null value"
      ]
    },
    {
      "cell_type": "code",
      "execution_count": 13,
      "metadata": {
        "id": "V6rQEsGvAmVv"
      },
      "outputs": [
        {
          "name": "stderr",
          "output_type": "stream",
          "text": [
            "25/05/19 23:44:38 WARN DAGScheduler: Broadcasting large task binary with size 4.2 MiB\n",
            "25/05/19 23:44:38 WARN DAGScheduler: Broadcasting large task binary with size 4.5 MiB\n"
          ]
        },
        {
          "name": "stdout",
          "output_type": "stream",
          "text": [
            "\n",
            "Number of distinct users: 12475\n",
            "\n",
            "Sample of filtered users:\n"
          ]
        },
        {
          "name": "stderr",
          "output_type": "stream",
          "text": [
            "25/05/19 23:44:39 WARN DAGScheduler: Broadcasting large task binary with size 4.2 MiB\n"
          ]
        },
        {
          "name": "stdout",
          "output_type": "stream",
          "text": [
            "+-------+--------------------+---+----------+-----------+---------------+\n",
            "|User-ID|            Location|Age|      ISBN|Book-Rating|implicit_rating|\n",
            "+-------+--------------------+---+----------+-----------+---------------+\n",
            "|    243|arden hills, minn...| 45|0060915544|         10|              1|\n",
            "|    243|arden hills, minn...| 45|0060977493|          7|              1|\n",
            "|    243|arden hills, minn...| 45|0140272100|          6|              1|\n",
            "|    243|arden hills, minn...| 45|0156006529|          0|              1|\n",
            "|    243|arden hills, minn...| 45|0312169787|          0|              1|\n",
            "+-------+--------------------+---+----------+-----------+---------------+\n",
            "only showing top 5 rows\n",
            "\n"
          ]
        },
        {
          "name": "stderr",
          "output_type": "stream",
          "text": [
            "25/05/19 23:44:39 WARN DAGScheduler: Broadcasting large task binary with size 4.5 MiB\n"
          ]
        }
      ],
      "source": [
        "# Filter users with age between 10 and 80 years old\n",
        "filtered_users = filtered_user_ratings.filter((col(\"Age\") >= 10) & (col(\"Age\") <= 80))\n",
        "\n",
        "# Count distinct users\n",
        "distinct_users_count = filtered_users.select(\"User-ID\").distinct().count()\n",
        "print(f\"\\nNumber of distinct users: {distinct_users_count}\")\n",
        "\n",
        "# Show sample of filtered users\n",
        "print(\"\\nSample of filtered users:\")\n",
        "filtered_users.show(5)\n"
      ]
    },
    {
      "cell_type": "code",
      "execution_count": 14,
      "metadata": {
        "colab": {
          "base_uri": "https://localhost:8080/",
          "height": 564
        },
        "collapsed": true,
        "id": "tL8_9f1Gp6pz",
        "outputId": "de927b53-8c56-45f7-f323-755effd13190"
      },
      "outputs": [
        {
          "name": "stderr",
          "output_type": "stream",
          "text": [
            "25/05/19 23:44:40 WARN DAGScheduler: Broadcasting large task binary with size 4.2 MiB\n",
            "25/05/19 23:44:41 WARN DAGScheduler: Broadcasting large task binary with size 4.5 MiB\n"
          ]
        },
        {
          "data": {
            "image/png": "[encoded data removed]",
            "text/plain": [
              "<Figure size 1000x600 with 1 Axes>"
            ]
          },
          "metadata": {},
          "output_type": "display_data"
        }
      ],
      "source": [
        "# prompt: draw the plot for the users_filtered\n",
        "\n",
        "import matplotlib.pyplot as plt\n",
        "import seaborn as sns\n",
        "\n",
        "# Assuming users_filtered is a Pandas DataFrame (convert if necessary)\n",
        "# If users_filtered is a Spark DataFrame, convert it to Pandas:\n",
        "filtered_users = filtered_users.toPandas()\n",
        "\n",
        "# Create the plot\n",
        "plt.figure(figsize=(10, 6))\n",
        "sns.histplot(filtered_users['Age'], bins=30, kde=True)  # Adjust bins as needed\n",
        "plt.title('Distribution of User Ages')\n",
        "plt.xlabel('Age')\n",
        "plt.ylabel('Number of Users')\n",
        "plt.show()\n"
      ]
    },
    {
      "cell_type": "markdown",
      "metadata": {
        "id": "i956bGeRSqSw"
      },
      "source": [
        "# Làm việc với 3 bảng"
      ]
    },
    {
      "cell_type": "code",
      "execution_count": 15,
      "metadata": {
        "colab": {
          "base_uri": "https://localhost:8080/"
        },
        "id": "MSoj0sxntTcf",
        "outputId": "ca0c6b45-bec5-429d-abb9-e1d3fc716eb5"
      },
      "outputs": [],
      "source": [
        "users_rating_df = filtered_users"
      ]
    },
    {
      "cell_type": "markdown",
      "metadata": {
        "id": "Xc5788O_TPbX"
      },
      "source": [
        "##Book table"
      ]
    },
    {
      "cell_type": "code",
      "execution_count": 16,
      "metadata": {
        "colab": {
          "base_uri": "https://localhost:8080/"
        },
        "id": "rGLV_BUaCpHo",
        "outputId": "aede30d5-c276-4aaf-f1a6-1d370a03f064"
      },
      "outputs": [
        {
          "name": "stdout",
          "output_type": "stream",
          "text": [
            "Shape of Books DataFrame before potential duplicate removal: (271354, 8)\n",
            "Shape of Books DataFrame after duplicate ISBN removal: (271354, 8)\n"
          ]
        }
      ],
      "source": [
        "print(f\"Shape of Books DataFrame before potential duplicate removal: {books_df.shape}\")\n",
        "books_df.drop_duplicates(subset='ISBN', keep='first', inplace=True)\n",
        "print(f\"Shape of Books DataFrame after duplicate ISBN removal: {books_df.shape}\")"
      ]
    },
    {
      "cell_type": "code",
      "execution_count": 17,
      "metadata": {
        "colab": {
          "base_uri": "https://localhost:8080/",
          "height": 895
        },
        "collapsed": true,
        "id": "REOsOd_sCr7d",
        "outputId": "acb2fcac-b4cb-4098-eb72-2fb50b0bde80"
      },
      "outputs": [
        {
          "name": "stdout",
          "output_type": "stream",
          "text": [
            "         ISBN                                         Book-Title  \\\n",
            "0  0195153448                                Classical Mythology   \n",
            "1  0002005018                                       Clara Callan   \n",
            "2  0060973129                               Decision in Normandy   \n",
            "3  0374157065  Flu: The Story of the Great Influenza Pandemic...   \n",
            "4  0393045218                             The Mummies of Urumchi   \n",
            "\n",
            "            Book-Author Year-Of-Publication                   Publisher  \\\n",
            "0    Mark P. O. Morford                2002     Oxford University Press   \n",
            "1  Richard Bruce Wright                2001       HarperFlamingo Canada   \n",
            "2          Carlo D'Este                1991             HarperPerennial   \n",
            "3      Gina Bari Kolata                1999        Farrar Straus Giroux   \n",
            "4       E. J. W. Barber                1999  W. W. Norton &amp; Company   \n",
            "\n",
            "                                         Image-URL-S  \\\n",
            "0  http://images.amazon.com/images/P/0195153448.0...   \n",
            "1  http://images.amazon.com/images/P/0002005018.0...   \n",
            "2  http://images.amazon.com/images/P/0060973129.0...   \n",
            "3  http://images.amazon.com/images/P/0374157065.0...   \n",
            "4  http://images.amazon.com/images/P/0393045218.0...   \n",
            "\n",
            "                                         Image-URL-M  \\\n",
            "0  http://images.amazon.com/images/P/0195153448.0...   \n",
            "1  http://images.amazon.com/images/P/0002005018.0...   \n",
            "2  http://images.amazon.com/images/P/0060973129.0...   \n",
            "3  http://images.amazon.com/images/P/0374157065.0...   \n",
            "4  http://images.amazon.com/images/P/0393045218.0...   \n",
            "\n",
            "                                         Image-URL-L  \n",
            "0  http://images.amazon.com/images/P/0195153448.0...  \n",
            "1  http://images.amazon.com/images/P/0002005018.0...  \n",
            "2  http://images.amazon.com/images/P/0060973129.0...  \n",
            "3  http://images.amazon.com/images/P/0374157065.0...  \n",
            "4  http://images.amazon.com/images/P/0393045218.0...  \n"
          ]
        }
      ],
      "source": [
        "print(books_df.head())"
      ]
    },
    {
      "cell_type": "markdown",
      "metadata": {
        "id": "4TVAk2nYTVR2"
      },
      "source": [
        "##Users_rating table"
      ]
    },
    {
      "cell_type": "code",
      "execution_count": 18,
      "metadata": {
        "colab": {
          "base_uri": "https://localhost:8080/",
          "height": 424
        },
        "collapsed": true,
        "id": "bY4WkKnz3IzO",
        "outputId": "387d0720-9cfd-4ec8-eff9-0c041c08044d"
      },
      "outputs": [
        {
          "data": {
            "text/html": [
              "<div>\n",
              "<style scoped>\n",
              "    .dataframe tbody tr th:only-of-type {\n",
              "        vertical-align: middle;\n",
              "    }\n",
              "\n",
              "    .dataframe tbody tr th {\n",
              "        vertical-align: top;\n",
              "    }\n",
              "\n",
              "    .dataframe thead th {\n",
              "        text-align: right;\n",
              "    }\n",
              "</style>\n",
              "<table border=\"1\" class=\"dataframe\">\n",
              "  <thead>\n",
              "    <tr style=\"text-align: right;\">\n",
              "      <th></th>\n",
              "      <th>User-ID</th>\n",
              "      <th>Location</th>\n",
              "      <th>Age</th>\n",
              "      <th>ISBN</th>\n",
              "      <th>Book-Rating</th>\n",
              "      <th>implicit_rating</th>\n",
              "    </tr>\n",
              "  </thead>\n",
              "  <tbody>\n",
              "    <tr>\n",
              "      <th>0</th>\n",
              "      <td>243</td>\n",
              "      <td>arden hills, minnesota, usa</td>\n",
              "      <td>45</td>\n",
              "      <td>0060915544</td>\n",
              "      <td>10</td>\n",
              "      <td>1</td>\n",
              "    </tr>\n",
              "    <tr>\n",
              "      <th>1</th>\n",
              "      <td>243</td>\n",
              "      <td>arden hills, minnesota, usa</td>\n",
              "      <td>45</td>\n",
              "      <td>0060977493</td>\n",
              "      <td>7</td>\n",
              "      <td>1</td>\n",
              "    </tr>\n",
              "    <tr>\n",
              "      <th>2</th>\n",
              "      <td>243</td>\n",
              "      <td>arden hills, minnesota, usa</td>\n",
              "      <td>45</td>\n",
              "      <td>0140272100</td>\n",
              "      <td>6</td>\n",
              "      <td>1</td>\n",
              "    </tr>\n",
              "    <tr>\n",
              "      <th>3</th>\n",
              "      <td>243</td>\n",
              "      <td>arden hills, minnesota, usa</td>\n",
              "      <td>45</td>\n",
              "      <td>0156006529</td>\n",
              "      <td>0</td>\n",
              "      <td>1</td>\n",
              "    </tr>\n",
              "    <tr>\n",
              "      <th>4</th>\n",
              "      <td>243</td>\n",
              "      <td>arden hills, minnesota, usa</td>\n",
              "      <td>45</td>\n",
              "      <td>0312169787</td>\n",
              "      <td>0</td>\n",
              "      <td>1</td>\n",
              "    </tr>\n",
              "  </tbody>\n",
              "</table>\n",
              "</div>"
            ],
            "text/plain": [
              "   User-ID                     Location  Age        ISBN  Book-Rating  \\\n",
              "0      243  arden hills, minnesota, usa   45  0060915544           10   \n",
              "1      243  arden hills, minnesota, usa   45  0060977493            7   \n",
              "2      243  arden hills, minnesota, usa   45  0140272100            6   \n",
              "3      243  arden hills, minnesota, usa   45  0156006529            0   \n",
              "4      243  arden hills, minnesota, usa   45  0312169787            0   \n",
              "\n",
              "   implicit_rating  \n",
              "0                1  \n",
              "1                1  \n",
              "2                1  \n",
              "3                1  \n",
              "4                1  "
            ]
          },
          "execution_count": 18,
          "metadata": {},
          "output_type": "execute_result"
        }
      ],
      "source": [
        "users_rating_df.head()\n"
      ]
    },
    {
      "cell_type": "code",
      "execution_count": 19,
      "metadata": {},
      "outputs": [
        {
          "name": "stdout",
          "output_type": "stream",
          "text": [
            "\n",
            "NaN values in total_data_df:\n",
            "User-ID                    0\n",
            "Location                   0\n",
            "Age                        0\n",
            "ISBN                       0\n",
            "Book-Rating                0\n",
            "implicit_rating            0\n",
            "Book-Title             83979\n",
            "Book-Author            83979\n",
            "Year-Of-Publication    83979\n",
            "Publisher              83979\n",
            "Image-URL-S            83979\n",
            "Image-URL-M            83979\n",
            "Image-URL-L            83979\n",
            "dtype: int64\n",
            "\n",
            "Rows with NaN values:\n",
            "    User-ID                     Location  Age        ISBN  Book-Rating  \\\n",
            "19      243  arden hills, minnesota, usa   45  0349109117            0   \n",
            "78      243  arden hills, minnesota, usa   45  0880960043            0   \n",
            "84      392  barcelona, catalunya, spain   44  8423646033            0   \n",
            "86      392  barcelona, catalunya, spain   44  8429725544            0   \n",
            "88      392  barcelona, catalunya, spain   44  8429727930            0   \n",
            "\n",
            "    implicit_rating Book-Title Book-Author Year-Of-Publication Publisher  \\\n",
            "19                1        NaN         NaN                 NaN       NaN   \n",
            "78                1        NaN         NaN                 NaN       NaN   \n",
            "84                1        NaN         NaN                 NaN       NaN   \n",
            "86                1        NaN         NaN                 NaN       NaN   \n",
            "88                1        NaN         NaN                 NaN       NaN   \n",
            "\n",
            "   Image-URL-S Image-URL-M Image-URL-L  \n",
            "19         NaN         NaN         NaN  \n",
            "78         NaN         NaN         NaN  \n",
            "84         NaN         NaN         NaN  \n",
            "86         NaN         NaN         NaN  \n",
            "88         NaN         NaN         NaN  \n",
            "\n",
            "Shape after dropping NaN values: (935259, 13)\n",
            "Shape after filtering: (851280, 13)\n"
          ]
        },
        {
          "data": {
            "text/html": [
              "<div>\n",
              "<style scoped>\n",
              "    .dataframe tbody tr th:only-of-type {\n",
              "        vertical-align: middle;\n",
              "    }\n",
              "\n",
              "    .dataframe tbody tr th {\n",
              "        vertical-align: top;\n",
              "    }\n",
              "\n",
              "    .dataframe thead th {\n",
              "        text-align: right;\n",
              "    }\n",
              "</style>\n",
              "<table border=\"1\" class=\"dataframe\">\n",
              "  <thead>\n",
              "    <tr style=\"text-align: right;\">\n",
              "      <th></th>\n",
              "      <th>User-ID</th>\n",
              "      <th>Location</th>\n",
              "      <th>Age</th>\n",
              "      <th>ISBN</th>\n",
              "      <th>Book-Rating</th>\n",
              "      <th>implicit_rating</th>\n",
              "      <th>Book-Title</th>\n",
              "      <th>Book-Author</th>\n",
              "      <th>Year-Of-Publication</th>\n",
              "      <th>Publisher</th>\n",
              "      <th>Image-URL-S</th>\n",
              "      <th>Image-URL-M</th>\n",
              "      <th>Image-URL-L</th>\n",
              "    </tr>\n",
              "  </thead>\n",
              "  <tbody>\n",
              "    <tr>\n",
              "      <th>0</th>\n",
              "      <td>243</td>\n",
              "      <td>arden hills, minnesota, usa</td>\n",
              "      <td>45</td>\n",
              "      <td>0060915544</td>\n",
              "      <td>10</td>\n",
              "      <td>1</td>\n",
              "      <td>The Bean Trees</td>\n",
              "      <td>Barbara Kingsolver</td>\n",
              "      <td>1989</td>\n",
              "      <td>Perennial</td>\n",
              "      <td>http://images.amazon.com/images/P/0060915544.0...</td>\n",
              "      <td>http://images.amazon.com/images/P/0060915544.0...</td>\n",
              "      <td>http://images.amazon.com/images/P/0060915544.0...</td>\n",
              "    </tr>\n",
              "    <tr>\n",
              "      <th>1</th>\n",
              "      <td>243</td>\n",
              "      <td>arden hills, minnesota, usa</td>\n",
              "      <td>45</td>\n",
              "      <td>0060977493</td>\n",
              "      <td>7</td>\n",
              "      <td>1</td>\n",
              "      <td>The God of Small Things</td>\n",
              "      <td>Arundhati Roy</td>\n",
              "      <td>1998</td>\n",
              "      <td>Perennial</td>\n",
              "      <td>http://images.amazon.com/images/P/0060977493.0...</td>\n",
              "      <td>http://images.amazon.com/images/P/0060977493.0...</td>\n",
              "      <td>http://images.amazon.com/images/P/0060977493.0...</td>\n",
              "    </tr>\n",
              "    <tr>\n",
              "      <th>2</th>\n",
              "      <td>243</td>\n",
              "      <td>arden hills, minnesota, usa</td>\n",
              "      <td>45</td>\n",
              "      <td>0140272100</td>\n",
              "      <td>6</td>\n",
              "      <td>1</td>\n",
              "      <td>Vanished</td>\n",
              "      <td>Mary McGarry Morris</td>\n",
              "      <td>1997</td>\n",
              "      <td>Penguin Books</td>\n",
              "      <td>http://images.amazon.com/images/P/0140272100.0...</td>\n",
              "      <td>http://images.amazon.com/images/P/0140272100.0...</td>\n",
              "      <td>http://images.amazon.com/images/P/0140272100.0...</td>\n",
              "    </tr>\n",
              "    <tr>\n",
              "      <th>3</th>\n",
              "      <td>243</td>\n",
              "      <td>arden hills, minnesota, usa</td>\n",
              "      <td>45</td>\n",
              "      <td>0156006529</td>\n",
              "      <td>0</td>\n",
              "      <td>1</td>\n",
              "      <td>Where or When  : A Novel</td>\n",
              "      <td>Anita Shreve</td>\n",
              "      <td>1999</td>\n",
              "      <td>Harvest Books</td>\n",
              "      <td>http://images.amazon.com/images/P/0156006529.0...</td>\n",
              "      <td>http://images.amazon.com/images/P/0156006529.0...</td>\n",
              "      <td>http://images.amazon.com/images/P/0156006529.0...</td>\n",
              "    </tr>\n",
              "    <tr>\n",
              "      <th>4</th>\n",
              "      <td>243</td>\n",
              "      <td>arden hills, minnesota, usa</td>\n",
              "      <td>45</td>\n",
              "      <td>0312169787</td>\n",
              "      <td>0</td>\n",
              "      <td>1</td>\n",
              "      <td>The Red Tent : A Novel</td>\n",
              "      <td>Anita Diamant</td>\n",
              "      <td>1997</td>\n",
              "      <td>St. Martin's Press</td>\n",
              "      <td>http://images.amazon.com/images/P/0312169787.0...</td>\n",
              "      <td>http://images.amazon.com/images/P/0312169787.0...</td>\n",
              "      <td>http://images.amazon.com/images/P/0312169787.0...</td>\n",
              "    </tr>\n",
              "  </tbody>\n",
              "</table>\n",
              "</div>"
            ],
            "text/plain": [
              "   User-ID                     Location  Age        ISBN  Book-Rating  \\\n",
              "0      243  arden hills, minnesota, usa   45  0060915544           10   \n",
              "1      243  arden hills, minnesota, usa   45  0060977493            7   \n",
              "2      243  arden hills, minnesota, usa   45  0140272100            6   \n",
              "3      243  arden hills, minnesota, usa   45  0156006529            0   \n",
              "4      243  arden hills, minnesota, usa   45  0312169787            0   \n",
              "\n",
              "   implicit_rating                Book-Title          Book-Author  \\\n",
              "0                1            The Bean Trees   Barbara Kingsolver   \n",
              "1                1   The God of Small Things        Arundhati Roy   \n",
              "2                1                  Vanished  Mary McGarry Morris   \n",
              "3                1  Where or When  : A Novel         Anita Shreve   \n",
              "4                1    The Red Tent : A Novel        Anita Diamant   \n",
              "\n",
              "  Year-Of-Publication           Publisher  \\\n",
              "0                1989           Perennial   \n",
              "1                1998           Perennial   \n",
              "2                1997       Penguin Books   \n",
              "3                1999       Harvest Books   \n",
              "4                1997  St. Martin's Press   \n",
              "\n",
              "                                         Image-URL-S  \\\n",
              "0  http://images.amazon.com/images/P/0060915544.0...   \n",
              "1  http://images.amazon.com/images/P/0060977493.0...   \n",
              "2  http://images.amazon.com/images/P/0140272100.0...   \n",
              "3  http://images.amazon.com/images/P/0156006529.0...   \n",
              "4  http://images.amazon.com/images/P/0312169787.0...   \n",
              "\n",
              "                                         Image-URL-M  \\\n",
              "0  http://images.amazon.com/images/P/0060915544.0...   \n",
              "1  http://images.amazon.com/images/P/0060977493.0...   \n",
              "2  http://images.amazon.com/images/P/0140272100.0...   \n",
              "3  http://images.amazon.com/images/P/0156006529.0...   \n",
              "4  http://images.amazon.com/images/P/0312169787.0...   \n",
              "\n",
              "                                         Image-URL-L  \n",
              "0  http://images.amazon.com/images/P/0060915544.0...  \n",
              "1  http://images.amazon.com/images/P/0060977493.0...  \n",
              "2  http://images.amazon.com/images/P/0140272100.0...  \n",
              "3  http://images.amazon.com/images/P/0156006529.0...  \n",
              "4  http://images.amazon.com/images/P/0312169787.0...  "
            ]
          },
          "execution_count": 19,
          "metadata": {},
          "output_type": "execute_result"
        }
      ],
      "source": [
        "# Create total data dataframe\n",
        "total_data_df = pd.merge(users_rating_df, books_df, on='ISBN', how='left')\n",
        "# Check for NaN values in total_data_df\n",
        "print(\"\\nNaN values in total_data_df:\")\n",
        "print(total_data_df.isnull().sum())\n",
        "# Show rows with NaN values\n",
        "print(\"\\nRows with NaN values:\")\n",
        "print(total_data_df[total_data_df.isnull().any(axis=1)].head())\n",
        "# Drop NaN values from total_data_df\n",
        "filtered_data_df = total_data_df.dropna()\n",
        "print(\"\\nShape after dropping NaN values:\", total_data_df.shape)\n",
        "\n",
        "print(f\"Shape after filtering: {filtered_data_df.shape}\")\n",
        "filtered_data_df.head()\n"
      ]
    },
    {
      "cell_type": "markdown",
      "metadata": {
        "id": "IO_rAM6WVc-p"
      },
      "source": [
        "# Colaborative filtering\n"
      ]
    },
    {
      "cell_type": "markdown",
      "metadata": {
        "id": "gnK122SGVm16"
      },
      "source": [
        "## Matrix Factorization"
      ]
    },
    {
      "cell_type": "code",
      "execution_count": 20,
      "metadata": {
        "colab": {
          "base_uri": "https://localhost:8080/"
        },
        "collapsed": true,
        "id": "JJZKWJZUfkb6",
        "outputId": "02b2e5d1-970a-4352-e62d-7fdb383adb8c"
      },
      "outputs": [
        {
          "name": "stderr",
          "output_type": "stream",
          "text": [
            "25/05/19 23:44:57 WARN GarbageCollectionMetrics: To enable non-built-in garbage collector(s) List(G1 Concurrent GC), users should configure it(them) to spark.eventLog.gcMetrics.youngGenerationGarbageCollectors or spark.eventLog.gcMetrics.oldGenerationGarbageCollectors\n"
          ]
        },
        {
          "name": "stdout",
          "output_type": "stream",
          "text": [
            "root\n",
            " |-- User-ID: long (nullable = true)\n",
            " |-- Location: string (nullable = true)\n",
            " |-- Age: long (nullable = true)\n",
            " |-- ISBN: string (nullable = true)\n",
            " |-- Book-Rating: long (nullable = true)\n",
            " |-- implicit_rating: long (nullable = true)\n",
            " |-- Book-Title: string (nullable = true)\n",
            " |-- Book-Author: string (nullable = true)\n",
            " |-- Year-Of-Publication: string (nullable = true)\n",
            " |-- Publisher: string (nullable = true)\n",
            " |-- Image-URL-S: string (nullable = true)\n",
            " |-- Image-URL-M: string (nullable = true)\n",
            " |-- Image-URL-L: string (nullable = true)\n",
            "\n"
          ]
        }
      ],
      "source": [
        "from pyspark.sql import SparkSession\n",
        "from pyspark.ml.recommendation import ALS\n",
        "from pyspark.ml.evaluation import RegressionEvaluator\n",
        "from pyspark.sql.functions import col, when\n",
        "from pyspark.ml.feature import StringIndexer\n",
        "\n",
        "# Convert to Spark DataFrame\n",
        "ratings_spark_df = spark.createDataFrame(total_data_df)\n",
        "ratings_spark_df.printSchema()\n"
      ]
    },
    {
      "cell_type": "code",
      "execution_count": 21,
      "metadata": {
        "id": "IughzAEiTZrR"
      },
      "outputs": [
        {
          "name": "stderr",
          "output_type": "stream",
          "text": [
            "25/05/19 23:45:19 WARN TaskSetManager: Stage 142 contains a task of very large size (1208 KiB). The maximum recommended task size is 1000 KiB.\n",
            "                                                                                \r"
          ]
        }
      ],
      "source": [
        "\n",
        "isbn_indexer = StringIndexer(inputCol=\"ISBN\", outputCol=\"bookId\")\n",
        "ratings_indexed = isbn_indexer.fit(ratings_spark_df).transform(ratings_spark_df)\n"
      ]
    },
    {
      "cell_type": "code",
      "execution_count": 22,
      "metadata": {
        "id": "oysz_F7bTbkU"
      },
      "outputs": [],
      "source": [
        "(training, test) = ratings_indexed.randomSplit([0.8, 0.2], seed=42)\n"
      ]
    },
    {
      "cell_type": "code",
      "execution_count": 23,
      "metadata": {},
      "outputs": [],
      "source": [
        "from pyspark.ml.recommendation import ALS\n",
        "from pyspark.ml.evaluation import RegressionEvaluator\n",
        "from pyspark.ml.tuning import ParamGridBuilder, CrossValidator\n",
        "\n",
        "# 1. Create the ALS model\n",
        "als = ALS(\n",
        "    maxIter=10,\n",
        "    regParam=0.01,\n",
        "    rank=10,  # Increased rank for more features\n",
        "    userCol=\"User-ID\",\n",
        "    itemCol=\"bookId\",\n",
        "    ratingCol=\"implicit_rating\",\n",
        "    coldStartStrategy=\"drop\",\n",
        "    nonnegative=True,  # Ensures non-negative predictions\n",
        "    implicitPrefs=True\n",
        ")\n",
        "\n"
      ]
    },
    {
      "cell_type": "code",
      "execution_count": 24,
      "metadata": {},
      "outputs": [],
      "source": [
        "# 2. Define parameter grid for tuning\n",
        "param_grid = ParamGridBuilder() \\\n",
        "    .addGrid(als.rank, [15]) \\\n",
        "    .addGrid(als.regParam, [0.05]) \\\n",
        "    .addGrid(als.maxIter, [15]) \\\n",
        "    .build()"
      ]
    },
    {
      "cell_type": "code",
      "execution_count": 25,
      "metadata": {},
      "outputs": [],
      "source": [
        "# 3. Define evaluator\n",
        "evaluator = RegressionEvaluator(\n",
        "    metricName=\"rmse\",\n",
        "    labelCol=\"implicit_rating\",\n",
        "    predictionCol=\"prediction\"\n",
        ")"
      ]
    },
    {
      "cell_type": "code",
      "execution_count": 26,
      "metadata": {},
      "outputs": [],
      "source": [
        "# 4. Create CrossValidator\n",
        "cv = CrossValidator(\n",
        "    estimator=als,\n",
        "    estimatorParamMaps=param_grid,\n",
        "    evaluator=evaluator,\n",
        "    numFolds=2\n",
        ")"
      ]
    },
    {
      "cell_type": "code",
      "execution_count": 27,
      "metadata": {},
      "outputs": [
        {
          "name": "stdout",
          "output_type": "stream",
          "text": [
            "Training model with cross-validation...\n"
          ]
        },
        {
          "name": "stderr",
          "output_type": "stream",
          "text": [
            "25/05/19 23:45:24 WARN DAGScheduler: Broadcasting large task binary with size 9.5 MiB\n",
            "25/05/19 23:45:24 WARN TaskSetManager: Stage 145 contains a task of very large size (1208 KiB). The maximum recommended task size is 1000 KiB.\n",
            "25/05/19 23:45:38 WARN DAGScheduler: Broadcasting large task binary with size 9.5 MiB\n",
            "25/05/19 23:45:38 WARN TaskSetManager: Stage 146 contains a task of very large size (1208 KiB). The maximum recommended task size is 1000 KiB.\n",
            "25/05/19 23:45:46 WARN DAGScheduler: Broadcasting large task binary with size 9.5 MiB\n",
            "25/05/19 23:45:46 WARN TaskSetManager: Stage 147 contains a task of very large size (1208 KiB). The maximum recommended task size is 1000 KiB.\n",
            "25/05/19 23:45:46 WARN DAGScheduler: Broadcasting large task binary with size 9.5 MiB\n",
            "25/05/19 23:45:46 WARN TaskSetManager: Stage 148 contains a task of very large size (1208 KiB). The maximum recommended task size is 1000 KiB.\n",
            "25/05/19 23:45:55 WARN DAGScheduler: Broadcasting large task binary with size 9.5 MiB\n",
            "25/05/19 23:46:03 WARN DAGScheduler: Broadcasting large task binary with size 9.5 MiB\n",
            "25/05/19 23:46:04 WARN DAGScheduler: Broadcasting large task binary with size 9.5 MiB\n",
            "25/05/19 23:46:11 WARN DAGScheduler: Broadcasting large task binary with size 9.5 MiB\n",
            "25/05/19 23:46:12 WARN DAGScheduler: Broadcasting large task binary with size 9.5 MiB\n",
            "25/05/19 23:46:12 WARN InstanceBuilder: Failed to load implementation from:dev.ludovic.netlib.blas.JNIBLAS\n",
            "25/05/19 23:46:12 WARN InstanceBuilder: Failed to load implementation from:dev.ludovic.netlib.blas.VectorBLAS\n",
            "25/05/19 23:46:12 WARN DAGScheduler: Broadcasting large task binary with size 9.5 MiB\n",
            "25/05/19 23:46:13 WARN DAGScheduler: Broadcasting large task binary with size 9.5 MiB\n",
            "25/05/19 23:46:14 WARN DAGScheduler: Broadcasting large task binary with size 9.5 MiB\n",
            "25/05/19 23:46:15 WARN DAGScheduler: Broadcasting large task binary with size 9.5 MiB\n",
            "25/05/19 23:46:15 WARN DAGScheduler: Broadcasting large task binary with size 9.5 MiB\n",
            "25/05/19 23:46:16 WARN DAGScheduler: Broadcasting large task binary with size 9.5 MiB\n",
            "25/05/19 23:46:16 WARN DAGScheduler: Broadcasting large task binary with size 9.5 MiB\n",
            "25/05/19 23:46:17 WARN DAGScheduler: Broadcasting large task binary with size 9.5 MiB\n",
            "25/05/19 23:46:17 WARN DAGScheduler: Broadcasting large task binary with size 9.5 MiB\n",
            "25/05/19 23:46:18 WARN DAGScheduler: Broadcasting large task binary with size 9.5 MiB\n",
            "25/05/19 23:46:19 WARN DAGScheduler: Broadcasting large task binary with size 9.5 MiB\n",
            "25/05/19 23:46:19 WARN DAGScheduler: Broadcasting large task binary with size 9.5 MiB\n",
            "25/05/19 23:46:20 WARN DAGScheduler: Broadcasting large task binary with size 9.5 MiB\n",
            "25/05/19 23:46:20 WARN DAGScheduler: Broadcasting large task binary with size 9.5 MiB\n",
            "25/05/19 23:46:21 WARN DAGScheduler: Broadcasting large task binary with size 9.5 MiB\n",
            "25/05/19 23:46:22 WARN DAGScheduler: Broadcasting large task binary with size 9.5 MiB\n",
            "25/05/19 23:46:22 WARN DAGScheduler: Broadcasting large task binary with size 9.5 MiB\n",
            "25/05/19 23:46:23 WARN DAGScheduler: Broadcasting large task binary with size 9.5 MiB\n",
            "25/05/19 23:46:23 WARN DAGScheduler: Broadcasting large task binary with size 9.5 MiB\n",
            "25/05/19 23:46:24 WARN DAGScheduler: Broadcasting large task binary with size 9.5 MiB\n",
            "25/05/19 23:46:24 WARN DAGScheduler: Broadcasting large task binary with size 9.5 MiB\n",
            "25/05/19 23:46:25 WARN DAGScheduler: Broadcasting large task binary with size 9.5 MiB\n",
            "25/05/19 23:46:26 WARN DAGScheduler: Broadcasting large task binary with size 9.5 MiB\n",
            "25/05/19 23:46:26 WARN DAGScheduler: Broadcasting large task binary with size 9.5 MiB\n",
            "25/05/19 23:46:27 WARN DAGScheduler: Broadcasting large task binary with size 9.5 MiB\n",
            "25/05/19 23:46:27 WARN DAGScheduler: Broadcasting large task binary with size 9.5 MiB\n",
            "25/05/19 23:46:28 WARN DAGScheduler: Broadcasting large task binary with size 9.5 MiB\n",
            "25/05/19 23:46:28 WARN DAGScheduler: Broadcasting large task binary with size 9.6 MiB\n",
            "25/05/19 23:46:29 WARN DAGScheduler: Broadcasting large task binary with size 9.5 MiB\n",
            "25/05/19 23:46:30 WARN DAGScheduler: Broadcasting large task binary with size 9.6 MiB\n",
            "25/05/19 23:46:30 WARN DAGScheduler: Broadcasting large task binary with size 9.6 MiB\n",
            "25/05/19 23:46:31 WARN DAGScheduler: Broadcasting large task binary with size 9.6 MiB\n",
            "25/05/19 23:46:32 WARN DAGScheduler: Broadcasting large task binary with size 9.6 MiB\n",
            "25/05/19 23:46:32 WARN DAGScheduler: Broadcasting large task binary with size 9.6 MiB\n",
            "25/05/19 23:46:33 WARN DAGScheduler: Broadcasting large task binary with size 9.6 MiB\n",
            "25/05/19 23:46:33 WARN DAGScheduler: Broadcasting large task binary with size 9.6 MiB\n",
            "25/05/19 23:46:34 WARN DAGScheduler: Broadcasting large task binary with size 9.6 MiB\n",
            "25/05/19 23:46:34 WARN DAGScheduler: Broadcasting large task binary with size 9.6 MiB\n",
            "25/05/19 23:46:35 WARN DAGScheduler: Broadcasting large task binary with size 9.6 MiB\n",
            "25/05/19 23:46:35 WARN DAGScheduler: Broadcasting large task binary with size 9.6 MiB\n",
            "25/05/19 23:46:36 WARN DAGScheduler: Broadcasting large task binary with size 9.6 MiB\n",
            "25/05/19 23:46:36 WARN DAGScheduler: Broadcasting large task binary with size 9.6 MiB\n",
            "25/05/19 23:46:37 WARN DAGScheduler: Broadcasting large task binary with size 9.6 MiB\n",
            "25/05/19 23:46:37 WARN DAGScheduler: Broadcasting large task binary with size 9.6 MiB\n",
            "25/05/19 23:46:38 WARN DAGScheduler: Broadcasting large task binary with size 9.6 MiB\n",
            "25/05/19 23:46:38 WARN DAGScheduler: Broadcasting large task binary with size 9.6 MiB\n",
            "25/05/19 23:46:39 WARN DAGScheduler: Broadcasting large task binary with size 9.6 MiB\n",
            "25/05/19 23:46:40 WARN DAGScheduler: Broadcasting large task binary with size 9.6 MiB\n",
            "25/05/19 23:46:40 WARN DAGScheduler: Broadcasting large task binary with size 9.6 MiB\n",
            "25/05/19 23:46:41 WARN DAGScheduler: Broadcasting large task binary with size 9.6 MiB\n",
            "25/05/19 23:46:41 WARN DAGScheduler: Broadcasting large task binary with size 9.6 MiB\n",
            "25/05/19 23:46:42 WARN DAGScheduler: Broadcasting large task binary with size 9.6 MiB\n",
            "25/05/19 23:46:42 WARN DAGScheduler: Broadcasting large task binary with size 9.6 MiB\n",
            "25/05/19 23:46:43 WARN DAGScheduler: Broadcasting large task binary with size 9.6 MiB\n",
            "25/05/19 23:46:43 WARN DAGScheduler: Broadcasting large task binary with size 9.6 MiB\n",
            "25/05/19 23:46:44 WARN DAGScheduler: Broadcasting large task binary with size 9.6 MiB\n",
            "25/05/19 23:46:44 WARN DAGScheduler: Broadcasting large task binary with size 9.6 MiB\n",
            "25/05/19 23:46:45 WARN DAGScheduler: Broadcasting large task binary with size 9.6 MiB\n",
            "25/05/19 23:46:45 WARN DAGScheduler: Broadcasting large task binary with size 9.6 MiB\n",
            "25/05/19 23:46:46 WARN DAGScheduler: Broadcasting large task binary with size 9.6 MiB\n",
            "25/05/19 23:46:46 WARN DAGScheduler: Broadcasting large task binary with size 9.6 MiB\n",
            "25/05/19 23:46:47 WARN DAGScheduler: Broadcasting large task binary with size 9.5 MiB\n",
            "25/05/19 23:46:47 WARN TaskSetManager: Stage 775 contains a task of very large size (1208 KiB). The maximum recommended task size is 1000 KiB.\n",
            "25/05/19 23:46:47 WARN DAGScheduler: Broadcasting large task binary with size 9.6 MiB\n",
            "25/05/19 23:46:48 WARN DAGScheduler: Broadcasting large task binary with size 9.6 MiB\n",
            "25/05/19 23:46:56 WARN DAGScheduler: Broadcasting large task binary with size 9.5 MiB\n",
            "25/05/19 23:46:56 WARN TaskSetManager: Stage 811 contains a task of very large size (1208 KiB). The maximum recommended task size is 1000 KiB.\n",
            "25/05/19 23:47:04 WARN DAGScheduler: Broadcasting large task binary with size 3.7 MiB\n",
            "25/05/19 23:47:05 WARN DAGScheduler: Broadcasting large task binary with size 9.7 MiB\n",
            "25/05/19 23:47:06 WARN DAGScheduler: Broadcasting large task binary with size 9.7 MiB\n",
            "25/05/19 23:47:07 WARN DAGScheduler: Broadcasting large task binary with size 9.5 MiB\n",
            "25/05/19 23:47:07 WARN TaskSetManager: Stage 854 contains a task of very large size (1208 KiB). The maximum recommended task size is 1000 KiB.\n",
            "25/05/19 23:47:15 WARN DAGScheduler: Broadcasting large task binary with size 9.5 MiB\n",
            "25/05/19 23:47:15 WARN TaskSetManager: Stage 855 contains a task of very large size (1208 KiB). The maximum recommended task size is 1000 KiB.\n",
            "25/05/19 23:47:15 WARN DAGScheduler: Broadcasting large task binary with size 9.5 MiB\n",
            "25/05/19 23:47:15 WARN TaskSetManager: Stage 856 contains a task of very large size (1208 KiB). The maximum recommended task size is 1000 KiB.\n",
            "25/05/19 23:47:24 WARN DAGScheduler: Broadcasting large task binary with size 9.5 MiB\n",
            "25/05/19 23:47:31 WARN DAGScheduler: Broadcasting large task binary with size 9.5 MiB\n",
            "25/05/19 23:47:32 WARN DAGScheduler: Broadcasting large task binary with size 9.5 MiB\n",
            "25/05/19 23:47:38 WARN DAGScheduler: Broadcasting large task binary with size 9.5 MiB\n",
            "25/05/19 23:47:38 WARN DAGScheduler: Broadcasting large task binary with size 9.5 MiB\n",
            "25/05/19 23:47:39 WARN DAGScheduler: Broadcasting large task binary with size 9.5 MiB\n",
            "25/05/19 23:47:39 WARN DAGScheduler: Broadcasting large task binary with size 9.5 MiB\n",
            "25/05/19 23:47:39 WARN DAGScheduler: Broadcasting large task binary with size 9.5 MiB\n",
            "25/05/19 23:47:40 WARN DAGScheduler: Broadcasting large task binary with size 9.5 MiB\n",
            "25/05/19 23:47:40 WARN DAGScheduler: Broadcasting large task binary with size 9.5 MiB\n",
            "25/05/19 23:47:41 WARN DAGScheduler: Broadcasting large task binary with size 9.5 MiB\n",
            "25/05/19 23:47:41 WARN DAGScheduler: Broadcasting large task binary with size 9.5 MiB\n",
            "25/05/19 23:47:42 WARN DAGScheduler: Broadcasting large task binary with size 9.5 MiB\n",
            "25/05/19 23:47:42 WARN DAGScheduler: Broadcasting large task binary with size 9.5 MiB\n",
            "25/05/19 23:47:43 WARN DAGScheduler: Broadcasting large task binary with size 9.5 MiB\n",
            "25/05/19 23:47:43 WARN DAGScheduler: Broadcasting large task binary with size 9.5 MiB\n",
            "25/05/19 23:47:43 WARN DAGScheduler: Broadcasting large task binary with size 9.5 MiB\n",
            "25/05/19 23:47:44 WARN DAGScheduler: Broadcasting large task binary with size 9.5 MiB\n",
            "25/05/19 23:47:44 WARN DAGScheduler: Broadcasting large task binary with size 9.5 MiB\n",
            "25/05/19 23:47:45 WARN DAGScheduler: Broadcasting large task binary with size 9.5 MiB\n",
            "25/05/19 23:47:45 WARN DAGScheduler: Broadcasting large task binary with size 9.5 MiB\n",
            "25/05/19 23:47:45 WARN DAGScheduler: Broadcasting large task binary with size 9.5 MiB\n",
            "25/05/19 23:47:46 WARN DAGScheduler: Broadcasting large task binary with size 9.5 MiB\n",
            "25/05/19 23:47:46 WARN DAGScheduler: Broadcasting large task binary with size 9.5 MiB\n",
            "25/05/19 23:47:47 WARN DAGScheduler: Broadcasting large task binary with size 9.5 MiB\n",
            "25/05/19 23:47:47 WARN DAGScheduler: Broadcasting large task binary with size 9.5 MiB\n",
            "25/05/19 23:47:48 WARN DAGScheduler: Broadcasting large task binary with size 9.5 MiB\n",
            "25/05/19 23:47:48 WARN DAGScheduler: Broadcasting large task binary with size 9.5 MiB\n",
            "25/05/19 23:47:48 WARN DAGScheduler: Broadcasting large task binary with size 9.5 MiB\n",
            "25/05/19 23:47:49 WARN DAGScheduler: Broadcasting large task binary with size 9.5 MiB\n",
            "25/05/19 23:47:49 WARN DAGScheduler: Broadcasting large task binary with size 9.5 MiB\n",
            "25/05/19 23:47:50 WARN DAGScheduler: Broadcasting large task binary with size 9.5 MiB\n",
            "25/05/19 23:47:50 WARN DAGScheduler: Broadcasting large task binary with size 9.6 MiB\n",
            "25/05/19 23:47:51 WARN DAGScheduler: Broadcasting large task binary with size 9.5 MiB\n",
            "25/05/19 23:47:51 WARN DAGScheduler: Broadcasting large task binary with size 9.6 MiB\n",
            "25/05/19 23:47:52 WARN DAGScheduler: Broadcasting large task binary with size 9.6 MiB\n",
            "25/05/19 23:47:52 WARN DAGScheduler: Broadcasting large task binary with size 9.6 MiB\n",
            "25/05/19 23:47:53 WARN DAGScheduler: Broadcasting large task binary with size 9.6 MiB\n",
            "25/05/19 23:47:53 WARN DAGScheduler: Broadcasting large task binary with size 9.6 MiB\n",
            "25/05/19 23:47:54 WARN DAGScheduler: Broadcasting large task binary with size 9.6 MiB\n",
            "25/05/19 23:47:54 WARN DAGScheduler: Broadcasting large task binary with size 9.6 MiB\n",
            "25/05/19 23:47:55 WARN DAGScheduler: Broadcasting large task binary with size 9.6 MiB\n",
            "25/05/19 23:47:55 WARN DAGScheduler: Broadcasting large task binary with size 9.6 MiB\n",
            "25/05/19 23:47:56 WARN DAGScheduler: Broadcasting large task binary with size 9.6 MiB\n",
            "25/05/19 23:47:56 WARN DAGScheduler: Broadcasting large task binary with size 9.6 MiB\n",
            "25/05/19 23:47:57 WARN DAGScheduler: Broadcasting large task binary with size 9.6 MiB\n",
            "25/05/19 23:47:57 WARN DAGScheduler: Broadcasting large task binary with size 9.6 MiB\n",
            "25/05/19 23:47:58 WARN DAGScheduler: Broadcasting large task binary with size 9.6 MiB\n",
            "25/05/19 23:47:58 WARN DAGScheduler: Broadcasting large task binary with size 9.6 MiB\n",
            "25/05/19 23:47:59 WARN DAGScheduler: Broadcasting large task binary with size 9.6 MiB\n",
            "25/05/19 23:48:00 WARN DAGScheduler: Broadcasting large task binary with size 9.6 MiB\n",
            "25/05/19 23:48:00 WARN DAGScheduler: Broadcasting large task binary with size 9.6 MiB\n",
            "25/05/19 23:48:01 WARN DAGScheduler: Broadcasting large task binary with size 9.6 MiB\n",
            "25/05/19 23:48:02 WARN DAGScheduler: Broadcasting large task binary with size 9.6 MiB\n",
            "25/05/19 23:48:02 WARN DAGScheduler: Broadcasting large task binary with size 9.6 MiB\n",
            "25/05/19 23:48:03 WARN DAGScheduler: Broadcasting large task binary with size 9.6 MiB\n",
            "25/05/19 23:48:03 WARN DAGScheduler: Broadcasting large task binary with size 9.6 MiB\n",
            "25/05/19 23:48:04 WARN DAGScheduler: Broadcasting large task binary with size 9.6 MiB\n",
            "25/05/19 23:48:04 WARN DAGScheduler: Broadcasting large task binary with size 9.6 MiB\n",
            "25/05/19 23:48:05 WARN DAGScheduler: Broadcasting large task binary with size 9.6 MiB\n",
            "25/05/19 23:48:05 WARN DAGScheduler: Broadcasting large task binary with size 9.6 MiB\n",
            "25/05/19 23:48:05 WARN DAGScheduler: Broadcasting large task binary with size 9.6 MiB\n",
            "25/05/19 23:48:06 WARN DAGScheduler: Broadcasting large task binary with size 9.6 MiB\n",
            "25/05/19 23:48:07 WARN DAGScheduler: Broadcasting large task binary with size 9.6 MiB\n",
            "25/05/19 23:48:07 WARN DAGScheduler: Broadcasting large task binary with size 9.6 MiB\n",
            "25/05/19 23:48:08 WARN DAGScheduler: Broadcasting large task binary with size 9.6 MiB\n",
            "25/05/19 23:48:08 WARN DAGScheduler: Broadcasting large task binary with size 9.5 MiB\n",
            "25/05/19 23:48:08 WARN TaskSetManager: Stage 1483 contains a task of very large size (1208 KiB). The maximum recommended task size is 1000 KiB.\n",
            "25/05/19 23:48:08 WARN DAGScheduler: Broadcasting large task binary with size 9.6 MiB\n",
            "25/05/19 23:48:09 WARN DAGScheduler: Broadcasting large task binary with size 9.6 MiB\n",
            "25/05/19 23:48:16 WARN DAGScheduler: Broadcasting large task binary with size 9.5 MiB\n",
            "25/05/19 23:48:16 WARN TaskSetManager: Stage 1519 contains a task of very large size (1208 KiB). The maximum recommended task size is 1000 KiB.\n",
            "25/05/19 23:48:22 WARN DAGScheduler: Broadcasting large task binary with size 3.7 MiB\n",
            "25/05/19 23:48:23 WARN DAGScheduler: Broadcasting large task binary with size 9.7 MiB\n",
            "25/05/19 23:48:24 WARN DAGScheduler: Broadcasting large task binary with size 9.7 MiB\n",
            "25/05/19 23:48:24 WARN DAGScheduler: Broadcasting large task binary with size 9.5 MiB\n",
            "25/05/19 23:48:24 WARN TaskSetManager: Stage 1562 contains a task of very large size (1208 KiB). The maximum recommended task size is 1000 KiB.\n",
            "25/05/19 23:48:24 WARN DAGScheduler: Broadcasting large task binary with size 9.5 MiB\n",
            "25/05/19 23:48:24 WARN TaskSetManager: Stage 1563 contains a task of very large size (1208 KiB). The maximum recommended task size is 1000 KiB.\n",
            "25/05/19 23:48:31 WARN DAGScheduler: Broadcasting large task binary with size 9.5 MiB\n",
            "25/05/19 23:48:38 WARN DAGScheduler: Broadcasting large task binary with size 9.5 MiB\n",
            "25/05/19 23:48:38 WARN DAGScheduler: Broadcasting large task binary with size 9.5 MiB\n",
            "25/05/19 23:48:44 WARN DAGScheduler: Broadcasting large task binary with size 9.5 MiB\n",
            "25/05/19 23:48:45 WARN DAGScheduler: Broadcasting large task binary with size 9.5 MiB\n",
            "25/05/19 23:48:45 WARN DAGScheduler: Broadcasting large task binary with size 9.5 MiB\n",
            "25/05/19 23:48:46 WARN DAGScheduler: Broadcasting large task binary with size 9.5 MiB\n",
            "25/05/19 23:48:46 WARN DAGScheduler: Broadcasting large task binary with size 9.5 MiB\n",
            "25/05/19 23:48:47 WARN DAGScheduler: Broadcasting large task binary with size 9.5 MiB\n",
            "25/05/19 23:48:47 WARN DAGScheduler: Broadcasting large task binary with size 9.5 MiB\n",
            "25/05/19 23:48:48 WARN DAGScheduler: Broadcasting large task binary with size 9.5 MiB\n",
            "25/05/19 23:48:48 WARN DAGScheduler: Broadcasting large task binary with size 9.5 MiB\n",
            "25/05/19 23:48:49 WARN DAGScheduler: Broadcasting large task binary with size 9.5 MiB\n",
            "25/05/19 23:48:49 WARN DAGScheduler: Broadcasting large task binary with size 9.5 MiB\n",
            "25/05/19 23:48:50 WARN DAGScheduler: Broadcasting large task binary with size 9.5 MiB\n",
            "25/05/19 23:48:51 WARN DAGScheduler: Broadcasting large task binary with size 9.5 MiB\n",
            "25/05/19 23:48:51 WARN DAGScheduler: Broadcasting large task binary with size 9.5 MiB\n",
            "25/05/19 23:48:52 WARN DAGScheduler: Broadcasting large task binary with size 9.5 MiB\n",
            "25/05/19 23:48:52 WARN DAGScheduler: Broadcasting large task binary with size 9.5 MiB\n",
            "25/05/19 23:48:53 WARN DAGScheduler: Broadcasting large task binary with size 9.5 MiB\n",
            "25/05/19 23:48:53 WARN DAGScheduler: Broadcasting large task binary with size 9.5 MiB\n",
            "25/05/19 23:48:54 WARN DAGScheduler: Broadcasting large task binary with size 9.5 MiB\n",
            "25/05/19 23:48:55 WARN DAGScheduler: Broadcasting large task binary with size 9.5 MiB\n",
            "25/05/19 23:48:55 WARN DAGScheduler: Broadcasting large task binary with size 9.5 MiB\n",
            "25/05/19 23:48:56 WARN DAGScheduler: Broadcasting large task binary with size 9.5 MiB\n",
            "25/05/19 23:48:56 WARN DAGScheduler: Broadcasting large task binary with size 9.5 MiB\n",
            "25/05/19 23:48:57 WARN DAGScheduler: Broadcasting large task binary with size 9.5 MiB\n",
            "25/05/19 23:48:57 WARN DAGScheduler: Broadcasting large task binary with size 9.5 MiB\n",
            "25/05/19 23:48:58 WARN DAGScheduler: Broadcasting large task binary with size 9.5 MiB\n",
            "25/05/19 23:48:58 WARN DAGScheduler: Broadcasting large task binary with size 9.5 MiB\n",
            "25/05/19 23:48:58 WARN DAGScheduler: Broadcasting large task binary with size 9.5 MiB\n",
            "25/05/19 23:48:59 WARN DAGScheduler: Broadcasting large task binary with size 9.5 MiB\n",
            "25/05/19 23:49:00 WARN DAGScheduler: Broadcasting large task binary with size 9.5 MiB\n",
            "25/05/19 23:49:00 WARN DAGScheduler: Broadcasting large task binary with size 9.5 MiB\n",
            "25/05/19 23:49:01 WARN DAGScheduler: Broadcasting large task binary with size 9.5 MiB\n",
            "25/05/19 23:49:01 WARN DAGScheduler: Broadcasting large task binary with size 9.5 MiB\n",
            "25/05/19 23:49:02 WARN DAGScheduler: Broadcasting large task binary with size 9.5 MiB\n",
            "25/05/19 23:49:02 WARN DAGScheduler: Broadcasting large task binary with size 9.5 MiB\n",
            "25/05/19 23:49:03 WARN DAGScheduler: Broadcasting large task binary with size 9.5 MiB\n",
            "25/05/19 23:49:04 WARN DAGScheduler: Broadcasting large task binary with size 9.5 MiB\n",
            "25/05/19 23:49:04 WARN DAGScheduler: Broadcasting large task binary with size 9.6 MiB\n",
            "25/05/19 23:49:05 WARN DAGScheduler: Broadcasting large task binary with size 9.5 MiB\n",
            "25/05/19 23:49:05 WARN DAGScheduler: Broadcasting large task binary with size 9.6 MiB\n",
            "25/05/19 23:49:06 WARN DAGScheduler: Broadcasting large task binary with size 9.6 MiB\n",
            "25/05/19 23:49:06 WARN DAGScheduler: Broadcasting large task binary with size 9.6 MiB\n",
            "25/05/19 23:49:07 WARN DAGScheduler: Broadcasting large task binary with size 9.6 MiB\n",
            "25/05/19 23:49:07 WARN DAGScheduler: Broadcasting large task binary with size 9.6 MiB\n",
            "25/05/19 23:49:08 WARN DAGScheduler: Broadcasting large task binary with size 9.6 MiB\n",
            "25/05/19 23:49:08 WARN DAGScheduler: Broadcasting large task binary with size 9.6 MiB\n",
            "25/05/19 23:49:09 WARN DAGScheduler: Broadcasting large task binary with size 9.6 MiB\n",
            "25/05/19 23:49:09 WARN DAGScheduler: Broadcasting large task binary with size 9.6 MiB\n",
            "25/05/19 23:49:10 WARN DAGScheduler: Broadcasting large task binary with size 9.6 MiB\n",
            "25/05/19 23:49:11 WARN DAGScheduler: Broadcasting large task binary with size 9.6 MiB\n",
            "25/05/19 23:49:11 WARN DAGScheduler: Broadcasting large task binary with size 9.6 MiB\n",
            "25/05/19 23:49:12 WARN DAGScheduler: Broadcasting large task binary with size 9.6 MiB\n",
            "25/05/19 23:49:12 WARN DAGScheduler: Broadcasting large task binary with size 9.6 MiB\n",
            "25/05/19 23:49:13 WARN DAGScheduler: Broadcasting large task binary with size 9.6 MiB\n",
            "25/05/19 23:49:13 WARN DAGScheduler: Broadcasting large task binary with size 9.6 MiB\n",
            "25/05/19 23:49:14 WARN DAGScheduler: Broadcasting large task binary with size 9.6 MiB\n",
            "25/05/19 23:49:14 WARN DAGScheduler: Broadcasting large task binary with size 9.6 MiB\n",
            "25/05/19 23:49:15 WARN DAGScheduler: Broadcasting large task binary with size 9.6 MiB\n",
            "25/05/19 23:49:15 WARN DAGScheduler: Broadcasting large task binary with size 9.6 MiB\n",
            "25/05/19 23:49:16 WARN DAGScheduler: Broadcasting large task binary with size 9.6 MiB\n",
            "25/05/19 23:49:17 WARN DAGScheduler: Broadcasting large task binary with size 9.6 MiB\n",
            "25/05/19 23:49:17 WARN DAGScheduler: Broadcasting large task binary with size 9.6 MiB\n",
            "25/05/19 23:49:18 WARN DAGScheduler: Broadcasting large task binary with size 9.6 MiB\n"
          ]
        }
      ],
      "source": [
        "# 6. Cache the datasets\n",
        "training.cache()\n",
        "test.cache()\n",
        "\n",
        "# 7. Fit the model using cross-validation\n",
        "print(\"Training model with cross-validation...\")\n",
        "cvModel = cv.fit(training)"
      ]
    },
    {
      "cell_type": "code",
      "execution_count": 28,
      "metadata": {},
      "outputs": [
        {
          "name": "stdout",
          "output_type": "stream",
          "text": [
            "\n",
            "Best Model Parameters:\n",
            "Rank: 15\n",
            "\n",
            "All Model Parameters:\n",
            "blockSize: block size for stacking input data in matrices. Data is stacked within partitions. If block size is more than remaining data in a partition then it is adjusted to the size of this data. (default: 4096)\n",
            "coldStartStrategy: strategy for dealing with unknown or new users/items at prediction time. This may be useful in cross-validation or production scenarios, for handling user/item ids the model has not seen in the training data. Supported values: 'nan', 'drop'. (default: nan, current: drop)\n",
            "itemCol: column name for item ids. Ids must be within the integer value range. (default: item, current: bookId)\n",
            "predictionCol: prediction column name. (default: prediction)\n",
            "userCol: column name for user ids. Ids must be within the integer value range. (default: user, current: User-ID)\n"
          ]
        }
      ],
      "source": [
        "# 8. Get the best model\n",
        "bestModel = cvModel.bestModel\n",
        "\n",
        "# 9. Print the best parameters\n",
        "# Print the best parameters\n",
        "print(\"\\nBest Model Parameters:\")\n",
        "print(f\"Rank: {bestModel.rank}\")\n",
        "print(\"\\nAll Model Parameters:\")\n",
        "print(bestModel.explainParams())"
      ]
    },
    {
      "cell_type": "code",
      "execution_count": 29,
      "metadata": {},
      "outputs": [],
      "source": [
        "# 10. Make predictions on validation set\n",
        "predictions = bestModel.transform(test)\n"
      ]
    },
    {
      "cell_type": "code",
      "execution_count": 30,
      "metadata": {},
      "outputs": [
        {
          "name": "stderr",
          "output_type": "stream",
          "text": [
            "25/05/19 23:49:18 WARN DAGScheduler: Broadcasting large task binary with size 9.5 MiB\n",
            "25/05/19 23:49:18 WARN TaskSetManager: Stage 2190 contains a task of very large size (1208 KiB). The maximum recommended task size is 1000 KiB.\n",
            "25/05/19 23:49:19 WARN DAGScheduler: Broadcasting large task binary with size 9.6 MiB\n",
            "25/05/19 23:49:19 WARN DAGScheduler: Broadcasting large task binary with size 9.6 MiB\n",
            "25/05/19 23:49:29 WARN DAGScheduler: Broadcasting large task binary with size 9.5 MiB\n",
            "25/05/19 23:49:30 WARN TaskSetManager: Stage 2226 contains a task of very large size (1208 KiB). The maximum recommended task size is 1000 KiB.\n",
            "25/05/19 23:49:37 WARN DAGScheduler: Broadcasting large task binary with size 3.7 MiB\n",
            "25/05/19 23:49:38 WARN DAGScheduler: Broadcasting large task binary with size 9.7 MiB\n",
            "25/05/19 23:49:39 WARN DAGScheduler: Broadcasting large task binary with size 9.7 MiB\n",
            "                                                                                \r"
          ]
        },
        {
          "name": "stdout",
          "output_type": "stream",
          "text": [
            "\n",
            "Root-mean-square error on validation set = 0.9395816806134795\n",
            "\n",
            "Sample Predictions:\n"
          ]
        },
        {
          "name": "stderr",
          "output_type": "stream",
          "text": [
            "25/05/19 23:49:39 WARN DAGScheduler: Broadcasting large task binary with size 9.6 MiB\n",
            "25/05/19 23:49:39 WARN DAGScheduler: Broadcasting large task binary with size 9.6 MiB\n",
            "25/05/19 23:49:39 WARN DAGScheduler: Broadcasting large task binary with size 9.5 MiB\n",
            "25/05/19 23:49:40 WARN TaskSetManager: Stage 2304 contains a task of very large size (1208 KiB). The maximum recommended task size is 1000 KiB.\n",
            "25/05/19 23:49:47 WARN DAGScheduler: Broadcasting large task binary with size 3.7 MiB\n"
          ]
        },
        {
          "name": "stdout",
          "output_type": "stream",
          "text": [
            "+-------+----------+---------------+-----------+\n",
            "|User-ID|      ISBN|implicit_rating| prediction|\n",
            "+-------+----------+---------------+-----------+\n",
            "| 136943|1400034779|              1|0.017936502|\n",
            "|  31556|1400034779|              1| 0.16494744|\n",
            "|  60244|1400034779|              1| 0.85197943|\n",
            "|  48494|1400034779|              1|0.105129786|\n",
            "|  73394|1400034779|              1|  0.6363117|\n",
            "+-------+----------+---------------+-----------+\n",
            "only showing top 5 rows\n",
            "\n"
          ]
        },
        {
          "name": "stderr",
          "output_type": "stream",
          "text": [
            "25/05/19 23:49:48 WARN DAGScheduler: Broadcasting large task binary with size 9.7 MiB\n"
          ]
        }
      ],
      "source": [
        "# 11. Evaluate final model\n",
        "rmse = evaluator.evaluate(predictions)\n",
        "print(f\"\\nRoot-mean-square error on validation set = {rmse}\")\n",
        "\n",
        "# 12. Show sample predictions\n",
        "print(\"\\nSample Predictions:\")\n",
        "predictions.select(\"User-ID\", \"ISBN\", \"implicit_rating\", \"prediction\").show(5)\n"
      ]
    },
    {
      "cell_type": "code",
      "execution_count": 31,
      "metadata": {},
      "outputs": [
        {
          "name": "stderr",
          "output_type": "stream",
          "text": [
            "25/05/19 23:49:48 WARN DAGScheduler: Broadcasting large task binary with size 9.6 MiB\n",
            "25/05/19 23:49:48 WARN DAGScheduler: Broadcasting large task binary with size 9.6 MiB\n",
            "25/05/19 23:49:49 WARN DAGScheduler: Broadcasting large task binary with size 9.5 MiB\n",
            "25/05/19 23:49:49 WARN TaskSetManager: Stage 2381 contains a task of very large size (1208 KiB). The maximum recommended task size is 1000 KiB.\n",
            "25/05/19 23:49:56 WARN DAGScheduler: Broadcasting large task binary with size 3.7 MiB\n",
            "25/05/19 23:49:57 WARN DAGScheduler: Broadcasting large task binary with size 9.7 MiB\n"
          ]
        },
        {
          "name": "stdout",
          "output_type": "stream",
          "text": [
            "Number of rows in predictions: 146898\n",
            "Sample of predictions:\n"
          ]
        },
        {
          "name": "stderr",
          "output_type": "stream",
          "text": [
            "25/05/19 23:49:57 WARN DAGScheduler: Broadcasting large task binary with size 9.6 MiB\n",
            "25/05/19 23:49:58 WARN DAGScheduler: Broadcasting large task binary with size 9.6 MiB\n",
            "25/05/19 23:49:58 WARN DAGScheduler: Broadcasting large task binary with size 9.5 MiB\n",
            "25/05/19 23:49:58 WARN TaskSetManager: Stage 2495 contains a task of very large size (1208 KiB). The maximum recommended task size is 1000 KiB.\n",
            "25/05/19 23:50:06 WARN DAGScheduler: Broadcasting large task binary with size 3.8 MiB\n",
            "25/05/19 23:50:08 WARN DAGScheduler: Broadcasting large task binary with size 9.7 MiB\n",
            "                                                                                \r"
          ]
        },
        {
          "name": "stdout",
          "output_type": "stream",
          "text": [
            "+-------+--------------------+---+----------+-----------+---------------+--------------------+--------------------+-------------------+---------+--------------------+--------------------+--------------------+------+-----------+\n",
            "|User-ID|            Location|Age|      ISBN|Book-Rating|implicit_rating|          Book-Title|         Book-Author|Year-Of-Publication|Publisher|         Image-URL-S|         Image-URL-M|         Image-URL-L|bookId| prediction|\n",
            "+-------+--------------------+---+----------+-----------+---------------+--------------------+--------------------+-------------------+---------+--------------------+--------------------+--------------------+------+-----------+\n",
            "| 136943|chesterfield, mis...| 43|1400034779|          0|              1|The No. 1 Ladies'...|Alexander McCall ...|               2003|   Anchor|http://images.ama...|http://images.ama...|http://images.ama...|  31.0|0.017936502|\n",
            "|  31556|chula vista, cali...| 51|1400034779|          0|              1|The No. 1 Ladies'...|Alexander McCall ...|               2003|   Anchor|http://images.ama...|http://images.ama...|http://images.ama...|  31.0| 0.16494744|\n",
            "|  60244|   alvin, texas, usa| 47|1400034779|          9|              1|The No. 1 Ladies'...|Alexander McCall ...|               2003|   Anchor|http://images.ama...|http://images.ama...|http://images.ama...|  31.0| 0.85197943|\n",
            "|  48494|lemon grove, cali...| 51|1400034779|         10|              1|The No. 1 Ladies'...|Alexander McCall ...|               2003|   Anchor|http://images.ama...|http://images.ama...|http://images.ama...|  31.0|0.105129786|\n",
            "|  73394|san diego, califo...| 33|1400034779|          0|              1|The No. 1 Ladies'...|Alexander McCall ...|               2003|   Anchor|http://images.ama...|http://images.ama...|http://images.ama...|  31.0|  0.6363117|\n",
            "+-------+--------------------+---+----------+-----------+---------------+--------------------+--------------------+-------------------+---------+--------------------+--------------------+--------------------+------+-----------+\n",
            "only showing top 5 rows\n",
            "\n",
            "Number of null values in prediction column: 0\n"
          ]
        },
        {
          "name": "stderr",
          "output_type": "stream",
          "text": [
            "25/05/19 23:50:08 WARN DAGScheduler: Broadcasting large task binary with size 9.6 MiB\n",
            "25/05/19 23:50:08 WARN DAGScheduler: Broadcasting large task binary with size 9.6 MiB\n",
            "25/05/19 23:50:08 WARN DAGScheduler: Broadcasting large task binary with size 9.5 MiB\n",
            "25/05/19 23:50:09 WARN TaskSetManager: Stage 2574 contains a task of very large size (1208 KiB). The maximum recommended task size is 1000 KiB.\n",
            "                                                                                \r"
          ]
        },
        {
          "name": "stdout",
          "output_type": "stream",
          "text": [
            "Number of null values in Age column: 0\n",
            "Schema of predictions DataFrame:\n",
            "root\n",
            " |-- User-ID: long (nullable = true)\n",
            " |-- Location: string (nullable = true)\n",
            " |-- Age: long (nullable = true)\n",
            " |-- ISBN: string (nullable = true)\n",
            " |-- Book-Rating: long (nullable = true)\n",
            " |-- implicit_rating: long (nullable = true)\n",
            " |-- Book-Title: string (nullable = true)\n",
            " |-- Book-Author: string (nullable = true)\n",
            " |-- Year-Of-Publication: string (nullable = true)\n",
            " |-- Publisher: string (nullable = true)\n",
            " |-- Image-URL-S: string (nullable = true)\n",
            " |-- Image-URL-M: string (nullable = true)\n",
            " |-- Image-URL-L: string (nullable = true)\n",
            " |-- bookId: double (nullable = false)\n",
            " |-- prediction: float (nullable = false)\n",
            "\n"
          ]
        }
      ],
      "source": [
        "# Add these debug prints after your predictions\n",
        "print(\"Number of rows in predictions:\", predictions.count())\n",
        "print(\"Sample of predictions:\")\n",
        "predictions.show(5)\n",
        "\n",
        "# Check for any null values\n",
        "print(\"Number of null values in prediction column:\", predictions.filter(col(\"prediction\").isNull()).count())\n",
        "print(\"Number of null values in Age column:\", predictions.filter(col(\"Age\").isNull()).count())\n",
        "\n",
        "# Check the data types\n",
        "print(\"Schema of predictions DataFrame:\")\n",
        "predictions.printSchema()"
      ]
    },
    {
      "cell_type": "code",
      "execution_count": 32,
      "metadata": {
        "colab": {
          "base_uri": "https://localhost:8080/"
        },
        "id": "60Pe_-GvV3I0",
        "outputId": "047d49ef-8f51-418e-d272-676e44fa280d"
      },
      "outputs": [
        {
          "name": "stderr",
          "output_type": "stream",
          "text": [
            "25/05/19 23:50:16 WARN DAGScheduler: Broadcasting large task binary with size 9.6 MiB\n",
            "[Stage 2613:=================================================>   (94 + 6) / 100]\r"
          ]
        },
        {
          "name": "stdout",
          "output_type": "stream",
          "text": [
            "+-------+------------------------------------------------------------------------------------------------------------------------------------------------------------------------------------------------------------------------------------------+\n",
            "|User-ID|recommendations                                                                                                                                                                                                                           |\n",
            "+-------+------------------------------------------------------------------------------------------------------------------------------------------------------------------------------------------------------------------------------------------+\n",
            "|243    |[{0, 0.31370947}, {1, 0.24253939}, {2, 0.20925331}, {10, 0.20222141}, {9, 0.20214175}, {13, 0.2020737}, {3, 0.1814909}, {12, 0.17341855}, {36, 0.16706292}, {14, 0.16516985}]                                                             |\n",
            "|392    |[{0, 0.001795707}, {2, 0.0010281475}, {1, 8.5704005E-4}, {8, 5.9743325E-4}, {58, 4.6602747E-4}, {23, 4.5819933E-4}, {35, 4.4046267E-4}, {401, 4.175929E-4}, {5, 3.950626E-4}, {31, 3.9070228E-4}]                                         |\n",
            "|876    |[{13, 0.033835474}, {10, 0.031580333}, {9, 0.029640647}, {18, 0.029287323}, {40, 0.027103871}, {41, 0.026631586}, {32, 0.026464386}, {11, 0.025970962}, {38, 0.025750402}, {36, 0.02566542}]                                              |\n",
            "|1025   |[{0, 0.71586853}, {2, 0.40322295}, {1, 0.34467936}, {8, 0.22593378}, {23, 0.16542208}, {58, 0.16376084}, {35, 0.15725105}, {5, 0.14573877}, {31, 0.13768788}, {401, 0.11575395}]                                                          |\n",
            "|1903   |[{0, 0.6308628}, {2, 0.3766127}, {1, 0.34546238}, {8, 0.22236493}, {58, 0.17297088}, {23, 0.17271823}, {5, 0.16185676}, {31, 0.14891525}, {35, 0.144264}, {20, 0.1361865}]                                                                |\n",
            "|1990   |[{107379, 2.7620347E-4}, {104203, 2.7620347E-4}, {102257, 2.7620347E-4}, {102231, 2.7620347E-4}, {98368, 2.7620347E-4}, {98361, 2.7620347E-4}, {94179, 2.7620347E-4}, {92127, 2.7620347E-4}, {91674, 2.7620347E-4}, {87119, 2.7620347E-4}]|\n",
            "|2996   |[{0, 0.0164073}, {1, 0.01384554}, {2, 0.011746429}, {4, 0.010449659}, {5, 0.009762453}, {6, 0.009719938}, {7, 0.00962401}, {3, 0.009270067}, {19, 0.008850169}, {16, 0.008683132}]                                                        |\n",
            "|4092   |[{0, 0.5431449}, {2, 0.31092763}, {1, 0.27192745}, {8, 0.17743497}, {58, 0.13039723}, {23, 0.12861682}, {35, 0.12135744}, {5, 0.1136318}, {31, 0.10530089}, {15, 0.09681766}]                                                             |\n",
            "|4401   |[{125, 0.0012900115}, {185, 0.0012325853}, {523, 0.0012003251}, {1820, 0.0011611914}, {1563, 0.0011528392}, {168, 0.0011283712}, {273, 0.0011250977}, {151, 0.0011221485}, {122, 0.0010991613}, {494, 0.0010962206}]                      |\n",
            "|4838   |[{0, 0.0032108382}, {1, 0.0031299295}, {2, 0.00266492}, {6, 0.0025588532}, {81, 0.0024736254}, {102, 0.0024186897}, {72, 0.0023931742}, {54, 0.002383145}, {43, 0.0023655917}, {4, 0.0023388148}]                                         |\n",
            "|5287   |[{14, 0.014690252}, {17, 0.013617852}, {3, 0.013484227}, {22, 0.0132373255}, {39, 0.013021514}, {71, 0.012871606}, {64, 0.012211891}, {56, 0.012194066}, {25, 0.01218263}, {105, 0.01190949}]                                             |\n",
            "|5375   |[{50, 0.011083459}, {63, 0.010080936}, {21, 0.009760252}, {352, 0.009125912}, {28, 0.009109135}, {200, 0.008928916}, {57, 0.008808762}, {161, 0.00865105}, {26, 0.008596637}, {185, 0.008384267}]                                         |\n",
            "|5543   |[{0, 0.3954676}, {2, 0.2249101}, {1, 0.19463494}, {8, 0.12827851}, {23, 0.0926238}, {58, 0.092614464}, {35, 0.0877014}, {5, 0.08114724}, {31, 0.07570608}, {15, 0.06642721}]                                                              |\n",
            "|6866   |[{13, 0.05213788}, {10, 0.05120368}, {9, 0.043040503}, {40, 0.039889902}, {41, 0.039869606}, {32, 0.03962608}, {36, 0.038925976}, {104, 0.037879325}, {59, 0.037662134}, {12, 0.03721579}]                                                |\n",
            "|7283   |[{0, 0.8374625}, {2, 0.5002876}, {1, 0.4709666}, {8, 0.307052}, {5, 0.24710445}, {23, 0.24425784}, {35, 0.22686876}, {58, 0.22052369}, {4, 0.21192676}, {31, 0.20913793}]                                                                 |\n",
            "|8935   |[{6, 0.012330069}, {16, 0.0123018045}, {18, 0.012009716}, {13, 0.011786915}, {1, 0.011470174}, {7, 0.011458334}, {3, 0.01113115}, {11, 0.011111895}, {43, 0.010805631}, {9, 0.010749635}]                                                 |\n",
            "|9454   |[{13, 0.04752972}, {10, 0.04724536}, {9, 0.04324729}, {36, 0.040395346}, {44, 0.038439024}, {32, 0.038317185}, {40, 0.03823374}, {41, 0.038120594}, {59, 0.03655335}, {33, 0.03639199}]                                                   |\n",
            "|10241  |[{1, 0.013704411}, {4, 0.013429218}, {6, 0.013148105}, {7, 0.012577955}, {19, 0.012576891}, {3, 0.012129142}, {0, 0.011776943}, {39, 0.011705088}, {16, 0.011530378}, {5, 0.011284611}]                                                   |\n",
            "|10334  |[{0, 0.0042831134}, {1, 0.0029180606}, {2, 0.0028383476}, {8, 0.0020072367}, {5, 0.0019302409}, {23, 0.0017545954}, {4, 0.0017434817}, {58, 0.0016594486}, {7, 0.0016542923}, {31, 0.0016439613}]                                         |\n",
            "|10532  |[{0, 0.042135004}, {2, 0.023424637}, {1, 0.020716472}, {8, 0.013744693}, {58, 0.010872449}, {23, 0.010200464}, {35, 0.009652215}, {5, 0.009401583}, {31, 0.008289449}, {15, 0.007243708}]                                                 |\n",
            "+-------+------------------------------------------------------------------------------------------------------------------------------------------------------------------------------------------------------------------------------------------+\n",
            "only showing top 20 rows\n",
            "\n"
          ]
        },
        {
          "name": "stderr",
          "output_type": "stream",
          "text": [
            "25/05/19 23:50:35 WARN DAGScheduler: Broadcasting large task binary with size 9.6 MiB\n",
            "                                                                                \r"
          ]
        }
      ],
      "source": [
        "# Recommend top 10 books for each user\n",
        "user_recs = bestModel.recommendForAllUsers(10)\n",
        "user_recs.show(truncate=False)\n"
      ]
    },
    {
      "cell_type": "code",
      "execution_count": 33,
      "metadata": {
        "colab": {
          "base_uri": "https://localhost:8080/"
        },
        "id": "tIwa--uTeURL",
        "outputId": "6d10cebd-7748-4eb7-b8d1-74ed18bf233f"
      },
      "outputs": [
        {
          "name": "stderr",
          "output_type": "stream",
          "text": [
            "25/05/19 23:50:35 WARN TaskSetManager: Stage 2649 contains a task of very large size (1208 KiB). The maximum recommended task size is 1000 KiB.\n",
            "25/05/19 23:50:44 WARN DAGScheduler: Broadcasting large task binary with size 9.6 MiB\n",
            "25/05/19 23:51:01 WARN DAGScheduler: Broadcasting large task binary with size 9.6 MiB\n",
            "                                                                                ]\r"
          ]
        },
        {
          "name": "stdout",
          "output_type": "stream",
          "text": [
            "+-------+----------------+-----------------------------+----------------+----------------+\n",
            "|User-ID|Recommended_ISBN|Book-Title                   |Book-Author     |Estimated_Rating|\n",
            "+-------+----------------+-----------------------------+----------------+----------------+\n",
            "|267587 |0553574566      |A Monstrous Regiment of Women|LAURIE R. KING  |0.0018906535    |\n",
            "|142065 |0553574566      |A Monstrous Regiment of Women|LAURIE R. KING  |0.001354369     |\n",
            "|176297 |0553574566      |A Monstrous Regiment of Women|LAURIE R. KING  |6.6474325E-4    |\n",
            "|271066 |0553574566      |A Monstrous Regiment of Women|LAURIE R. KING  |0.004357644     |\n",
            "|82795  |0553574566      |A Monstrous Regiment of Women|LAURIE R. KING  |0.00226217      |\n",
            "|210481 |0553574566      |A Monstrous Regiment of Women|LAURIE R. KING  |0.0021315194    |\n",
            "|566    |0553574566      |A Monstrous Regiment of Women|LAURIE R. KING  |0.0014367441    |\n",
            "|65382  |034540288X      |The Lost World               |Michael Crichton|0.005603724     |\n",
            "|164513 |034540288X      |The Lost World               |Michael Crichton|0.002359108     |\n",
            "|187108 |034540288X      |The Lost World               |Michael Crichton|0.0028052276    |\n",
            "|208755 |034540288X      |The Lost World               |Michael Crichton|0.0049148416    |\n",
            "|71358  |034540288X      |The Lost World               |Michael Crichton|0.0038240978    |\n",
            "|162219 |034540288X      |The Lost World               |Michael Crichton|0.0029440182    |\n",
            "|237912 |034540288X      |The Lost World               |Michael Crichton|0.007249256     |\n",
            "|226297 |034540288X      |The Lost World               |Michael Crichton|0.0027404483    |\n",
            "|20164  |034540288X      |The Lost World               |Michael Crichton|0.0036553044    |\n",
            "|203422 |034540288X      |The Lost World               |Michael Crichton|0.0015330957    |\n",
            "|265257 |034540288X      |The Lost World               |Michael Crichton|0.0030056476    |\n",
            "|262859 |034540288X      |The Lost World               |Michael Crichton|0.0018102736    |\n",
            "|118524 |0451156609      |The Tommyknockers            |Stephen King    |0.0049024485    |\n",
            "+-------+----------------+-----------------------------+----------------+----------------+\n",
            "only showing top 20 rows\n",
            "\n"
          ]
        }
      ],
      "source": [
        "# Assuming you have `books` and `ratings_indexed` Spark DataFrames from the preceding code\n",
        "# You also need the `isbn_indexer` fitted from the previous step to get the original ISBNs\n",
        "\n",
        "# Get the mapping from indexed bookId back to original ISBN\n",
        "# This can be done by accessing the labels from the fitted StringIndexer model\n",
        "# You need to refit the indexer to get the labels again if the previous fit was not saved\n",
        "fitted_isbn_indexer = isbn_indexer.fit(ratings_spark_df)\n",
        "book_id_to_isbn = fitted_isbn_indexer.labels\n",
        "\n",
        "# Create a Spark DataFrame for the book ID to ISBN mapping\n",
        "# The index of the label corresponds to the indexed bookId\n",
        "# Ensure the data type matches the bookId in the recommendations struct (IntegerType)\n",
        "from pyspark.sql.types import IntegerType\n",
        "book_id_mapping = spark.createDataFrame([(i, isbn) for i, isbn in enumerate(book_id_to_isbn)], [\"bookId\", \"Original_ISBN\"])\n",
        "book_id_mapping = book_id_mapping.withColumn(\"bookId\", col(\"bookId\").cast(IntegerType())) # Cast to IntegerType\n",
        "\n",
        "# Now, flatten the recommendations list to join with the main books DataFrame\n",
        "from pyspark.sql.functions import explode\n",
        "\n",
        "user_recs_exploded = user_recs.select(\"User-ID\", explode(\"recommendations\").alias(\"recommendation\"))\n",
        "\n",
        "# Join with the book ID to ISBN mapping\n",
        "# Access the bookId from the exploded 'recommendation' struct\n",
        "user_recs_with_isbn = user_recs_exploded.join(book_id_mapping, user_recs_exploded.recommendation.getItem(\"bookId\") == book_id_mapping.bookId, \"inner\")\n",
        "\n",
        "# Join with the original books DataFrame to get book details\n",
        "# Ensure the 'ISBN' column in the 'books' DataFrame is consistent\n",
        "# Assuming 'ISBN' is the correct column name in your original books Spark DataFrame\n",
        "book_details_recs = user_recs_with_isbn.join(books, user_recs_with_isbn.Original_ISBN == books.ISBN, \"inner\")\n",
        "\n",
        "# Select relevant columns\n",
        "final_recommendations = book_details_recs.select(\n",
        "    user_recs_with_isbn[\"User-ID\"],\n",
        "    user_recs_with_isbn.Original_ISBN.alias(\"Recommended_ISBN\"),\n",
        "    books[\"Book-Title\"],\n",
        "    books[\"Book-Author\"],\n",
        "    user_recs_with_isbn.recommendation.getItem(\"rating\").alias(\"Estimated_Rating\")\n",
        ")\n",
        "\n",
        "# Show the final recommendations with book details\n",
        "final_recommendations.show(truncate=False)"
      ]
    },
    {
      "cell_type": "code",
      "execution_count": 41,
      "metadata": {},
      "outputs": [],
      "source": [
        "def evaluate_recommendations(model, test_data, k):\n",
        "    # Get actual rated books for each user\n",
        "    user_rated_books = test_data.groupBy(\"User-ID\") \\\n",
        "        .agg(collect_list(\"bookId\").alias(\"rated_books\"))\n",
        "    \n",
        "    # Get unique users from test data\n",
        "    users = test_data.select(\"User-ID\").distinct()\n",
        "    \n",
        "    # Generate recommendations for all users\n",
        "    recommendations = model.recommendForUserSubset(users, k)\n",
        "    \n",
        "    # Join recommendations with actual ratings\n",
        "    evaluation_data = recommendations.join(user_rated_books, \"User-ID\")\n",
        "    \n",
        "    def calculate_user_metrics(row):\n",
        "        # Extract book IDs from recommendations\n",
        "        recommended = [r.bookId for r in row.recommendations]\n",
        "        actual = set(row.rated_books)\n",
        "        \n",
        "        # Calculate hits (correct recommendations)\n",
        "        hits = len(set(recommended) & actual)\n",
        "        \n",
        "        # Calculate precision and recall\n",
        "        precision = hits / k if k > 0 else 0\n",
        "        recall = hits / len(actual) if len(actual) > 0 else 0\n",
        "        \n",
        "        return (precision, recall)\n",
        "    \n",
        "    # Calculate metrics for each user\n",
        "    metrics = evaluation_data.rdd.map(calculate_user_metrics).collect()\n",
        "    \n",
        "    # Average metrics across all users\n",
        "    avg_precision = sum(p for p, _ in metrics) / len(metrics)\n",
        "    avg_recall = sum(r for _, r in metrics) / len(metrics)\n",
        "    \n",
        "    return {\n",
        "        'precision@k': avg_precision,\n",
        "        'recall@k': avg_recall\n",
        "    }\n"
      ]
    },
    {
      "cell_type": "code",
      "execution_count": 35,
      "metadata": {},
      "outputs": [
        {
          "name": "stderr",
          "output_type": "stream",
          "text": [
            "25/05/19 23:51:08 WARN DAGScheduler: Broadcasting large task binary with size 9.6 MiB\n",
            "25/05/19 23:51:08 WARN DAGScheduler: Broadcasting large task binary with size 9.5 MiB\n",
            "25/05/19 23:51:08 WARN DAGScheduler: Broadcasting large task binary with size 9.5 MiB\n",
            "25/05/19 23:51:08 WARN TaskSetManager: Stage 2800 contains a task of very large size (1208 KiB). The maximum recommended task size is 1000 KiB.\n",
            "25/05/19 23:51:16 WARN TaskSetManager: Stage 2801 contains a task of very large size (1208 KiB). The maximum recommended task size is 1000 KiB.\n",
            "25/05/19 23:51:17 WARN DAGScheduler: Broadcasting large task binary with size 9.5 MiB\n",
            "25/05/19 23:51:24 WARN DAGScheduler: Broadcasting large task binary with size 9.5 MiB\n",
            "25/05/19 23:51:24 WARN DAGScheduler: Broadcasting large task binary with size 9.6 MiB\n",
            "25/05/19 23:51:25 WARN DAGScheduler: Broadcasting large task binary with size 9.6 MiB\n",
            "25/05/19 23:51:37 WARN DAGScheduler: Broadcasting large task binary with size 9.6 MiB\n",
            "[Stage 2907:=============================================>        (10 + 2) / 12]\r"
          ]
        },
        {
          "name": "stdout",
          "output_type": "stream",
          "text": [
            "Precision@10: 0.0628\n",
            "Recall@10: 0.0180\n",
            "F1-Score@10: 0.0280\n"
          ]
        },
        {
          "name": "stderr",
          "output_type": "stream",
          "text": [
            "                                                                                \r"
          ]
        }
      ],
      "source": [
        "metrics = evaluate_recommendations(bestModel, training, k=10)\n",
        "print(f\"Precision@10: {metrics['precision@k']:.4f}\")\n",
        "f1_score = 2 * (metrics['precision@k'] * metrics['recall@k']) / (metrics['precision@k'] + metrics['recall@k']) if (metrics['precision@k'] + metrics['recall@k']) > 0 else 0\n",
        "print(f\"Recall@10: {metrics['recall@k']:.4f}\")\n",
        "print(f\"F1-Score@10: {f1_score:.4f}\")"
      ]
    },
    {
      "cell_type": "code",
      "execution_count": 37,
      "metadata": {},
      "outputs": [
        {
          "name": "stderr",
          "output_type": "stream",
          "text": [
            "25/05/19 23:52:46 WARN DAGScheduler: Broadcasting large task binary with size 9.6 MiB\n",
            "25/05/19 23:52:47 WARN DAGScheduler: Broadcasting large task binary with size 9.5 MiB\n",
            "25/05/19 23:52:47 WARN DAGScheduler: Broadcasting large task binary with size 9.5 MiB\n",
            "25/05/19 23:52:47 WARN TaskSetManager: Stage 3084 contains a task of very large size (1208 KiB). The maximum recommended task size is 1000 KiB.\n",
            "25/05/19 23:52:56 WARN TaskSetManager: Stage 3085 contains a task of very large size (1208 KiB). The maximum recommended task size is 1000 KiB.\n",
            "25/05/19 23:52:57 WARN DAGScheduler: Broadcasting large task binary with size 9.5 MiB\n",
            "25/05/19 23:53:03 WARN DAGScheduler: Broadcasting large task binary with size 9.5 MiB\n",
            "25/05/19 23:53:03 WARN DAGScheduler: Broadcasting large task binary with size 9.6 MiB\n",
            "25/05/19 23:53:04 WARN DAGScheduler: Broadcasting large task binary with size 9.6 MiB\n",
            "25/05/19 23:53:12 WARN DAGScheduler: Broadcasting large task binary with size 9.6 MiB\n",
            "[Stage 3191:==================>                                    (4 + 8) / 12]\r"
          ]
        },
        {
          "name": "stdout",
          "output_type": "stream",
          "text": [
            "MAP@10: 0.0077\n",
            "NDCG@10: 0.0714\n"
          ]
        },
        {
          "name": "stderr",
          "output_type": "stream",
          "text": [
            "                                                                                \r"
          ]
        }
      ],
      "source": [
        "from pyspark.sql.functions import collect_list\n",
        "import numpy as np\n",
        "def calculate_map_ndcg(model, test_data, k=10):\n",
        "    # Get actual rated books for each user\n",
        "    user_rated_books = test_data.groupBy(\"User-ID\") \\\n",
        "        .agg(collect_list(\"bookId\").alias(\"rated_books\"))\n",
        "    \n",
        "    # Generate recommendations for all users\n",
        "    # Check if recommendations already exist\n",
        "    if 'recommendations' in locals():\n",
        "        pass\n",
        "    else:\n",
        "        # Get unique users from test data\n",
        "        users = test_data.select(\"User-ID\").distinct()\n",
        "        # Generate recommendations for all users\n",
        "        recommendations = model.recommendForUserSubset(users, k)\n",
        "    # Join recommendations with actual ratings\n",
        "    evaluation_data = recommendations.join(user_rated_books, \"User-ID\")\n",
        "    \n",
        "    def calculate_user_metrics(row):\n",
        "        # Extract book IDs and scores from recommendations\n",
        "        recommended = [(r.bookId, r.rating) for r in row.recommendations]\n",
        "        actual = set(row.rated_books)\n",
        "        \n",
        "        # Calculate MAP@K\n",
        "        ap = 0.0\n",
        "        hits = 0\n",
        "        for i, (book_id, _) in enumerate(recommended):\n",
        "            if book_id in actual:\n",
        "                hits += 1\n",
        "                ap += hits / (i + 1)\n",
        "        map_score = ap / len(actual) if len(actual) > 0 else 0\n",
        "        \n",
        "        # Calculate NDCG@K\n",
        "        # Create ideal ranking (all relevant items first)\n",
        "        ideal_ranking = [1.0] * len(actual) + [0.0] * (k - len(actual))\n",
        "        \n",
        "        # Calculate DCG\n",
        "        dcg = 0.0\n",
        "        for i, (book_id, _) in enumerate(recommended):\n",
        "            if book_id in actual:\n",
        "                dcg += 1.0 / np.log2(i + 2)  # log2(i+2) because i starts at 0\n",
        "        \n",
        "        # Calculate IDCG\n",
        "        idcg = sum(1.0 / np.log2(i + 2) for i in range(min(len(actual), k)))\n",
        "        \n",
        "        # Calculate NDCG\n",
        "        ndcg = dcg / idcg if idcg > 0 else 0\n",
        "        \n",
        "        return (map_score, ndcg)\n",
        "    \n",
        "    # Apply the metrics calculation\n",
        "    metrics = evaluation_data.rdd.map(calculate_user_metrics).collect()\n",
        "    \n",
        "    # Calculate average MAP and NDCG\n",
        "    avg_map = np.mean([m[0] for m in metrics])\n",
        "    avg_ndcg = np.mean([m[1] for m in metrics])\n",
        "    \n",
        "    return {\n",
        "        \"map@k\": avg_map,\n",
        "        \"ndcg@k\": avg_ndcg\n",
        "    }\n",
        "\n",
        "# Calculate and print MAP@K and NDCG@K\n",
        "map_ndcg_metrics = calculate_map_ndcg(bestModel, training, k=10)\n",
        "print(f\"MAP@10: {map_ndcg_metrics['map@k']:.4f}\")\n",
        "print(f\"NDCG@10: {map_ndcg_metrics['ndcg@k']:.4f}\")\n"
      ]
    },
    {
      "cell_type": "code",
      "execution_count": 38,
      "metadata": {},
      "outputs": [
        {
          "name": "stderr",
          "output_type": "stream",
          "text": [
            "25/05/19 23:54:15 WARN DAGScheduler: Broadcasting large task binary with size 4.2 MiB\n",
            "                                                                                \r"
          ]
        },
        {
          "name": "stdout",
          "output_type": "stream",
          "text": [
            "+-------+--------------------+---+----------+-----------+---------------+\n",
            "|User-ID|            Location|Age|      ISBN|Book-Rating|implicit_rating|\n",
            "+-------+--------------------+---+----------+-----------+---------------+\n",
            "|    243|arden hills, minn...| 45|0060915544|         10|              1|\n",
            "|    243|arden hills, minn...| 45|0060977493|          7|              1|\n",
            "|    243|arden hills, minn...| 45|0140272100|          6|              1|\n",
            "|    243|arden hills, minn...| 45|0156006529|          0|              1|\n",
            "|    243|arden hills, minn...| 45|0312169787|          0|              1|\n",
            "+-------+--------------------+---+----------+-----------+---------------+\n",
            "only showing top 5 rows\n",
            "\n"
          ]
        },
        {
          "name": "stderr",
          "output_type": "stream",
          "text": [
            "25/05/19 23:54:17 WARN DAGScheduler: Broadcasting large task binary with size 4.5 MiB\n"
          ]
        }
      ],
      "source": [
        "filtered_user_ratings.show(5)"
      ]
    },
    {
      "cell_type": "code",
      "execution_count": 69,
      "metadata": {},
      "outputs": [
        {
          "name": "stderr",
          "output_type": "stream",
          "text": [
            "25/05/20 01:28:00 WARN TaskSetManager: Stage 11918 contains a task of very large size (1208 KiB). The maximum recommended task size is 1000 KiB.\n",
            "                                                                                \r"
          ]
        }
      ],
      "source": [
        "# Create mapping between numeric IDs and ISBNs\n",
        "# Assuming you have the original mapping from when you created the model\n",
        "fitted_isbn_indexer = isbn_indexer.fit(ratings_spark_df)\n",
        "book_id_to_isbn = fitted_isbn_indexer.labels\n",
        "\n",
        "# Create a reverse mapping (ISBN to numeric ID)\n",
        "isbn_to_id = {isbn: idx for idx, isbn in enumerate(book_id_to_isbn)}\n",
        "\n",
        "def get_reranked_recommendations(user_id, current_book_isbn, num_recommendations=10):\n",
        "    # Convert ISBN to numeric ID\n",
        "    current_book_id = isbn_to_id.get(current_book_isbn)\n",
        "    if current_book_id is None:\n",
        "        print(f\"Book ISBN {current_book_isbn} not found in the mapping\")\n",
        "        return None\n",
        "    print(f\"Current book ID: {current_book_id}\")\n",
        "    \n",
        "    # Step 1: Get initial ALS recommendations\n",
        "    try:\n",
        "        user_recs = bestModel.recommendForUserSubset(\n",
        "            spark.createDataFrame([(user_id,)], [\"User-ID\"]), \n",
        "            num_recommendations\n",
        "        )\n",
        "        user_recs = user_recs.collect()\n",
        "        \n",
        "        if not user_recs:\n",
        "            print(f\"No recommendations found for user {user_id}\")\n",
        "            return None\n",
        "        \n",
        "        # Get recommendations list\n",
        "        recommendations = user_recs[0].recommendations\n",
        "        \n",
        "        # Step 2: Get the current book's features\n",
        "        current_book_features = None\n",
        "        for item in bestModel.itemFactors.collect():\n",
        "            if item.id == current_book_id:\n",
        "                current_book_features = np.array(item.features)\n",
        "                break\n",
        "        if current_book_features is None:\n",
        "            print(f\"Current book ID {current_book_id} not found in the model\")\n",
        "            return None\n",
        "        \n",
        "        # Step 3: Calculate similarities and create a list of (ISBN, rating, similarity)\n",
        "        recommendations_with_similarity = []\n",
        "        for rec in recommendations:  # Use recommendations instead of user_recs[0].recommendations\n",
        "            rec_features = None\n",
        "            for item in bestModel.itemFactors.collect():\n",
        "                if item.id == rec.bookId:\n",
        "                    rec_features = np.array(item.features)\n",
        "                    break\n",
        "            \n",
        "            if rec_features is not None:\n",
        "                # Convert current book features to numpy array if not already\n",
        "                if not isinstance(current_book_features, np.ndarray):\n",
        "                    current_book_features = np.array(current_book_features)\n",
        "                \n",
        "                # Calculate cosine similarity using numpy\n",
        "                dot_product = np.dot(current_book_features, rec_features)\n",
        "                norm_current = np.linalg.norm(current_book_features)\n",
        "                norm_rec = np.linalg.norm(rec_features)\n",
        "                similarity = float(dot_product / (norm_current * norm_rec))\n",
        "                \n",
        "                # Convert numeric ID back to ISBN for display\n",
        "                isbn = book_id_to_isbn[rec.bookId]\n",
        "                recommendations_with_similarity.append((isbn, rec.rating, similarity))\n",
        "            else:\n",
        "                print(f\"Could not find features for bookId: {rec.bookId}\")\n",
        "        \n",
        "        if not recommendations_with_similarity:\n",
        "            print(\"No similar books found\")\n",
        "            return None\n",
        "        \n",
        "        # Step 4: Create DataFrames for recommendations and similarities\n",
        "        recommendations_df = spark.createDataFrame(\n",
        "            [(isbn, rating) for isbn, rating, _ in recommendations_with_similarity],\n",
        "            [\"ISBN\", \"rating\"]\n",
        "        )\n",
        "        \n",
        "        similarities_df = spark.createDataFrame(\n",
        "            [(isbn, similarity) for isbn, _, similarity in recommendations_with_similarity],\n",
        "            [\"ISBN\", \"Similarity\"]\n",
        "        )\n",
        "        \n",
        "        # Step 5: Join with book details and similarities\n",
        "        book_details_recs = recommendations_df.join(\n",
        "            books,\n",
        "            recommendations_df.ISBN == books.ISBN,\n",
        "            \"inner\"\n",
        "        ).join(\n",
        "            similarities_df,\n",
        "            recommendations_df.ISBN == similarities_df.ISBN,\n",
        "            \"inner\"\n",
        "        )\n",
        "        \n",
        "        # Step 6: Calculate final score (combine ALS rating and similarity)\n",
        "        als_weight = 0.7\n",
        "        similarity_weight = 0.3\n",
        "        \n",
        "        final_recommendations = book_details_recs.select(\n",
        "            books[\"ISBN\"],\n",
        "            books[\"Book-Title\"],\n",
        "            books[\"Book-Author\"],\n",
        "            recommendations_df[\"rating\"].alias(\"ALS_Rating\"),\n",
        "            similarities_df[\"Similarity\"],\n",
        "            (recommendations_df[\"rating\"] * als_weight + \n",
        "             similarities_df[\"Similarity\"] * similarity_weight).alias(\"Final_Score\")\n",
        "        ).orderBy(\"Final_Score\", ascending=False)\n",
        "        # Filter recommendations to only include those with similarity > 0.5\n",
        "        final_recommendations = final_recommendations.filter(\n",
        "            similarities_df[\"Similarity\"] > 0.3\n",
        "        )\n",
        "        return final_recommendations\n",
        "        \n",
        "    except Exception as e:\n",
        "        print(f\"Error getting recommendations: {str(e)}\")\n",
        "        return None"
      ]
    },
    {
      "cell_type": "code",
      "execution_count": 71,
      "metadata": {},
      "outputs": [
        {
          "name": "stderr",
          "output_type": "stream",
          "text": [
            "25/05/20 01:30:23 WARN TaskSetManager: Stage 13121 contains a task of very large size (1208 KiB). The maximum recommended task size is 1000 KiB.\n",
            "25/05/20 01:30:27 WARN TaskSetManager: Stage 13124 contains a task of very large size (1208 KiB). The maximum recommended task size is 1000 KiB.\n",
            "25/05/20 01:30:36 WARN DAGScheduler: Broadcasting large task binary with size 9.6 MiB\n"
          ]
        },
        {
          "name": "stdout",
          "output_type": "stream",
          "text": [
            "Generating recommendations for 50 users and 50 books...\n",
            "Current book ID: 232890\n"
          ]
        },
        {
          "name": "stderr",
          "output_type": "stream",
          "text": [
            "25/05/20 01:30:39 WARN DAGScheduler: Broadcasting large task binary with size 9.6 MiB\n",
            "25/05/20 01:30:39 WARN DAGScheduler: Broadcasting large task binary with size 9.6 MiB\n",
            "25/05/20 01:30:40 WARN DAGScheduler: Broadcasting large task binary with size 9.6 MiB\n",
            "25/05/20 01:30:41 WARN DAGScheduler: Broadcasting large task binary with size 9.6 MiB\n",
            "25/05/20 01:30:43 WARN DAGScheduler: Broadcasting large task binary with size 9.6 MiB\n",
            "25/05/20 01:30:45 WARN DAGScheduler: Broadcasting large task binary with size 9.6 MiB\n",
            "25/05/20 01:30:48 WARN DAGScheduler: Broadcasting large task binary with size 9.6 MiB\n",
            "25/05/20 01:30:50 WARN DAGScheduler: Broadcasting large task binary with size 9.6 MiB\n",
            "25/05/20 01:30:53 WARN DAGScheduler: Broadcasting large task binary with size 9.6 MiB\n",
            "                                                                                0]]\r"
          ]
        },
        {
          "name": "stdout",
          "output_type": "stream",
          "text": [
            "Current book ID: 13183\n"
          ]
        },
        {
          "name": "stderr",
          "output_type": "stream",
          "text": [
            "25/05/20 01:31:01 WARN DAGScheduler: Broadcasting large task binary with size 9.6 MiB\n",
            "25/05/20 01:31:05 WARN DAGScheduler: Broadcasting large task binary with size 9.6 MiB\n",
            "25/05/20 01:31:05 WARN DAGScheduler: Broadcasting large task binary with size 9.6 MiB\n",
            "25/05/20 01:31:06 WARN DAGScheduler: Broadcasting large task binary with size 9.6 MiB\n",
            "25/05/20 01:31:06 WARN DAGScheduler: Broadcasting large task binary with size 9.6 MiB\n",
            "25/05/20 01:31:09 WARN DAGScheduler: Broadcasting large task binary with size 9.6 MiB\n",
            "25/05/20 01:31:13 WARN DAGScheduler: Broadcasting large task binary with size 9.6 MiB\n",
            "25/05/20 01:31:16 WARN DAGScheduler: Broadcasting large task binary with size 9.6 MiB\n",
            "25/05/20 01:31:19 WARN DAGScheduler: Broadcasting large task binary with size 9.6 MiB\n",
            "25/05/20 01:31:22 WARN DAGScheduler: Broadcasting large task binary with size 9.6 MiB\n",
            "                                                                                00]\r"
          ]
        },
        {
          "name": "stdout",
          "output_type": "stream",
          "text": [
            "Current book ID: 399\n"
          ]
        },
        {
          "name": "stderr",
          "output_type": "stream",
          "text": [
            "25/05/20 01:31:31 WARN DAGScheduler: Broadcasting large task binary with size 9.6 MiB\n",
            "25/05/20 01:31:34 WARN DAGScheduler: Broadcasting large task binary with size 9.6 MiB\n",
            "25/05/20 01:31:35 WARN DAGScheduler: Broadcasting large task binary with size 9.6 MiB\n",
            "25/05/20 01:31:35 WARN DAGScheduler: Broadcasting large task binary with size 9.6 MiB\n",
            "25/05/20 01:31:36 WARN DAGScheduler: Broadcasting large task binary with size 9.6 MiB\n",
            "25/05/20 01:31:39 WARN DAGScheduler: Broadcasting large task binary with size 9.6 MiB\n",
            "25/05/20 01:31:41 WARN DAGScheduler: Broadcasting large task binary with size 9.6 MiB\n",
            "25/05/20 01:31:43 WARN DAGScheduler: Broadcasting large task binary with size 9.6 MiB\n",
            "25/05/20 01:31:46 WARN DAGScheduler: Broadcasting large task binary with size 9.6 MiB\n",
            "25/05/20 01:31:48 WARN DAGScheduler: Broadcasting large task binary with size 9.6 MiB\n",
            "                                                                                0]]\r"
          ]
        },
        {
          "name": "stdout",
          "output_type": "stream",
          "text": [
            "Current book ID: 101155\n"
          ]
        },
        {
          "name": "stderr",
          "output_type": "stream",
          "text": [
            "25/05/20 01:31:56 WARN DAGScheduler: Broadcasting large task binary with size 9.6 MiB\n",
            "25/05/20 01:31:58 WARN DAGScheduler: Broadcasting large task binary with size 9.6 MiB\n",
            "25/05/20 01:31:59 WARN DAGScheduler: Broadcasting large task binary with size 9.6 MiB\n",
            "25/05/20 01:31:59 WARN DAGScheduler: Broadcasting large task binary with size 9.6 MiB\n",
            "25/05/20 01:32:00 WARN DAGScheduler: Broadcasting large task binary with size 9.6 MiB\n",
            "25/05/20 01:32:02 WARN DAGScheduler: Broadcasting large task binary with size 9.6 MiB\n",
            "25/05/20 01:32:04 WARN DAGScheduler: Broadcasting large task binary with size 9.6 MiB\n",
            "25/05/20 01:32:06 WARN DAGScheduler: Broadcasting large task binary with size 9.6 MiB\n",
            "25/05/20 01:32:08 WARN DAGScheduler: Broadcasting large task binary with size 9.6 MiB\n",
            "25/05/20 01:32:10 WARN DAGScheduler: Broadcasting large task binary with size 9.6 MiB\n",
            "                                                                                0]]\r"
          ]
        },
        {
          "name": "stdout",
          "output_type": "stream",
          "text": [
            "Current book ID: 15652\n"
          ]
        },
        {
          "name": "stderr",
          "output_type": "stream",
          "text": [
            "25/05/20 01:32:18 WARN DAGScheduler: Broadcasting large task binary with size 9.6 MiB\n",
            "25/05/20 01:32:21 WARN DAGScheduler: Broadcasting large task binary with size 9.6 MiB\n",
            "25/05/20 01:32:21 WARN DAGScheduler: Broadcasting large task binary with size 9.6 MiB\n",
            "25/05/20 01:32:22 WARN DAGScheduler: Broadcasting large task binary with size 9.6 MiB\n",
            "25/05/20 01:32:22 WARN DAGScheduler: Broadcasting large task binary with size 9.6 MiB\n",
            "25/05/20 01:32:24 WARN DAGScheduler: Broadcasting large task binary with size 9.6 MiB\n",
            "25/05/20 01:32:26 WARN DAGScheduler: Broadcasting large task binary with size 9.6 MiB\n",
            "25/05/20 01:32:28 WARN DAGScheduler: Broadcasting large task binary with size 9.6 MiB\n",
            "25/05/20 01:32:30 WARN DAGScheduler: Broadcasting large task binary with size 9.6 MiB\n",
            "25/05/20 01:32:32 WARN DAGScheduler: Broadcasting large task binary with size 9.6 MiB\n",
            "                                                                                0]]\r"
          ]
        },
        {
          "name": "stdout",
          "output_type": "stream",
          "text": [
            "Current book ID: 232890\n"
          ]
        },
        {
          "name": "stderr",
          "output_type": "stream",
          "text": [
            "25/05/20 01:32:39 WARN DAGScheduler: Broadcasting large task binary with size 9.6 MiB\n",
            "25/05/20 01:32:42 WARN DAGScheduler: Broadcasting large task binary with size 9.6 MiB\n",
            "25/05/20 01:32:42 WARN DAGScheduler: Broadcasting large task binary with size 9.6 MiB\n",
            "25/05/20 01:32:43 WARN DAGScheduler: Broadcasting large task binary with size 9.6 MiB\n",
            "25/05/20 01:32:43 WARN DAGScheduler: Broadcasting large task binary with size 9.6 MiB\n",
            "25/05/20 01:32:45 WARN DAGScheduler: Broadcasting large task binary with size 9.6 MiB\n",
            "25/05/20 01:32:47 WARN DAGScheduler: Broadcasting large task binary with size 9.6 MiB\n",
            "25/05/20 01:32:49 WARN DAGScheduler: Broadcasting large task binary with size 9.6 MiB\n",
            "25/05/20 01:32:51 WARN DAGScheduler: Broadcasting large task binary with size 9.6 MiB\n",
            "25/05/20 01:32:55 WARN DAGScheduler: Broadcasting large task binary with size 9.6 MiB\n",
            "                                                                                00]\r"
          ]
        },
        {
          "name": "stdout",
          "output_type": "stream",
          "text": [
            "Current book ID: 13183\n"
          ]
        },
        {
          "name": "stderr",
          "output_type": "stream",
          "text": [
            "25/05/20 01:33:01 WARN DAGScheduler: Broadcasting large task binary with size 9.6 MiB\n",
            "25/05/20 01:33:04 WARN DAGScheduler: Broadcasting large task binary with size 9.6 MiB\n",
            "25/05/20 01:33:05 WARN DAGScheduler: Broadcasting large task binary with size 9.6 MiB\n",
            "25/05/20 01:33:06 WARN DAGScheduler: Broadcasting large task binary with size 9.6 MiB\n",
            "25/05/20 01:33:06 WARN DAGScheduler: Broadcasting large task binary with size 9.6 MiB\n",
            "25/05/20 01:33:08 WARN DAGScheduler: Broadcasting large task binary with size 9.6 MiB\n",
            "25/05/20 01:33:11 WARN DAGScheduler: Broadcasting large task binary with size 9.6 MiB\n",
            "25/05/20 01:33:12 WARN DAGScheduler: Broadcasting large task binary with size 9.6 MiB\n",
            "25/05/20 01:33:14 WARN DAGScheduler: Broadcasting large task binary with size 9.6 MiB\n",
            "25/05/20 01:33:17 WARN DAGScheduler: Broadcasting large task binary with size 9.6 MiB\n",
            "                                                                                00]\r"
          ]
        },
        {
          "name": "stdout",
          "output_type": "stream",
          "text": [
            "Current book ID: 399\n"
          ]
        },
        {
          "name": "stderr",
          "output_type": "stream",
          "text": [
            "25/05/20 01:33:24 WARN DAGScheduler: Broadcasting large task binary with size 9.6 MiB\n",
            "25/05/20 01:33:27 WARN DAGScheduler: Broadcasting large task binary with size 9.6 MiB\n",
            "25/05/20 01:33:28 WARN DAGScheduler: Broadcasting large task binary with size 9.6 MiB\n",
            "25/05/20 01:33:28 WARN DAGScheduler: Broadcasting large task binary with size 9.6 MiB\n",
            "25/05/20 01:33:29 WARN DAGScheduler: Broadcasting large task binary with size 9.6 MiB\n",
            "25/05/20 01:33:31 WARN DAGScheduler: Broadcasting large task binary with size 9.6 MiB\n",
            "25/05/20 01:33:33 WARN DAGScheduler: Broadcasting large task binary with size 9.6 MiB\n",
            "25/05/20 01:33:36 WARN DAGScheduler: Broadcasting large task binary with size 9.6 MiB\n",
            "25/05/20 01:33:37 WARN DAGScheduler: Broadcasting large task binary with size 9.6 MiB\n",
            "25/05/20 01:33:40 WARN DAGScheduler: Broadcasting large task binary with size 9.6 MiB\n",
            "                                                                                00]\r"
          ]
        },
        {
          "name": "stdout",
          "output_type": "stream",
          "text": [
            "Current book ID: 101155\n"
          ]
        },
        {
          "name": "stderr",
          "output_type": "stream",
          "text": [
            "25/05/20 01:33:47 WARN DAGScheduler: Broadcasting large task binary with size 9.6 MiB\n",
            "25/05/20 01:33:50 WARN DAGScheduler: Broadcasting large task binary with size 9.6 MiB\n",
            "25/05/20 01:33:50 WARN DAGScheduler: Broadcasting large task binary with size 9.6 MiB\n",
            "25/05/20 01:33:51 WARN DAGScheduler: Broadcasting large task binary with size 9.6 MiB\n",
            "25/05/20 01:33:52 WARN DAGScheduler: Broadcasting large task binary with size 9.6 MiB\n",
            "25/05/20 01:33:54 WARN DAGScheduler: Broadcasting large task binary with size 9.6 MiB\n",
            "25/05/20 01:33:57 WARN DAGScheduler: Broadcasting large task binary with size 9.6 MiB\n",
            "25/05/20 01:33:59 WARN DAGScheduler: Broadcasting large task binary with size 9.6 MiB\n",
            "25/05/20 01:34:02 WARN DAGScheduler: Broadcasting large task binary with size 9.6 MiB\n",
            "25/05/20 01:34:05 WARN DAGScheduler: Broadcasting large task binary with size 9.6 MiB\n",
            "                                                                                00]\r"
          ]
        },
        {
          "name": "stdout",
          "output_type": "stream",
          "text": [
            "Current book ID: 15652\n"
          ]
        },
        {
          "name": "stderr",
          "output_type": "stream",
          "text": [
            "25/05/20 01:34:12 WARN DAGScheduler: Broadcasting large task binary with size 9.6 MiB\n",
            "25/05/20 01:34:15 WARN DAGScheduler: Broadcasting large task binary with size 9.6 MiB\n",
            "25/05/20 01:34:15 WARN DAGScheduler: Broadcasting large task binary with size 9.6 MiB\n",
            "25/05/20 01:34:15 WARN DAGScheduler: Broadcasting large task binary with size 9.6 MiB\n",
            "25/05/20 01:34:16 WARN DAGScheduler: Broadcasting large task binary with size 9.6 MiB\n",
            "25/05/20 01:34:19 WARN DAGScheduler: Broadcasting large task binary with size 9.6 MiB\n",
            "25/05/20 01:34:22 WARN DAGScheduler: Broadcasting large task binary with size 9.6 MiB\n",
            "25/05/20 01:34:24 WARN DAGScheduler: Broadcasting large task binary with size 9.6 MiB\n",
            "25/05/20 01:34:26 WARN DAGScheduler: Broadcasting large task binary with size 9.6 MiB\n",
            "25/05/20 01:34:28 WARN DAGScheduler: Broadcasting large task binary with size 9.6 MiB\n",
            "                                                                                00]\r"
          ]
        },
        {
          "name": "stdout",
          "output_type": "stream",
          "text": [
            "Current book ID: 232890\n"
          ]
        },
        {
          "name": "stderr",
          "output_type": "stream",
          "text": [
            "25/05/20 01:34:36 WARN DAGScheduler: Broadcasting large task binary with size 9.6 MiB\n",
            "25/05/20 01:34:39 WARN DAGScheduler: Broadcasting large task binary with size 9.6 MiB\n",
            "25/05/20 01:34:39 WARN DAGScheduler: Broadcasting large task binary with size 9.6 MiB\n",
            "25/05/20 01:34:40 WARN DAGScheduler: Broadcasting large task binary with size 9.6 MiB\n",
            "25/05/20 01:34:40 WARN DAGScheduler: Broadcasting large task binary with size 9.6 MiB\n",
            "25/05/20 01:34:42 WARN DAGScheduler: Broadcasting large task binary with size 9.6 MiB\n",
            "25/05/20 01:34:45 WARN DAGScheduler: Broadcasting large task binary with size 9.6 MiB\n",
            "25/05/20 01:34:47 WARN DAGScheduler: Broadcasting large task binary with size 9.6 MiB\n",
            "25/05/20 01:34:49 WARN DAGScheduler: Broadcasting large task binary with size 9.6 MiB\n",
            "25/05/20 01:34:52 WARN DAGScheduler: Broadcasting large task binary with size 9.6 MiB\n",
            "25/05/20 01:34:58 WARN DAGScheduler: Broadcasting large task binary with size 9.6 MiB\n"
          ]
        },
        {
          "name": "stdout",
          "output_type": "stream",
          "text": [
            "Current book ID: 13183\n"
          ]
        },
        {
          "name": "stderr",
          "output_type": "stream",
          "text": [
            "25/05/20 01:35:01 WARN DAGScheduler: Broadcasting large task binary with size 9.6 MiB\n",
            "25/05/20 01:35:01 WARN DAGScheduler: Broadcasting large task binary with size 9.6 MiB\n",
            "25/05/20 01:35:02 WARN DAGScheduler: Broadcasting large task binary with size 9.6 MiB\n",
            "25/05/20 01:35:02 WARN DAGScheduler: Broadcasting large task binary with size 9.6 MiB\n",
            "25/05/20 01:35:04 WARN DAGScheduler: Broadcasting large task binary with size 9.6 MiB\n",
            "25/05/20 01:35:06 WARN DAGScheduler: Broadcasting large task binary with size 9.6 MiB\n",
            "25/05/20 01:35:09 WARN DAGScheduler: Broadcasting large task binary with size 9.6 MiB\n",
            "25/05/20 01:35:10 WARN DAGScheduler: Broadcasting large task binary with size 9.6 MiB\n",
            "25/05/20 01:35:12 WARN DAGScheduler: Broadcasting large task binary with size 9.6 MiB\n",
            "25/05/20 01:35:19 WARN DAGScheduler: Broadcasting large task binary with size 9.6 MiB\n"
          ]
        },
        {
          "name": "stdout",
          "output_type": "stream",
          "text": [
            "Current book ID: 399\n"
          ]
        },
        {
          "name": "stderr",
          "output_type": "stream",
          "text": [
            "25/05/20 01:35:22 WARN DAGScheduler: Broadcasting large task binary with size 9.6 MiB\n",
            "25/05/20 01:35:22 WARN DAGScheduler: Broadcasting large task binary with size 9.6 MiB\n",
            "25/05/20 01:35:23 WARN DAGScheduler: Broadcasting large task binary with size 9.6 MiB\n",
            "25/05/20 01:35:23 WARN DAGScheduler: Broadcasting large task binary with size 9.6 MiB\n",
            "25/05/20 01:35:25 WARN DAGScheduler: Broadcasting large task binary with size 9.6 MiB\n",
            "25/05/20 01:35:28 WARN DAGScheduler: Broadcasting large task binary with size 9.6 MiB\n",
            "25/05/20 01:35:31 WARN DAGScheduler: Broadcasting large task binary with size 9.6 MiB\n",
            "25/05/20 01:35:33 WARN DAGScheduler: Broadcasting large task binary with size 9.6 MiB\n",
            "25/05/20 01:35:34 WARN DAGScheduler: Broadcasting large task binary with size 9.6 MiB\n",
            "25/05/20 01:35:41 WARN DAGScheduler: Broadcasting large task binary with size 9.6 MiB\n"
          ]
        },
        {
          "name": "stdout",
          "output_type": "stream",
          "text": [
            "Current book ID: 101155\n"
          ]
        },
        {
          "name": "stderr",
          "output_type": "stream",
          "text": [
            "25/05/20 01:35:44 WARN DAGScheduler: Broadcasting large task binary with size 9.6 MiB\n",
            "25/05/20 01:35:44 WARN DAGScheduler: Broadcasting large task binary with size 9.6 MiB\n",
            "25/05/20 01:35:45 WARN DAGScheduler: Broadcasting large task binary with size 9.6 MiB\n",
            "25/05/20 01:35:45 WARN DAGScheduler: Broadcasting large task binary with size 9.6 MiB\n",
            "25/05/20 01:35:47 WARN DAGScheduler: Broadcasting large task binary with size 9.6 MiB\n",
            "25/05/20 01:35:49 WARN DAGScheduler: Broadcasting large task binary with size 9.6 MiB\n",
            "25/05/20 01:35:51 WARN DAGScheduler: Broadcasting large task binary with size 9.6 MiB\n",
            "25/05/20 01:35:53 WARN DAGScheduler: Broadcasting large task binary with size 9.6 MiB\n",
            "25/05/20 01:35:55 WARN DAGScheduler: Broadcasting large task binary with size 9.6 MiB\n",
            "                                                                                00]\r"
          ]
        },
        {
          "name": "stdout",
          "output_type": "stream",
          "text": [
            "Current book ID: 15652\n"
          ]
        },
        {
          "name": "stderr",
          "output_type": "stream",
          "text": [
            "25/05/20 01:36:02 WARN DAGScheduler: Broadcasting large task binary with size 9.6 MiB\n",
            "25/05/20 01:36:04 WARN DAGScheduler: Broadcasting large task binary with size 9.6 MiB\n",
            "25/05/20 01:36:05 WARN DAGScheduler: Broadcasting large task binary with size 9.6 MiB\n",
            "25/05/20 01:36:05 WARN DAGScheduler: Broadcasting large task binary with size 9.6 MiB\n",
            "25/05/20 01:36:06 WARN DAGScheduler: Broadcasting large task binary with size 9.6 MiB\n",
            "25/05/20 01:36:08 WARN DAGScheduler: Broadcasting large task binary with size 9.6 MiB\n",
            "25/05/20 01:36:10 WARN DAGScheduler: Broadcasting large task binary with size 9.6 MiB\n",
            "25/05/20 01:36:12 WARN DAGScheduler: Broadcasting large task binary with size 9.6 MiB\n",
            "25/05/20 01:36:15 WARN DAGScheduler: Broadcasting large task binary with size 9.6 MiB\n",
            "25/05/20 01:36:17 WARN DAGScheduler: Broadcasting large task binary with size 9.6 MiB\n",
            "                                                                                00]\r"
          ]
        },
        {
          "name": "stdout",
          "output_type": "stream",
          "text": [
            "Current book ID: 232890\n"
          ]
        },
        {
          "name": "stderr",
          "output_type": "stream",
          "text": [
            "25/05/20 01:36:24 WARN DAGScheduler: Broadcasting large task binary with size 9.6 MiB\n",
            "25/05/20 01:36:27 WARN DAGScheduler: Broadcasting large task binary with size 9.6 MiB\n",
            "25/05/20 01:36:27 WARN DAGScheduler: Broadcasting large task binary with size 9.6 MiB\n",
            "25/05/20 01:36:28 WARN DAGScheduler: Broadcasting large task binary with size 9.6 MiB\n",
            "25/05/20 01:36:28 WARN DAGScheduler: Broadcasting large task binary with size 9.6 MiB\n",
            "25/05/20 01:36:30 WARN DAGScheduler: Broadcasting large task binary with size 9.6 MiB\n",
            "25/05/20 01:36:33 WARN DAGScheduler: Broadcasting large task binary with size 9.6 MiB\n",
            "25/05/20 01:36:36 WARN DAGScheduler: Broadcasting large task binary with size 9.6 MiB\n",
            "25/05/20 01:36:38 WARN DAGScheduler: Broadcasting large task binary with size 9.6 MiB\n",
            "25/05/20 01:36:40 WARN DAGScheduler: Broadcasting large task binary with size 9.6 MiB\n",
            "                                                                                00]\r"
          ]
        },
        {
          "name": "stdout",
          "output_type": "stream",
          "text": [
            "Current book ID: 13183\n"
          ]
        },
        {
          "name": "stderr",
          "output_type": "stream",
          "text": [
            "25/05/20 01:36:47 WARN DAGScheduler: Broadcasting large task binary with size 9.6 MiB\n",
            "25/05/20 01:36:49 WARN DAGScheduler: Broadcasting large task binary with size 9.6 MiB\n",
            "25/05/20 01:36:50 WARN DAGScheduler: Broadcasting large task binary with size 9.6 MiB\n",
            "25/05/20 01:36:51 WARN DAGScheduler: Broadcasting large task binary with size 9.6 MiB\n",
            "25/05/20 01:36:51 WARN DAGScheduler: Broadcasting large task binary with size 9.6 MiB\n",
            "25/05/20 01:36:53 WARN DAGScheduler: Broadcasting large task binary with size 9.6 MiB\n",
            "25/05/20 01:36:55 WARN DAGScheduler: Broadcasting large task binary with size 9.6 MiB\n",
            "25/05/20 01:36:57 WARN DAGScheduler: Broadcasting large task binary with size 9.6 MiB\n",
            "25/05/20 01:36:58 WARN DAGScheduler: Broadcasting large task binary with size 9.6 MiB\n",
            "25/05/20 01:37:00 WARN DAGScheduler: Broadcasting large task binary with size 9.6 MiB\n",
            "[Stage 19071:===========================================>      (175 + 11) / 200]0]]\r"
          ]
        },
        {
          "name": "stdout",
          "output_type": "stream",
          "text": [
            "Current book ID: 399\n"
          ]
        },
        {
          "name": "stderr",
          "output_type": "stream",
          "text": [
            "25/05/20 01:37:06 WARN DAGScheduler: Broadcasting large task binary with size 9.6 MiB\n",
            "25/05/20 01:37:09 WARN DAGScheduler: Broadcasting large task binary with size 9.6 MiB\n",
            "25/05/20 01:37:09 WARN DAGScheduler: Broadcasting large task binary with size 9.6 MiB\n",
            "25/05/20 01:37:10 WARN DAGScheduler: Broadcasting large task binary with size 9.6 MiB\n",
            "25/05/20 01:37:10 WARN DAGScheduler: Broadcasting large task binary with size 9.6 MiB\n",
            "25/05/20 01:37:13 WARN DAGScheduler: Broadcasting large task binary with size 9.6 MiB\n",
            "25/05/20 01:37:15 WARN DAGScheduler: Broadcasting large task binary with size 9.6 MiB\n",
            "25/05/20 01:37:17 WARN DAGScheduler: Broadcasting large task binary with size 9.6 MiB\n",
            "25/05/20 01:37:19 WARN DAGScheduler: Broadcasting large task binary with size 9.6 MiB\n",
            "25/05/20 01:37:22 WARN DAGScheduler: Broadcasting large task binary with size 9.6 MiB\n",
            "                                                                                00]\r"
          ]
        },
        {
          "name": "stdout",
          "output_type": "stream",
          "text": [
            "Current book ID: 101155\n"
          ]
        },
        {
          "name": "stderr",
          "output_type": "stream",
          "text": [
            "25/05/20 01:37:29 WARN DAGScheduler: Broadcasting large task binary with size 9.6 MiB\n",
            "25/05/20 01:37:31 WARN DAGScheduler: Broadcasting large task binary with size 9.6 MiB\n",
            "25/05/20 01:37:31 WARN DAGScheduler: Broadcasting large task binary with size 9.6 MiB\n",
            "25/05/20 01:37:32 WARN DAGScheduler: Broadcasting large task binary with size 9.6 MiB\n",
            "25/05/20 01:37:33 WARN DAGScheduler: Broadcasting large task binary with size 9.6 MiB\n",
            "25/05/20 01:37:35 WARN DAGScheduler: Broadcasting large task binary with size 9.6 MiB\n",
            "25/05/20 01:37:37 WARN DAGScheduler: Broadcasting large task binary with size 9.6 MiB\n",
            "25/05/20 01:37:39 WARN DAGScheduler: Broadcasting large task binary with size 9.6 MiB\n",
            "25/05/20 01:37:41 WARN DAGScheduler: Broadcasting large task binary with size 9.6 MiB\n",
            "25/05/20 01:37:43 WARN DAGScheduler: Broadcasting large task binary with size 9.6 MiB\n",
            "                                                                                0]]\r"
          ]
        },
        {
          "name": "stdout",
          "output_type": "stream",
          "text": [
            "Current book ID: 15652\n"
          ]
        },
        {
          "name": "stderr",
          "output_type": "stream",
          "text": [
            "25/05/20 01:37:50 WARN DAGScheduler: Broadcasting large task binary with size 9.6 MiB\n",
            "25/05/20 01:37:52 WARN DAGScheduler: Broadcasting large task binary with size 9.6 MiB\n",
            "25/05/20 01:37:53 WARN DAGScheduler: Broadcasting large task binary with size 9.6 MiB\n",
            "25/05/20 01:37:53 WARN DAGScheduler: Broadcasting large task binary with size 9.6 MiB\n",
            "25/05/20 01:37:54 WARN DAGScheduler: Broadcasting large task binary with size 9.6 MiB\n",
            "25/05/20 01:37:56 WARN DAGScheduler: Broadcasting large task binary with size 9.6 MiB\n",
            "25/05/20 01:37:58 WARN DAGScheduler: Broadcasting large task binary with size 9.6 MiB\n",
            "25/05/20 01:38:00 WARN DAGScheduler: Broadcasting large task binary with size 9.6 MiB\n",
            "25/05/20 01:38:02 WARN DAGScheduler: Broadcasting large task binary with size 9.6 MiB\n",
            "25/05/20 01:38:04 WARN DAGScheduler: Broadcasting large task binary with size 9.6 MiB\n",
            "                                                                                00]\r"
          ]
        },
        {
          "name": "stdout",
          "output_type": "stream",
          "text": [
            "Current book ID: 232890\n"
          ]
        },
        {
          "name": "stderr",
          "output_type": "stream",
          "text": [
            "25/05/20 01:38:10 WARN DAGScheduler: Broadcasting large task binary with size 9.6 MiB\n",
            "25/05/20 01:38:12 WARN DAGScheduler: Broadcasting large task binary with size 9.6 MiB\n",
            "25/05/20 01:38:13 WARN DAGScheduler: Broadcasting large task binary with size 9.6 MiB\n",
            "25/05/20 01:38:13 WARN DAGScheduler: Broadcasting large task binary with size 9.6 MiB\n",
            "25/05/20 01:38:13 WARN DAGScheduler: Broadcasting large task binary with size 9.6 MiB\n",
            "25/05/20 01:38:16 WARN DAGScheduler: Broadcasting large task binary with size 9.6 MiB\n",
            "25/05/20 01:38:18 WARN DAGScheduler: Broadcasting large task binary with size 9.6 MiB\n",
            "25/05/20 01:38:20 WARN DAGScheduler: Broadcasting large task binary with size 9.6 MiB\n",
            "25/05/20 01:38:22 WARN DAGScheduler: Broadcasting large task binary with size 9.6 MiB\n",
            "25/05/20 01:38:24 WARN DAGScheduler: Broadcasting large task binary with size 9.6 MiB\n",
            "[Stage 20466:================================================>  (192 + 8) / 200]0]]\r"
          ]
        },
        {
          "name": "stdout",
          "output_type": "stream",
          "text": [
            "Current book ID: 13183\n"
          ]
        },
        {
          "name": "stderr",
          "output_type": "stream",
          "text": [
            "25/05/20 01:38:30 WARN DAGScheduler: Broadcasting large task binary with size 9.6 MiB\n",
            "25/05/20 01:38:33 WARN DAGScheduler: Broadcasting large task binary with size 9.6 MiB\n",
            "25/05/20 01:38:33 WARN DAGScheduler: Broadcasting large task binary with size 9.6 MiB\n",
            "25/05/20 01:38:33 WARN DAGScheduler: Broadcasting large task binary with size 9.6 MiB\n",
            "25/05/20 01:38:34 WARN DAGScheduler: Broadcasting large task binary with size 9.6 MiB\n",
            "25/05/20 01:38:36 WARN DAGScheduler: Broadcasting large task binary with size 9.6 MiB\n",
            "25/05/20 01:38:37 WARN DAGScheduler: Broadcasting large task binary with size 9.6 MiB\n",
            "25/05/20 01:38:39 WARN DAGScheduler: Broadcasting large task binary with size 9.6 MiB\n",
            "25/05/20 01:38:41 WARN DAGScheduler: Broadcasting large task binary with size 9.6 MiB\n",
            "25/05/20 01:38:43 WARN DAGScheduler: Broadcasting large task binary with size 9.6 MiB\n",
            "[Stage 20805:=============================================>    (181 + 10) / 200]0]]\r"
          ]
        },
        {
          "name": "stdout",
          "output_type": "stream",
          "text": [
            "Current book ID: 399\n"
          ]
        },
        {
          "name": "stderr",
          "output_type": "stream",
          "text": [
            "25/05/20 01:38:48 WARN DAGScheduler: Broadcasting large task binary with size 9.6 MiB\n",
            "25/05/20 01:38:51 WARN DAGScheduler: Broadcasting large task binary with size 9.6 MiB\n",
            "25/05/20 01:38:51 WARN DAGScheduler: Broadcasting large task binary with size 9.6 MiB\n",
            "25/05/20 01:38:52 WARN DAGScheduler: Broadcasting large task binary with size 9.6 MiB\n",
            "25/05/20 01:38:52 WARN DAGScheduler: Broadcasting large task binary with size 9.6 MiB\n",
            "25/05/20 01:38:54 WARN DAGScheduler: Broadcasting large task binary with size 9.6 MiB\n",
            "25/05/20 01:38:56 WARN DAGScheduler: Broadcasting large task binary with size 9.6 MiB\n",
            "25/05/20 01:38:58 WARN DAGScheduler: Broadcasting large task binary with size 9.6 MiB\n",
            "25/05/20 01:39:00 WARN DAGScheduler: Broadcasting large task binary with size 9.6 MiB\n",
            "25/05/20 01:39:02 WARN DAGScheduler: Broadcasting large task binary with size 9.6 MiB\n",
            "                                                                                00]\r"
          ]
        },
        {
          "name": "stdout",
          "output_type": "stream",
          "text": [
            "Current book ID: 101155\n"
          ]
        },
        {
          "name": "stderr",
          "output_type": "stream",
          "text": [
            "25/05/20 01:39:07 WARN DAGScheduler: Broadcasting large task binary with size 9.6 MiB\n",
            "25/05/20 01:39:10 WARN DAGScheduler: Broadcasting large task binary with size 9.6 MiB\n",
            "25/05/20 01:39:10 WARN DAGScheduler: Broadcasting large task binary with size 9.6 MiB\n",
            "25/05/20 01:39:11 WARN DAGScheduler: Broadcasting large task binary with size 9.6 MiB\n",
            "25/05/20 01:39:11 WARN DAGScheduler: Broadcasting large task binary with size 9.6 MiB\n",
            "25/05/20 01:39:13 WARN DAGScheduler: Broadcasting large task binary with size 9.6 MiB\n",
            "25/05/20 01:39:15 WARN DAGScheduler: Broadcasting large task binary with size 9.6 MiB\n",
            "25/05/20 01:39:17 WARN DAGScheduler: Broadcasting large task binary with size 9.6 MiB\n",
            "25/05/20 01:39:19 WARN DAGScheduler: Broadcasting large task binary with size 9.6 MiB\n",
            "25/05/20 01:39:22 WARN DAGScheduler: Broadcasting large task binary with size 9.6 MiB\n",
            "                                                                                0]]\r"
          ]
        },
        {
          "name": "stdout",
          "output_type": "stream",
          "text": [
            "Current book ID: 15652\n"
          ]
        },
        {
          "name": "stderr",
          "output_type": "stream",
          "text": [
            "25/05/20 01:39:28 WARN DAGScheduler: Broadcasting large task binary with size 9.6 MiB\n",
            "25/05/20 01:39:31 WARN DAGScheduler: Broadcasting large task binary with size 9.6 MiB\n",
            "25/05/20 01:39:32 WARN DAGScheduler: Broadcasting large task binary with size 9.6 MiB\n",
            "25/05/20 01:39:32 WARN DAGScheduler: Broadcasting large task binary with size 9.6 MiB\n",
            "25/05/20 01:39:33 WARN DAGScheduler: Broadcasting large task binary with size 9.6 MiB\n",
            "25/05/20 01:39:35 WARN DAGScheduler: Broadcasting large task binary with size 9.6 MiB\n",
            "25/05/20 01:39:37 WARN DAGScheduler: Broadcasting large task binary with size 9.6 MiB\n",
            "25/05/20 01:39:39 WARN DAGScheduler: Broadcasting large task binary with size 9.6 MiB\n",
            "25/05/20 01:39:41 WARN DAGScheduler: Broadcasting large task binary with size 9.6 MiB\n",
            "25/05/20 01:39:43 WARN DAGScheduler: Broadcasting large task binary with size 9.6 MiB\n",
            "[Stage 21848:=========================================>        (167 + 10) / 200]00]\r"
          ]
        },
        {
          "name": "stdout",
          "output_type": "stream",
          "text": [
            "\n",
            "Finished generating recommendations\n",
            "\n",
            "Sample of recommendations:\n",
            "         ISBN                 Book-Title   Book-Author  ALS_Rating  \\\n",
            "0  0971880107                Wild Animus  Rich Shapero    0.313709   \n",
            "1  0385504209          The Da Vinci Code     Dan Brown    0.209253   \n",
            "2  0316666343  The Lovely Bones: A Novel  Alice Sebold    0.242539   \n",
            "3  0971880107                Wild Animus  Rich Shapero    0.313709   \n",
            "4  0385504209          The Da Vinci Code     Dan Brown    0.209253   \n",
            "\n",
            "   Similarity  Final_Score  Source_User Source_Book  \n",
            "0    0.950468     0.504737          243  0870114247  \n",
            "1    0.889888     0.413444          243  0870114247  \n",
            "2    0.736475     0.390720          243  0870114247  \n",
            "3    0.960509     0.507749          243  0140440488  \n",
            "4    0.865673     0.406179          243  0140440488  \n"
          ]
        },
        {
          "name": "stderr",
          "output_type": "stream",
          "text": [
            "                                                                                \r"
          ]
        }
      ],
      "source": [
        "# Get 50 random users and books for testing\n",
        "random_users = ratings_spark_df.select(\"User-ID\").distinct().limit(5)\n",
        "random_books = ratings_spark_df.select(\"ISBN\").distinct().limit(5)\n",
        "\n",
        "# Collect the users and books as lists\n",
        "user_list = [row[\"User-ID\"] for row in random_users.collect()]\n",
        "book_list = [row[\"ISBN\"] for row in random_books.collect()]\n",
        "\n",
        "print(\"Generating recommendations for 50 users and 50 books...\")\n",
        "\n",
        "# Initialize empty lists to store results\n",
        "all_recommendations = []\n",
        "\n",
        "# Generate recommendations for each user-book pair\n",
        "for user in user_list:\n",
        "    for book in book_list:\n",
        "        try:\n",
        "            # Get recommendations\n",
        "            recs = get_reranked_recommendations(user, book, num_recommendations=5)\n",
        "            if recs:\n",
        "                # Convert to pandas and add source user/book info\n",
        "                recs_pd = recs.toPandas()\n",
        "                recs_pd['Source_User'] = user\n",
        "                recs_pd['Source_Book'] = book\n",
        "                all_recommendations.append(recs_pd)\n",
        "                \n",
        "        except Exception as e:\n",
        "            print(f\"Error getting recommendations for user {user}, book {book}: {str(e)}\")\n",
        "            continue\n",
        "\n",
        "print(\"\\nFinished generating recommendations\")\n",
        "\n",
        "# Combine all results\n",
        "if all_recommendations:\n",
        "    all_recs_df = pd.concat(all_recommendations, ignore_index=True)\n",
        "    print(\"\\nSample of recommendations:\")\n",
        "    print(all_recs_df.head())\n",
        "else:\n",
        "    print(\"No recommendations were generated successfully\")\n"
      ]
    },
    {
      "cell_type": "code",
      "execution_count": 72,
      "metadata": {},
      "outputs": [
        {
          "name": "stdout",
          "output_type": "stream",
          "text": [
            "          ISBN                 Book-Title       Book-Author  ALS_Rating  \\\n",
            "0   0971880107                Wild Animus      Rich Shapero    0.313709   \n",
            "1   0385504209          The Da Vinci Code         Dan Brown    0.209253   \n",
            "2   0316666343  The Lovely Bones: A Novel      Alice Sebold    0.242539   \n",
            "3   0971880107                Wild Animus      Rich Shapero    0.313709   \n",
            "4   0385504209          The Da Vinci Code         Dan Brown    0.209253   \n",
            "..         ...                        ...               ...         ...   \n",
            "82  044021145X                   The Firm      John Grisham    0.029641   \n",
            "83  0440214041          The Pelican Brief      John Grisham    0.031580   \n",
            "84  0440211727             A Time to Kill      JOHN GRISHAM    0.033835   \n",
            "85  0440213525                 The Client      John Grisham    0.027104   \n",
            "86  0345370775              Jurassic Park  Michael Crichton    0.029287   \n",
            "\n",
            "    Similarity  Final_Score  Source_User Source_Book  \n",
            "0     0.950468     0.504737          243  0870114247  \n",
            "1     0.889888     0.413444          243  0870114247  \n",
            "2     0.736475     0.390720          243  0870114247  \n",
            "3     0.960509     0.507749          243  0140440488  \n",
            "4     0.865673     0.406179          243  0140440488  \n",
            "..         ...          ...          ...         ...  \n",
            "82    0.551385     0.186164          876  0399143955  \n",
            "83    0.510129     0.175145          876  0399143955  \n",
            "84    0.460855     0.161941          876  0399143955  \n",
            "85    0.383313     0.133967          876  0399143955  \n",
            "86    0.320446     0.116635          876  0399143955  \n",
            "\n",
            "[87 rows x 8 columns]\n"
          ]
        }
      ],
      "source": [
        "print(all_recs_df)"
      ]
    },
    {
      "cell_type": "code",
      "execution_count": 73,
      "metadata": {},
      "outputs": [],
      "source": [
        "all_recs_df.to_csv(\"reranked_recommendations.csv\", index=False)"
      ]
    },
    {
      "cell_type": "code",
      "execution_count": 75,
      "metadata": {},
      "outputs": [],
      "source": [
        "import pickle\n",
        "pickle.dump(all_recs_df, open('reranked_recommendations.pkl', 'wb'))"
      ]
    },
    {
      "cell_type": "markdown",
      "metadata": {},
      "source": [
        "### With implicit data"
      ]
    }
  ],
  "metadata": {
    "colab": {
      "collapsed_sections": [
        "pcR-a0EyTARl",
        "YYV29B09Tz72",
        "IO_rAM6WVc-p"
      ],
      "provenance": []
    },
    "kernelspec": {
      "display_name": "Python 3",
      "name": "python3"
    },
    "language_info": {
      "codemirror_mode": {
        "name": "ipython",
        "version": 3
      },
      "file_extension": ".py",
      "mimetype": "text/x-python",
      "name": "python",
      "nbconvert_exporter": "python",
      "pygments_lexer": "ipython3",
      "version": "3.10.10"
    }
  },
  "nbformat": 4,
  "nbformat_minor": 0
}
